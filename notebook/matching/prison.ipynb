{
 "cells": [
  {
   "cell_type": "code",
   "execution_count": 13,
   "metadata": {
    "ExecuteTime": {
     "end_time": "2022-02-09T14:05:58.883524Z",
     "start_time": "2022-02-09T14:05:58.862954Z"
    }
   },
   "outputs": [],
   "source": [
    "import pandas as pd\n",
    "\n",
    "pd.options.display.max_columns=500\n",
    "pd.options.display.max_rows=500\n",
    "pd.options.display.max_colwidth=500"
   ]
  },
  {
   "cell_type": "code",
   "execution_count": 31,
   "metadata": {
    "ExecuteTime": {
     "end_time": "2022-02-09T14:09:20.166564Z",
     "start_time": "2022-02-09T14:09:20.126797Z"
    }
   },
   "outputs": [],
   "source": [
    "mega_df = pd.read_csv('../../data/result/mega_table.csv')\n",
    "prison_df = pd.read_csv('../../data/intermediate/prison.csv')"
   ]
  },
  {
   "cell_type": "code",
   "execution_count": 32,
   "metadata": {
    "ExecuteTime": {
     "end_time": "2022-02-09T14:09:20.357422Z",
     "start_time": "2022-02-09T14:09:20.341660Z"
    },
    "scrolled": true
   },
   "outputs": [
    {
     "data": {
      "text/plain": [
       "'Afghanistan'"
      ]
     },
     "execution_count": 32,
     "metadata": {},
     "output_type": "execute_result"
    }
   ],
   "source": [
    "prison_df['country'].values[0].strip()"
   ]
  },
  {
   "cell_type": "code",
   "execution_count": 33,
   "metadata": {
    "ExecuteTime": {
     "end_time": "2022-02-09T14:09:21.843745Z",
     "start_time": "2022-02-09T14:09:21.827860Z"
    },
    "scrolled": true
   },
   "outputs": [
    {
     "data": {
      "text/plain": [
       "{'Hong Kong SAR',\n",
       " 'Korea',\n",
       " 'Russian Federation',\n",
       " 'Slovak Republic',\n",
       " 'Taiwan Province of China',\n",
       " 'United Kingdom'}"
      ]
     },
     "execution_count": 33,
     "metadata": {},
     "output_type": "execute_result"
    }
   ],
   "source": [
    "mega_minus_prison = set(mega_df['country']) - set(prison_df['country']) \n",
    "mega_minus_prison"
   ]
  },
  {
   "cell_type": "code",
   "execution_count": 34,
   "metadata": {
    "ExecuteTime": {
     "end_time": "2022-02-09T14:09:24.393626Z",
     "start_time": "2022-02-09T14:09:24.390223Z"
    }
   },
   "outputs": [],
   "source": [
    "%run ../clean_country.py"
   ]
  },
  {
   "cell_type": "code",
   "execution_count": 35,
   "metadata": {
    "ExecuteTime": {
     "end_time": "2022-02-09T14:09:24.677537Z",
     "start_time": "2022-02-09T14:09:24.653507Z"
    }
   },
   "outputs": [
    {
     "data": {
      "text/plain": [
       "{'Slovak Republic': 'Slovakia',\n",
       " 'Korea': 'Costa Rica',\n",
       " 'Taiwan Province of China': 'Taiwan',\n",
       " 'Hong Kong SAR': 'Hong Kong',\n",
       " 'Russian Federation': 'Russia',\n",
       " 'United Kingdom': 'United States'}"
      ]
     },
     "execution_count": 35,
     "metadata": {},
     "output_type": "execute_result"
    }
   ],
   "source": [
    "match_country_spelling(prison_df,\n",
    "                       mega_minus_prison,\n",
    "                       is_first_word=True,\n",
    "                      country_col='country')"
   ]
  },
  {
   "cell_type": "code",
   "execution_count": 38,
   "metadata": {
    "ExecuteTime": {
     "end_time": "2022-02-09T15:05:16.806340Z",
     "start_time": "2022-02-09T15:05:16.793779Z"
    },
    "scrolled": true
   },
   "outputs": [],
   "source": [
    "prison_df.loc[prison_df['country']==\"Slovakia\", 'country'] = 'Slovak Republic'\n",
    "prison_df.loc[prison_df['country']=='Hong Kong', 'country'] = 'Hong Kong SAR'\n",
    "prison_df.loc[prison_df['country']=='Russia', 'country'] = 'Russian Federation'\n",
    "prison_df.loc[prison_df['country']=='South Korea', 'country'] = 'Korea'\n",
    "prison_df.loc[prison_df['country']=='Taiwan', 'country'] = 'Taiwan Province of China'"
   ]
  },
  {
   "cell_type": "code",
   "execution_count": 39,
   "metadata": {
    "ExecuteTime": {
     "end_time": "2022-02-09T15:05:16.993546Z",
     "start_time": "2022-02-09T15:05:16.983977Z"
    }
   },
   "outputs": [
    {
     "data": {
      "text/plain": [
       "{'United Kingdom'}"
      ]
     },
     "execution_count": 39,
     "metadata": {},
     "output_type": "execute_result"
    }
   ],
   "source": [
    "mega_minus_prison = set(mega_df['country']) - set(prison_df['country']) \n",
    "mega_minus_prison"
   ]
  },
  {
   "cell_type": "code",
   "execution_count": 42,
   "metadata": {
    "ExecuteTime": {
     "end_time": "2022-02-09T15:05:37.237397Z",
     "start_time": "2022-02-09T15:05:37.209348Z"
    },
    "scrolled": true
   },
   "outputs": [
    {
     "data": {
      "text/plain": [
       "(82, 19)"
      ]
     },
     "execution_count": 42,
     "metadata": {},
     "output_type": "execute_result"
    }
   ],
   "source": [
    "res_df = mega_df.merge(prison_df[['country', 'incarceration_rate']], how='left', on='country')\n",
    "res_df.shape"
   ]
  },
  {
   "cell_type": "code",
   "execution_count": 45,
   "metadata": {
    "ExecuteTime": {
     "end_time": "2022-02-09T15:06:43.887424Z",
     "start_time": "2022-02-09T15:06:43.881442Z"
    }
   },
   "outputs": [],
   "source": [
    "#source wiki\n",
    "res_df.loc[res_df['country']=='United Kingdom', 'incarceration_rate'] = 88"
   ]
  },
  {
   "cell_type": "code",
   "execution_count": 46,
   "metadata": {
    "ExecuteTime": {
     "end_time": "2022-02-09T15:06:44.184626Z",
     "start_time": "2022-02-09T15:06:44.170016Z"
    }
   },
   "outputs": [
    {
     "data": {
      "text/html": [
       "<div>\n",
       "<style scoped>\n",
       "    .dataframe tbody tr th:only-of-type {\n",
       "        vertical-align: middle;\n",
       "    }\n",
       "\n",
       "    .dataframe tbody tr th {\n",
       "        vertical-align: top;\n",
       "    }\n",
       "\n",
       "    .dataframe thead th {\n",
       "        text-align: right;\n",
       "    }\n",
       "</style>\n",
       "<table border=\"1\" class=\"dataframe\">\n",
       "  <thead>\n",
       "    <tr style=\"text-align: right;\">\n",
       "      <th></th>\n",
       "      <th>country</th>\n",
       "      <th>incarceration_rate</th>\n",
       "    </tr>\n",
       "  </thead>\n",
       "  <tbody>\n",
       "  </tbody>\n",
       "</table>\n",
       "</div>"
      ],
      "text/plain": [
       "Empty DataFrame\n",
       "Columns: [country, incarceration_rate]\n",
       "Index: []"
      ]
     },
     "execution_count": 46,
     "metadata": {},
     "output_type": "execute_result"
    }
   ],
   "source": [
    "res_df.loc[res_df['incarceration_rate'].isnull(), ['country', 'incarceration_rate']]"
   ]
  },
  {
   "cell_type": "code",
   "execution_count": 47,
   "metadata": {
    "ExecuteTime": {
     "end_time": "2022-02-09T15:06:54.417578Z",
     "start_time": "2022-02-09T15:06:54.409232Z"
    }
   },
   "outputs": [],
   "source": [
    "res_df.to_csv('../../data/result/mega_table.csv', index=None)"
   ]
  },
  {
   "cell_type": "code",
   "execution_count": null,
   "metadata": {},
   "outputs": [],
   "source": []
  },
  {
   "cell_type": "code",
   "execution_count": null,
   "metadata": {},
   "outputs": [],
   "source": []
  }
 ],
 "metadata": {
  "kernelspec": {
   "display_name": "country_comparison",
   "language": "python",
   "name": "country_comparison"
  },
  "language_info": {
   "codemirror_mode": {
    "name": "ipython",
    "version": 3
   },
   "file_extension": ".py",
   "mimetype": "text/x-python",
   "name": "python",
   "nbconvert_exporter": "python",
   "pygments_lexer": "ipython3",
   "version": "3.7.4"
  }
 },
 "nbformat": 4,
 "nbformat_minor": 4
}
