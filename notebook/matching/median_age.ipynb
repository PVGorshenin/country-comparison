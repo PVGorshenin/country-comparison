{
 "cells": [
  {
   "cell_type": "code",
   "execution_count": 2,
   "metadata": {
    "ExecuteTime": {
     "end_time": "2022-01-31T16:51:34.895648Z",
     "start_time": "2022-01-31T16:51:34.645120Z"
    }
   },
   "outputs": [],
   "source": [
    "import pandas as pd\n",
    "\n",
    "pd.options.display.max_columns=500\n",
    "pd.options.display.max_rows=500\n",
    "pd.options.display.max_colwidth=500"
   ]
  },
  {
   "cell_type": "code",
   "execution_count": 3,
   "metadata": {
    "ExecuteTime": {
     "end_time": "2022-01-31T16:51:34.905468Z",
     "start_time": "2022-01-31T16:51:34.896973Z"
    }
   },
   "outputs": [],
   "source": [
    "mega_df = pd.read_csv('../../data/result/mega_table.csv')\n",
    "age_df = pd.read_csv('../../data/intermediate/median_age_short.csv')"
   ]
  },
  {
   "cell_type": "code",
   "execution_count": 4,
   "metadata": {
    "ExecuteTime": {
     "end_time": "2022-01-31T16:51:38.486516Z",
     "start_time": "2022-01-31T16:51:38.446670Z"
    }
   },
   "outputs": [
    {
     "data": {
      "text/html": [
       "<div>\n",
       "<style scoped>\n",
       "    .dataframe tbody tr th:only-of-type {\n",
       "        vertical-align: middle;\n",
       "    }\n",
       "\n",
       "    .dataframe tbody tr th {\n",
       "        vertical-align: top;\n",
       "    }\n",
       "\n",
       "    .dataframe thead th {\n",
       "        text-align: right;\n",
       "    }\n",
       "</style>\n",
       "<table border=\"1\" class=\"dataframe\">\n",
       "  <thead>\n",
       "    <tr style=\"text-align: right;\">\n",
       "      <th></th>\n",
       "      <th>country</th>\n",
       "      <th>distance_to_30_years</th>\n",
       "    </tr>\n",
       "  </thead>\n",
       "  <tbody>\n",
       "    <tr>\n",
       "      <th>0</th>\n",
       "      <td>Burundi</td>\n",
       "      <td>12.68</td>\n",
       "    </tr>\n",
       "    <tr>\n",
       "      <th>1</th>\n",
       "      <td>Comoros</td>\n",
       "      <td>9.63</td>\n",
       "    </tr>\n",
       "  </tbody>\n",
       "</table>\n",
       "</div>"
      ],
      "text/plain": [
       "   country  distance_to_30_years\n",
       "0  Burundi                 12.68\n",
       "1  Comoros                  9.63"
      ]
     },
     "execution_count": 4,
     "metadata": {},
     "output_type": "execute_result"
    }
   ],
   "source": [
    "age_df.head(2)"
   ]
  },
  {
   "cell_type": "code",
   "execution_count": 5,
   "metadata": {
    "ExecuteTime": {
     "end_time": "2022-01-31T16:51:58.313393Z",
     "start_time": "2022-01-31T16:51:58.308764Z"
    }
   },
   "outputs": [
    {
     "data": {
      "text/plain": [
       "{'Czech Republic',\n",
       " 'Hong Kong SAR',\n",
       " 'Iran',\n",
       " 'Korea',\n",
       " 'Slovak Republic',\n",
       " 'Taiwan Province of China',\n",
       " 'United States',\n",
       " 'Vietnam'}"
      ]
     },
     "execution_count": 5,
     "metadata": {},
     "output_type": "execute_result"
    }
   ],
   "source": [
    "mega_minus_age = set(mega_df['country']) - set(age_df['country']) \n",
    "mega_minus_age"
   ]
  },
  {
   "cell_type": "code",
   "execution_count": 6,
   "metadata": {
    "ExecuteTime": {
     "end_time": "2022-01-31T16:52:03.363341Z",
     "start_time": "2022-01-31T16:52:03.354479Z"
    }
   },
   "outputs": [],
   "source": [
    "%run ../clean_country.py"
   ]
  },
  {
   "cell_type": "code",
   "execution_count": 7,
   "metadata": {
    "ExecuteTime": {
     "end_time": "2022-01-31T16:52:12.813462Z",
     "start_time": "2022-01-31T16:52:12.788424Z"
    }
   },
   "outputs": [
    {
     "data": {
      "text/plain": [
       "{'Iran': 'Iran (Islamic Republic of)',\n",
       " 'Korea': 'Tonga',\n",
       " 'Hong Kong SAR': 'Tonga',\n",
       " 'Taiwan Province of China': 'Thailand',\n",
       " 'Slovak Republic': 'Slovakia',\n",
       " 'Vietnam': 'Viet Nam',\n",
       " 'Czech Republic': 'Czechia',\n",
       " 'United States': 'United States Virgin Islands'}"
      ]
     },
     "execution_count": 7,
     "metadata": {},
     "output_type": "execute_result"
    }
   ],
   "source": [
    "match_country_spelling(age_df,\n",
    "                       mega_minus_age,\n",
    "                       is_first_word=True,\n",
    "                      country_col='country')"
   ]
  },
  {
   "cell_type": "code",
   "execution_count": 9,
   "metadata": {
    "ExecuteTime": {
     "end_time": "2022-01-31T16:53:58.331602Z",
     "start_time": "2022-01-31T16:53:58.314139Z"
    }
   },
   "outputs": [
    {
     "data": {
      "text/plain": [
       "{'Iran': 'Iraq',\n",
       " 'Korea': 'Tonga',\n",
       " 'Hong Kong SAR': 'China, Hong Kong SAR',\n",
       " 'Taiwan Province of China': 'China, Taiwan Province of China',\n",
       " 'Slovak Republic': 'Dominican Republic',\n",
       " 'Vietnam': 'Viet Nam',\n",
       " 'Czech Republic': 'Dominican Republic',\n",
       " 'United States': 'United Kingdom'}"
      ]
     },
     "execution_count": 9,
     "metadata": {},
     "output_type": "execute_result"
    }
   ],
   "source": [
    "match_country_spelling(age_df,\n",
    "                       mega_minus_age,\n",
    "                       is_first_word=False,\n",
    "                      country_col='country')"
   ]
  },
  {
   "cell_type": "code",
   "execution_count": 8,
   "metadata": {
    "ExecuteTime": {
     "end_time": "2022-01-31T16:52:54.974986Z",
     "start_time": "2022-01-31T16:52:54.960027Z"
    },
    "scrolled": true
   },
   "outputs": [
    {
     "data": {
      "text/plain": [
       "80                            Afghanistan\n",
       "180                               Albania\n",
       "50                                Algeria\n",
       "20                                 Angola\n",
       "108                   Antigua and Barbuda\n",
       "133                             Argentina\n",
       "57                                Armenia\n",
       "109                                 Aruba\n",
       "146                             Australia\n",
       "192                               Austria\n",
       "58                             Azerbaijan\n",
       "110                               Bahamas\n",
       "59                                Bahrain\n",
       "81                             Bangladesh\n",
       "111                              Barbados\n",
       "159                               Belarus\n",
       "193                               Belgium\n",
       "125                                Belize\n",
       "34                                  Benin\n",
       "82                                 Bhutan\n",
       "134      Bolivia (Plurinational State of)\n",
       "181                Bosnia and Herzegovina\n",
       "29                               Botswana\n",
       "135                                Brazil\n",
       "97                      Brunei Darussalam\n",
       "160                              Bulgaria\n",
       "35                           Burkina Faso\n",
       "0                                 Burundi\n",
       "36                             Cabo Verde\n",
       "98                               Cambodia\n",
       "21                               Cameroon\n",
       "199                                Canada\n",
       "22               Central African Republic\n",
       "23                                   Chad\n",
       "169                       Channel Islands\n",
       "136                                 Chile\n",
       "89                                  China\n",
       "90                   China, Hong Kong SAR\n",
       "91                       China, Macao SAR\n",
       "92        China, Taiwan Province of China\n",
       "137                              Colombia\n",
       "1                                 Comoros\n",
       "24                                  Congo\n",
       "126                            Costa Rica\n",
       "182                               Croatia\n",
       "112                                  Cuba\n",
       "113                               Curaçao\n",
       "60                                 Cyprus\n",
       "161                               Czechia\n",
       "37                          Côte d'Ivoire\n",
       "93        Dem. People's Republic of Korea\n",
       "25       Democratic Republic of the Congo\n",
       "170                               Denmark\n",
       "2                                Djibouti\n",
       "114                    Dominican Republic\n",
       "138                               Ecuador\n",
       "51                                  Egypt\n",
       "127                           El Salvador\n",
       "26                      Equatorial Guinea\n",
       "3                                 Eritrea\n",
       "171                               Estonia\n",
       "30                               Eswatini\n",
       "4                                Ethiopia\n",
       "148                                  Fiji\n",
       "172                               Finland\n",
       "194                                France\n",
       "139                         French Guiana\n",
       "156                      French Polynesia\n",
       "27                                  Gabon\n",
       "38                                 Gambia\n",
       "61                                Georgia\n",
       "195                               Germany\n",
       "39                                  Ghana\n",
       "183                                Greece\n",
       "115                               Grenada\n",
       "116                            Guadeloupe\n",
       "153                                  Guam\n",
       "128                             Guatemala\n",
       "40                                 Guinea\n",
       "41                          Guinea-Bissau\n",
       "140                                Guyana\n",
       "117                                 Haiti\n",
       "129                              Honduras\n",
       "162                               Hungary\n",
       "173                               Iceland\n",
       "83                                  India\n",
       "99                              Indonesia\n",
       "84             Iran (Islamic Republic of)\n",
       "62                                   Iraq\n",
       "174                               Ireland\n",
       "63                                 Israel\n",
       "184                                 Italy\n",
       "118                               Jamaica\n",
       "94                                  Japan\n",
       "64                                 Jordan\n",
       "75                             Kazakhstan\n",
       "5                                   Kenya\n",
       "154                              Kiribati\n",
       "65                                 Kuwait\n",
       "76                             Kyrgyzstan\n",
       "100      Lao People's Democratic Republic\n",
       "175                                Latvia\n",
       "66                                Lebanon\n",
       "31                                Lesotho\n",
       "42                                Liberia\n",
       "52                                  Libya\n",
       "176                             Lithuania\n",
       "196                            Luxembourg\n",
       "6                              Madagascar\n",
       "7                                  Malawi\n",
       "101                              Malaysia\n",
       "85                               Maldives\n",
       "43                                   Mali\n",
       "185                                 Malta\n",
       "119                            Martinique\n",
       "44                             Mauritania\n",
       "8                               Mauritius\n",
       "9                                 Mayotte\n",
       "130                                Mexico\n",
       "155           Micronesia (Fed. States of)\n",
       "95                               Mongolia\n",
       "186                            Montenegro\n",
       "53                                Morocco\n",
       "10                             Mozambique\n",
       "102                               Myanmar\n",
       "32                                Namibia\n",
       "86                                  Nepal\n",
       "197                           Netherlands\n",
       "149                         New Caledonia\n",
       "147                           New Zealand\n",
       "131                             Nicaragua\n",
       "45                                  Niger\n",
       "46                                Nigeria\n",
       "187                       North Macedonia\n",
       "177                                Norway\n",
       "67                                   Oman\n",
       "87                               Pakistan\n",
       "132                                Panama\n",
       "150                      Papua New Guinea\n",
       "141                              Paraguay\n",
       "142                                  Peru\n",
       "103                           Philippines\n",
       "163                                Poland\n",
       "188                              Portugal\n",
       "120                           Puerto Rico\n",
       "68                                  Qatar\n",
       "96                      Republic of Korea\n",
       "164                   Republic of Moldova\n",
       "165                               Romania\n",
       "166                    Russian Federation\n",
       "12                                 Rwanda\n",
       "11                                Réunion\n",
       "121                           Saint Lucia\n",
       "122      Saint Vincent and the Grenadines\n",
       "157                                 Samoa\n",
       "28                  Sao Tome and Principe\n",
       "69                           Saudi Arabia\n",
       "47                                Senegal\n",
       "189                                Serbia\n",
       "13                             Seychelles\n",
       "48                           Sierra Leone\n",
       "104                             Singapore\n",
       "167                              Slovakia\n",
       "190                              Slovenia\n",
       "151                       Solomon Islands\n",
       "14                                Somalia\n",
       "33                           South Africa\n",
       "15                            South Sudan\n",
       "191                                 Spain\n",
       "88                              Sri Lanka\n",
       "70                     State of Palestine\n",
       "54                                  Sudan\n",
       "143                              Suriname\n",
       "178                                Sweden\n",
       "198                           Switzerland\n",
       "71                   Syrian Arab Republic\n",
       "77                             Tajikistan\n",
       "105                              Thailand\n",
       "106                           Timor-Leste\n",
       "49                                   Togo\n",
       "158                                 Tonga\n",
       "123                   Trinidad and Tobago\n",
       "55                                Tunisia\n",
       "72                                 Turkey\n",
       "78                           Turkmenistan\n",
       "16                                 Uganda\n",
       "168                               Ukraine\n",
       "73                   United Arab Emirates\n",
       "179                        United Kingdom\n",
       "17            United Republic of Tanzania\n",
       "124          United States Virgin Islands\n",
       "200              United States of America\n",
       "144                               Uruguay\n",
       "79                             Uzbekistan\n",
       "152                               Vanuatu\n",
       "145    Venezuela (Bolivarian Republic of)\n",
       "107                              Viet Nam\n",
       "56                         Western Sahara\n",
       "74                                  Yemen\n",
       "18                                 Zambia\n",
       "19                               Zimbabwe\n",
       "Name: country, dtype: object"
      ]
     },
     "execution_count": 8,
     "metadata": {},
     "output_type": "execute_result"
    }
   ],
   "source": [
    "age_df['country'].sort_values()"
   ]
  },
  {
   "cell_type": "code",
   "execution_count": 19,
   "metadata": {
    "ExecuteTime": {
     "end_time": "2022-01-31T17:00:09.839251Z",
     "start_time": "2022-01-31T17:00:09.804382Z"
    }
   },
   "outputs": [],
   "source": [
    "age_df.loc[age_df['country']=='Iran (Islamic Republic of)', 'country'] = 'Iran'\n",
    "age_df.loc[age_df['country']=='Republic of Korea', 'country'] = 'Korea'\n",
    "age_df.loc[age_df['country']=='China, Hong Kong SAR', 'country'] = 'Hong Kong SAR'\n",
    "age_df.loc[age_df['country']=='China, Taiwan Province of China', 'country'] = 'Taiwan Province of China'\n",
    "age_df.loc[age_df['country']=='Slovakia', 'country'] = 'Slovak Republic'\n",
    "age_df.loc[age_df['country']=='Czechia', 'country'] = 'Czech Republic'\n",
    "age_df.loc[age_df['country']=='Viet Nam', 'country'] = 'Vietnam'\n",
    "age_df.loc[age_df['country']=='United States of America', 'country'] = 'United States'"
   ]
  },
  {
   "cell_type": "code",
   "execution_count": 20,
   "metadata": {
    "ExecuteTime": {
     "end_time": "2022-01-31T17:00:10.188829Z",
     "start_time": "2022-01-31T17:00:10.172668Z"
    }
   },
   "outputs": [
    {
     "data": {
      "text/plain": [
       "set()"
      ]
     },
     "execution_count": 20,
     "metadata": {},
     "output_type": "execute_result"
    }
   ],
   "source": [
    "mega_minus_age = set(mega_df['country']) - set(age_df['country']) \n",
    "mega_minus_age"
   ]
  },
  {
   "cell_type": "code",
   "execution_count": 21,
   "metadata": {
    "ExecuteTime": {
     "end_time": "2022-01-31T17:00:54.463616Z",
     "start_time": "2022-01-31T17:00:54.429177Z"
    },
    "scrolled": true
   },
   "outputs": [
    {
     "data": {
      "text/plain": [
       "(82, 17)"
      ]
     },
     "execution_count": 21,
     "metadata": {},
     "output_type": "execute_result"
    }
   ],
   "source": [
    "res_df = mega_df.merge(age_df[['country', 'distance_to_30_years']], how='left', on='country')\n",
    "res_df.shape"
   ]
  },
  {
   "cell_type": "code",
   "execution_count": 22,
   "metadata": {
    "ExecuteTime": {
     "end_time": "2022-01-31T17:01:05.284833Z",
     "start_time": "2022-01-31T17:01:05.258855Z"
    }
   },
   "outputs": [],
   "source": [
    "res_df.to_csv('../../data/result/mega_table.csv', index=None)"
   ]
  },
  {
   "cell_type": "code",
   "execution_count": null,
   "metadata": {},
   "outputs": [],
   "source": []
  },
  {
   "cell_type": "code",
   "execution_count": null,
   "metadata": {},
   "outputs": [],
   "source": []
  },
  {
   "cell_type": "code",
   "execution_count": null,
   "metadata": {},
   "outputs": [],
   "source": []
  }
 ],
 "metadata": {
  "kernelspec": {
   "display_name": "country_comparison",
   "language": "python",
   "name": "country_comparison"
  },
  "language_info": {
   "codemirror_mode": {
    "name": "ipython",
    "version": 3
   },
   "file_extension": ".py",
   "mimetype": "text/x-python",
   "name": "python",
   "nbconvert_exporter": "python",
   "pygments_lexer": "ipython3",
   "version": "3.7.4"
  }
 },
 "nbformat": 4,
 "nbformat_minor": 4
}
