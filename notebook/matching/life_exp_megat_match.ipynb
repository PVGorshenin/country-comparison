{
 "cells": [
  {
   "cell_type": "code",
   "execution_count": 1,
   "metadata": {
    "ExecuteTime": {
     "end_time": "2022-01-24T14:00:02.280930Z",
     "start_time": "2022-01-24T14:00:02.058247Z"
    }
   },
   "outputs": [],
   "source": [
    "import pandas as pd\n",
    "\n",
    "pd.options.display.max_columns=500\n",
    "pd.options.display.max_rows=500\n",
    "pd.options.display.max_colwidth=500"
   ]
  },
  {
   "cell_type": "code",
   "execution_count": 3,
   "metadata": {
    "ExecuteTime": {
     "end_time": "2022-01-24T14:00:10.533258Z",
     "start_time": "2022-01-24T14:00:10.509143Z"
    }
   },
   "outputs": [],
   "source": [
    "mega_df = pd.read_csv('../../data/result/mega_table.csv')\n",
    "exp_df = pd.read_csv('../../data/intermediate/life_expectancy.csv')"
   ]
  },
  {
   "cell_type": "code",
   "execution_count": 4,
   "metadata": {
    "ExecuteTime": {
     "end_time": "2022-01-24T14:00:19.324092Z",
     "start_time": "2022-01-24T14:00:19.290156Z"
    }
   },
   "outputs": [
    {
     "data": {
      "text/html": [
       "<div>\n",
       "<style scoped>\n",
       "    .dataframe tbody tr th:only-of-type {\n",
       "        vertical-align: middle;\n",
       "    }\n",
       "\n",
       "    .dataframe tbody tr th {\n",
       "        vertical-align: top;\n",
       "    }\n",
       "\n",
       "    .dataframe thead th {\n",
       "        text-align: right;\n",
       "    }\n",
       "</style>\n",
       "<table border=\"1\" class=\"dataframe\">\n",
       "  <thead>\n",
       "    <tr style=\"text-align: right;\">\n",
       "      <th></th>\n",
       "      <th>country</th>\n",
       "      <th>year</th>\n",
       "      <th>life_expectancy</th>\n",
       "    </tr>\n",
       "  </thead>\n",
       "  <tbody>\n",
       "    <tr>\n",
       "      <th>0</th>\n",
       "      <td>Afghanistan</td>\n",
       "      <td>2019</td>\n",
       "      <td>63.2</td>\n",
       "    </tr>\n",
       "    <tr>\n",
       "      <th>1</th>\n",
       "      <td>Albania</td>\n",
       "      <td>2019</td>\n",
       "      <td>78.0</td>\n",
       "    </tr>\n",
       "  </tbody>\n",
       "</table>\n",
       "</div>"
      ],
      "text/plain": [
       "       country  year  life_expectancy\n",
       "0  Afghanistan  2019             63.2\n",
       "1      Albania  2019             78.0"
      ]
     },
     "execution_count": 4,
     "metadata": {},
     "output_type": "execute_result"
    }
   ],
   "source": [
    "exp_df.head(2)"
   ]
  },
  {
   "cell_type": "code",
   "execution_count": 5,
   "metadata": {
    "ExecuteTime": {
     "end_time": "2022-01-24T14:00:22.925499Z",
     "start_time": "2022-01-24T14:00:22.889026Z"
    }
   },
   "outputs": [
    {
     "data": {
      "text/html": [
       "<div>\n",
       "<style scoped>\n",
       "    .dataframe tbody tr th:only-of-type {\n",
       "        vertical-align: middle;\n",
       "    }\n",
       "\n",
       "    .dataframe tbody tr th {\n",
       "        vertical-align: top;\n",
       "    }\n",
       "\n",
       "    .dataframe thead th {\n",
       "        text-align: right;\n",
       "    }\n",
       "</style>\n",
       "<table border=\"1\" class=\"dataframe\">\n",
       "  <thead>\n",
       "    <tr style=\"text-align: right;\">\n",
       "      <th></th>\n",
       "      <th>quality_of_life_numbeo</th>\n",
       "      <th>purchasing_power_numbeo</th>\n",
       "      <th>safety_numbeo</th>\n",
       "      <th>health_care_numbeo</th>\n",
       "      <th>cost_of_living_numbeo</th>\n",
       "      <th>property_price_to_income_numbeo</th>\n",
       "      <th>traffic_commute_time_numbeo</th>\n",
       "      <th>pollution_numbeo</th>\n",
       "      <th>climate_numbeo</th>\n",
       "      <th>country</th>\n",
       "      <th>gdp_ppp</th>\n",
       "      <th>homicide_rate</th>\n",
       "      <th>suicide_rate</th>\n",
       "    </tr>\n",
       "  </thead>\n",
       "  <tbody>\n",
       "    <tr>\n",
       "      <th>0</th>\n",
       "      <td>188.36</td>\n",
       "      <td>102.77</td>\n",
       "      <td>78.38</td>\n",
       "      <td>74.08</td>\n",
       "      <td>125.02</td>\n",
       "      <td>8.18</td>\n",
       "      <td>28.67</td>\n",
       "      <td>19.86</td>\n",
       "      <td>80.05</td>\n",
       "      <td>Switzerland</td>\n",
       "      <td>78111.508</td>\n",
       "      <td>0.6</td>\n",
       "      <td>9.8</td>\n",
       "    </tr>\n",
       "    <tr>\n",
       "      <th>1</th>\n",
       "      <td>186.25</td>\n",
       "      <td>86.43</td>\n",
       "      <td>73.78</td>\n",
       "      <td>79.79</td>\n",
       "      <td>88.53</td>\n",
       "      <td>7.00</td>\n",
       "      <td>28.69</td>\n",
       "      <td>21.29</td>\n",
       "      <td>81.80</td>\n",
       "      <td>Denmark</td>\n",
       "      <td>63404.856</td>\n",
       "      <td>1.0</td>\n",
       "      <td>7.6</td>\n",
       "    </tr>\n",
       "  </tbody>\n",
       "</table>\n",
       "</div>"
      ],
      "text/plain": [
       "   quality_of_life_numbeo  purchasing_power_numbeo  safety_numbeo  \\\n",
       "0                  188.36                   102.77          78.38   \n",
       "1                  186.25                    86.43          73.78   \n",
       "\n",
       "   health_care_numbeo  cost_of_living_numbeo  property_price_to_income_numbeo  \\\n",
       "0               74.08                 125.02                             8.18   \n",
       "1               79.79                  88.53                             7.00   \n",
       "\n",
       "   traffic_commute_time_numbeo  pollution_numbeo  climate_numbeo      country  \\\n",
       "0                        28.67             19.86           80.05  Switzerland   \n",
       "1                        28.69             21.29           81.80      Denmark   \n",
       "\n",
       "     gdp_ppp  homicide_rate  suicide_rate  \n",
       "0  78111.508            0.6           9.8  \n",
       "1  63404.856            1.0           7.6  "
      ]
     },
     "execution_count": 5,
     "metadata": {},
     "output_type": "execute_result"
    }
   ],
   "source": [
    "mega_df.head(2)"
   ]
  },
  {
   "cell_type": "code",
   "execution_count": 6,
   "metadata": {
    "ExecuteTime": {
     "end_time": "2022-01-24T14:00:39.999300Z",
     "start_time": "2022-01-24T14:00:39.979604Z"
    }
   },
   "outputs": [
    {
     "data": {
      "text/plain": [
       "{'Czech Republic',\n",
       " 'Hong Kong SAR',\n",
       " 'Iran',\n",
       " 'Korea',\n",
       " 'Puerto Rico',\n",
       " 'Slovak Republic',\n",
       " 'Taiwan Province of China',\n",
       " 'United Kingdom',\n",
       " 'United States',\n",
       " 'Vietnam'}"
      ]
     },
     "execution_count": 6,
     "metadata": {},
     "output_type": "execute_result"
    }
   ],
   "source": [
    "mega_minus_exp = set(mega_df['country']) - set(exp_df['country']) \n",
    "mega_minus_exp"
   ]
  },
  {
   "cell_type": "code",
   "execution_count": 10,
   "metadata": {
    "ExecuteTime": {
     "end_time": "2022-01-24T14:13:22.843818Z",
     "start_time": "2022-01-24T14:13:22.817291Z"
    }
   },
   "outputs": [],
   "source": [
    "exp_df.loc[exp_df['country']=='Viet Nam', 'country'] = 'Vietnam'\n",
    "exp_df.loc[exp_df['country']=='Iran (Islamic Republic of)', 'country'] = 'Iran'\n",
    "exp_df.loc[exp_df['country']=='Czechia', 'country'] = 'Czech Republic'\n",
    "exp_df.loc[exp_df['country']=='Republic of Korea', 'country'] = 'Korea'\n",
    "exp_df.loc[exp_df['country']=='United States of America', 'country'] = 'United States'\n",
    "exp_df.loc[exp_df['country']=='Slovakia', 'country'] = 'Slovak Republic'\n",
    "exp_df.loc[exp_df['country']=='United Kingdom of Great Britain and Northern Ireland', 'country'] = 'United Kingdom'"
   ]
  },
  {
   "cell_type": "code",
   "execution_count": 12,
   "metadata": {
    "ExecuteTime": {
     "end_time": "2022-01-24T14:13:39.198872Z",
     "start_time": "2022-01-24T14:13:39.174393Z"
    }
   },
   "outputs": [
    {
     "data": {
      "text/plain": [
       "{'Hong Kong SAR', 'Puerto Rico', 'Taiwan Province of China'}"
      ]
     },
     "execution_count": 12,
     "metadata": {},
     "output_type": "execute_result"
    }
   ],
   "source": [
    "mega_minus_exp = set(mega_df['country']) - set(exp_df['country']) \n",
    "mega_minus_exp"
   ]
  },
  {
   "cell_type": "code",
   "execution_count": 15,
   "metadata": {
    "ExecuteTime": {
     "end_time": "2022-01-24T14:16:32.800975Z",
     "start_time": "2022-01-24T14:16:32.776207Z"
    }
   },
   "outputs": [],
   "source": [
    "res_df = mega_df.merge(exp_df[['country', 'life_expectancy']], how='left', on='country')"
   ]
  },
  {
   "cell_type": "code",
   "execution_count": 20,
   "metadata": {
    "ExecuteTime": {
     "end_time": "2022-01-24T14:28:00.511212Z",
     "start_time": "2022-01-24T14:28:00.502178Z"
    }
   },
   "outputs": [],
   "source": [
    "#who doesn't have a data, so I used wiki and google\n",
    "\n",
    "res_df.loc[res_df['country']=='Hong Kong SAR', 'life_expectancy'] = 80.4\n",
    "res_df.loc[res_df['country']=='Taiwan Province of China', 'life_expectancy'] = 77.1\n",
    "res_df.loc[res_df['country']=='Puerto Rico', 'life_expectancy'] = 77.6"
   ]
  },
  {
   "cell_type": "code",
   "execution_count": 21,
   "metadata": {
    "ExecuteTime": {
     "end_time": "2022-01-24T14:28:11.822622Z",
     "start_time": "2022-01-24T14:28:11.818909Z"
    }
   },
   "outputs": [],
   "source": [
    "res_df.to_csv('../../data/result/mega_table.csv', index=None)"
   ]
  },
  {
   "cell_type": "code",
   "execution_count": null,
   "metadata": {},
   "outputs": [],
   "source": []
  },
  {
   "cell_type": "code",
   "execution_count": null,
   "metadata": {},
   "outputs": [],
   "source": []
  },
  {
   "cell_type": "code",
   "execution_count": null,
   "metadata": {},
   "outputs": [],
   "source": []
  }
 ],
 "metadata": {
  "kernelspec": {
   "display_name": "country-comparison",
   "language": "python",
   "name": "country-comparison"
  },
  "language_info": {
   "codemirror_mode": {
    "name": "ipython",
    "version": 3
   },
   "file_extension": ".py",
   "mimetype": "text/x-python",
   "name": "python",
   "nbconvert_exporter": "python",
   "pygments_lexer": "ipython3",
   "version": "3.7.4"
  }
 },
 "nbformat": 4,
 "nbformat_minor": 4
}
