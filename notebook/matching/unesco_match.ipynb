{
 "cells": [
  {
   "cell_type": "code",
   "execution_count": 1,
   "metadata": {
    "ExecuteTime": {
     "end_time": "2022-01-28T16:19:28.982362Z",
     "start_time": "2022-01-28T16:19:28.718440Z"
    }
   },
   "outputs": [],
   "source": [
    "import pandas as pd\n",
    "\n",
    "pd.options.display.max_columns=500\n",
    "pd.options.display.max_rows=500\n",
    "pd.options.display.max_colwidth=500"
   ]
  },
  {
   "cell_type": "code",
   "execution_count": 2,
   "metadata": {
    "ExecuteTime": {
     "end_time": "2022-01-28T16:19:51.188348Z",
     "start_time": "2022-01-28T16:19:51.178788Z"
    }
   },
   "outputs": [],
   "source": [
    "mega_df = pd.read_csv('../../data/result/mega_table.csv')\n",
    "unesco_df = pd.read_csv('../../data/intermediate/unesco.csv')"
   ]
  },
  {
   "cell_type": "code",
   "execution_count": 3,
   "metadata": {
    "ExecuteTime": {
     "end_time": "2022-01-28T16:19:56.857374Z",
     "start_time": "2022-01-28T16:19:56.819101Z"
    }
   },
   "outputs": [
    {
     "data": {
      "text/html": [
       "<div>\n",
       "<style scoped>\n",
       "    .dataframe tbody tr th:only-of-type {\n",
       "        vertical-align: middle;\n",
       "    }\n",
       "\n",
       "    .dataframe tbody tr th {\n",
       "        vertical-align: top;\n",
       "    }\n",
       "\n",
       "    .dataframe thead th {\n",
       "        text-align: right;\n",
       "    }\n",
       "</style>\n",
       "<table border=\"1\" class=\"dataframe\">\n",
       "  <thead>\n",
       "    <tr style=\"text-align: right;\">\n",
       "      <th></th>\n",
       "      <th>country</th>\n",
       "      <th>unesco_objects</th>\n",
       "    </tr>\n",
       "  </thead>\n",
       "  <tbody>\n",
       "    <tr>\n",
       "      <th>0</th>\n",
       "      <td>Afghanistan</td>\n",
       "      <td>2</td>\n",
       "    </tr>\n",
       "    <tr>\n",
       "      <th>1</th>\n",
       "      <td>Albania</td>\n",
       "      <td>4</td>\n",
       "    </tr>\n",
       "  </tbody>\n",
       "</table>\n",
       "</div>"
      ],
      "text/plain": [
       "       country  unesco_objects\n",
       "0  Afghanistan               2\n",
       "1      Albania               4"
      ]
     },
     "execution_count": 3,
     "metadata": {},
     "output_type": "execute_result"
    }
   ],
   "source": [
    "unesco_df.head(2)"
   ]
  },
  {
   "cell_type": "code",
   "execution_count": 4,
   "metadata": {
    "ExecuteTime": {
     "end_time": "2022-01-28T16:20:00.380415Z",
     "start_time": "2022-01-28T16:20:00.364900Z"
    }
   },
   "outputs": [
    {
     "data": {
      "text/html": [
       "<div>\n",
       "<style scoped>\n",
       "    .dataframe tbody tr th:only-of-type {\n",
       "        vertical-align: middle;\n",
       "    }\n",
       "\n",
       "    .dataframe tbody tr th {\n",
       "        vertical-align: top;\n",
       "    }\n",
       "\n",
       "    .dataframe thead th {\n",
       "        text-align: right;\n",
       "    }\n",
       "</style>\n",
       "<table border=\"1\" class=\"dataframe\">\n",
       "  <thead>\n",
       "    <tr style=\"text-align: right;\">\n",
       "      <th></th>\n",
       "      <th>quality_of_life_numbeo</th>\n",
       "      <th>purchasing_power_numbeo</th>\n",
       "      <th>safety_numbeo</th>\n",
       "      <th>health_care_numbeo</th>\n",
       "      <th>cost_of_living_numbeo</th>\n",
       "      <th>property_price_to_income_numbeo</th>\n",
       "      <th>traffic_commute_time_numbeo</th>\n",
       "      <th>pollution_numbeo</th>\n",
       "      <th>climate_numbeo</th>\n",
       "      <th>country</th>\n",
       "      <th>gdp_ppp</th>\n",
       "      <th>homicide_rate</th>\n",
       "      <th>suicide_rate</th>\n",
       "      <th>life_expectancy</th>\n",
       "    </tr>\n",
       "  </thead>\n",
       "  <tbody>\n",
       "    <tr>\n",
       "      <th>0</th>\n",
       "      <td>188.36</td>\n",
       "      <td>102.77</td>\n",
       "      <td>78.38</td>\n",
       "      <td>74.08</td>\n",
       "      <td>125.02</td>\n",
       "      <td>8.18</td>\n",
       "      <td>28.67</td>\n",
       "      <td>19.86</td>\n",
       "      <td>80.05</td>\n",
       "      <td>Switzerland</td>\n",
       "      <td>78111.508</td>\n",
       "      <td>0.6</td>\n",
       "      <td>9.8</td>\n",
       "      <td>83.4</td>\n",
       "    </tr>\n",
       "    <tr>\n",
       "      <th>1</th>\n",
       "      <td>186.25</td>\n",
       "      <td>86.43</td>\n",
       "      <td>73.78</td>\n",
       "      <td>79.79</td>\n",
       "      <td>88.53</td>\n",
       "      <td>7.00</td>\n",
       "      <td>28.69</td>\n",
       "      <td>21.29</td>\n",
       "      <td>81.80</td>\n",
       "      <td>Denmark</td>\n",
       "      <td>63404.856</td>\n",
       "      <td>1.0</td>\n",
       "      <td>7.6</td>\n",
       "      <td>81.3</td>\n",
       "    </tr>\n",
       "  </tbody>\n",
       "</table>\n",
       "</div>"
      ],
      "text/plain": [
       "   quality_of_life_numbeo  purchasing_power_numbeo  safety_numbeo  \\\n",
       "0                  188.36                   102.77          78.38   \n",
       "1                  186.25                    86.43          73.78   \n",
       "\n",
       "   health_care_numbeo  cost_of_living_numbeo  property_price_to_income_numbeo  \\\n",
       "0               74.08                 125.02                             8.18   \n",
       "1               79.79                  88.53                             7.00   \n",
       "\n",
       "   traffic_commute_time_numbeo  pollution_numbeo  climate_numbeo      country  \\\n",
       "0                        28.67             19.86           80.05  Switzerland   \n",
       "1                        28.69             21.29           81.80      Denmark   \n",
       "\n",
       "     gdp_ppp  homicide_rate  suicide_rate  life_expectancy  \n",
       "0  78111.508            0.6           9.8             83.4  \n",
       "1  63404.856            1.0           7.6             81.3  "
      ]
     },
     "execution_count": 4,
     "metadata": {},
     "output_type": "execute_result"
    }
   ],
   "source": [
    "mega_df.head(2)"
   ]
  },
  {
   "cell_type": "code",
   "execution_count": 5,
   "metadata": {
    "ExecuteTime": {
     "end_time": "2022-01-28T16:22:04.480685Z",
     "start_time": "2022-01-28T16:22:04.464994Z"
    }
   },
   "outputs": [
    {
     "data": {
      "text/plain": [
       "{'Georgia',\n",
       " 'Hong Kong SAR',\n",
       " 'Ireland',\n",
       " 'Korea',\n",
       " 'Kuwait',\n",
       " 'Puerto Rico',\n",
       " 'Russian Federation',\n",
       " 'Slovak Republic',\n",
       " 'Taiwan Province of China'}"
      ]
     },
     "execution_count": 5,
     "metadata": {},
     "output_type": "execute_result"
    }
   ],
   "source": [
    "mega_minus_unesco = set(mega_df['country']) - set(unesco_df['country']) \n",
    "mega_minus_unesco"
   ]
  },
  {
   "cell_type": "code",
   "execution_count": 12,
   "metadata": {
    "ExecuteTime": {
     "end_time": "2022-01-28T16:26:34.857346Z",
     "start_time": "2022-01-28T16:26:34.832542Z"
    }
   },
   "outputs": [
    {
     "data": {
      "text/plain": [
       "0                           Afghanistan\n",
       "1                               Albania\n",
       "2                               Algeria\n",
       "3                               Andorra\n",
       "4                                Angola\n",
       "5                   Antigua and Barbuda\n",
       "6                             Argentina\n",
       "7                               Armenia\n",
       "8                             Australia\n",
       "9                               Austria\n",
       "10                           Azerbaijan\n",
       "11                              Bahrain\n",
       "12                           Bangladesh\n",
       "13                             Barbados\n",
       "14                              Belarus\n",
       "15                              Belgium\n",
       "16                               Belize\n",
       "17                                Benin\n",
       "18                              Bolivia\n",
       "19               Bosnia and Herzegovina\n",
       "20                             Botswana\n",
       "21                               Brazil\n",
       "22                             Bulgaria\n",
       "23                         Burkina Faso\n",
       "24                             Cambodia\n",
       "25                             Cameroon\n",
       "26                               Canada\n",
       "27                           Cape Verde\n",
       "28             Central African Republic\n",
       "29                                 Chad\n",
       "30                                Chile\n",
       "31                                China\n",
       "32                             Colombia\n",
       "34                           Costa Rica\n",
       "36                              Croatia\n",
       "37                                 Cuba\n",
       "38                               Cyprus\n",
       "39                       Czech Republic\n",
       "40     Democratic Republic of the Congo\n",
       "41                              Denmark\n",
       "42                             Dominica\n",
       "43                   Dominican Republic\n",
       "44                              Ecuador\n",
       "45                                Egypt\n",
       "46                          El Salvador\n",
       "47                              Eritrea\n",
       "48                              Estonia\n",
       "49                             Ethiopia\n",
       "98       Federated States of Micronesia\n",
       "50                                 Fiji\n",
       "51                              Finland\n",
       "52                               France\n",
       "53                                Gabon\n",
       "55                    Georgia (country)\n",
       "56                              Germany\n",
       "57                                Ghana\n",
       "58                               Greece\n",
       "59                            Guatemala\n",
       "60                               Guinea\n",
       "61                                Haiti\n",
       "63                             Honduras\n",
       "64                              Hungary\n",
       "65                              Iceland\n",
       "66                                India\n",
       "67                            Indonesia\n",
       "68                                 Iran\n",
       "69                                 Iraq\n",
       "71                               Israel\n",
       "72                                Italy\n",
       "35                          Ivory Coast\n",
       "73                              Jamaica\n",
       "74                                Japan\n",
       "76                               Jordan\n",
       "77                           Kazakhstan\n",
       "78                                Kenya\n",
       "79                             Kiribati\n",
       "80                           Kyrgyzstan\n",
       "81                                 Laos\n",
       "82                               Latvia\n",
       "83                              Lebanon\n",
       "84                              Lesotho\n",
       "85                                Libya\n",
       "86                            Lithuania\n",
       "87                           Luxembourg\n",
       "88                           Madagascar\n",
       "89                               Malawi\n",
       "90                             Malaysia\n",
       "91                                 Mali\n",
       "92                                Malta\n",
       "93                     Marshall Islands\n",
       "94                           Mauritania\n",
       "95                            Mauritius\n",
       "96                               Mexico\n",
       "97                              Moldova\n",
       "99                             Mongolia\n",
       "100                          Montenegro\n",
       "101                             Morocco\n",
       "102                          Mozambique\n",
       "103                             Myanmar\n",
       "104                             Namibia\n",
       "105                               Nepal\n",
       "106                         Netherlands\n",
       "107                         New Zealand\n",
       "108                           Nicaragua\n",
       "109                               Niger\n",
       "110                             Nigeria\n",
       "111                         North Korea\n",
       "112                     North Macedonia\n",
       "113                              Norway\n",
       "75                 Old City (Jerusalem)\n",
       "114                                Oman\n",
       "115                            Pakistan\n",
       "116                               Palau\n",
       "118                              Panama\n",
       "119                    Papua New Guinea\n",
       "120                            Paraguay\n",
       "121                                Peru\n",
       "122                         Philippines\n",
       "123                              Poland\n",
       "124                            Portugal\n",
       "125                               Qatar\n",
       "70                  Republic of Ireland\n",
       "33                Republic of the Congo\n",
       "126                             Romania\n",
       "127                              Russia\n",
       "128               Saint Kitts and Nevis\n",
       "129                         Saint Lucia\n",
       "130                          San Marino\n",
       "131                        Saudi Arabia\n",
       "132                             Senegal\n",
       "133                              Serbia\n",
       "134                          Seychelles\n",
       "135                           Singapore\n",
       "136                            Slovakia\n",
       "137                            Slovenia\n",
       "138                     Solomon Islands\n",
       "139                        South Africa\n",
       "140                         South Korea\n",
       "141                               Spain\n",
       "142                           Sri Lanka\n",
       "117                  State of Palestine\n",
       "143                               Sudan\n",
       "144                            Suriname\n",
       "145                              Sweden\n",
       "146                         Switzerland\n",
       "147                               Syria\n",
       "148                          Tajikistan\n",
       "149                            Tanzania\n",
       "150                            Thailand\n",
       "54                           The Gambia\n",
       "151                                Togo\n",
       "152                             Tunisia\n",
       "153                              Turkey\n",
       "154                        Turkmenistan\n",
       "155                              Uganda\n",
       "156                             Ukraine\n",
       "159                United Arab Emirates\n",
       "157                      United Kingdom\n",
       "158                       United States\n",
       "160                             Uruguay\n",
       "161                          Uzbekistan\n",
       "162                             Vanuatu\n",
       "62                         Vatican City\n",
       "163                           Venezuela\n",
       "164                             Vietnam\n",
       "165                               Yemen\n",
       "166                              Zambia\n",
       "167                            Zimbabwe\n",
       "Name: country, dtype: object"
      ]
     },
     "execution_count": 12,
     "metadata": {},
     "output_type": "execute_result"
    }
   ],
   "source": [
    "unesco_df['country'].sort_values()"
   ]
  },
  {
   "cell_type": "code",
   "execution_count": 13,
   "metadata": {
    "ExecuteTime": {
     "end_time": "2022-01-28T16:31:46.060321Z",
     "start_time": "2022-01-28T16:31:46.045344Z"
    }
   },
   "outputs": [],
   "source": [
    "unesco_df.loc[unesco_df['country']=='Russia', 'country'] = 'Russian Federation'\n",
    "unesco_df.loc[unesco_df['country']=='Georgia (country)', 'country'] = 'Georgia'\n",
    "unesco_df.loc[unesco_df['country']=='South Korea', 'country'] = 'Korea'\n",
    "unesco_df.loc[unesco_df['country']=='Slovakia', 'country'] = 'Slovak Republic'"
   ]
  },
  {
   "cell_type": "code",
   "execution_count": 14,
   "metadata": {
    "ExecuteTime": {
     "end_time": "2022-01-28T16:32:02.015286Z",
     "start_time": "2022-01-28T16:32:01.996959Z"
    }
   },
   "outputs": [
    {
     "data": {
      "text/plain": [
       "{'Hong Kong SAR',\n",
       " 'Ireland',\n",
       " 'Kuwait',\n",
       " 'Puerto Rico',\n",
       " 'Taiwan Province of China'}"
      ]
     },
     "execution_count": 14,
     "metadata": {},
     "output_type": "execute_result"
    }
   ],
   "source": [
    "mega_minus_exp = set(mega_df['country']) - set(unesco_df['country']) \n",
    "mega_minus_exp"
   ]
  },
  {
   "cell_type": "code",
   "execution_count": 17,
   "metadata": {
    "ExecuteTime": {
     "end_time": "2022-01-28T16:49:19.749698Z",
     "start_time": "2022-01-28T16:49:19.726495Z"
    }
   },
   "outputs": [],
   "source": [
    "res_df = mega_df.merge(unesco_df[['country', 'unesco_objects']], how='left', on='country')"
   ]
  },
  {
   "cell_type": "code",
   "execution_count": 19,
   "metadata": {
    "ExecuteTime": {
     "end_time": "2022-01-28T16:50:19.053713Z",
     "start_time": "2022-01-28T16:50:19.032203Z"
    }
   },
   "outputs": [
    {
     "data": {
      "text/plain": [
       "(82, 15)"
      ]
     },
     "execution_count": 19,
     "metadata": {},
     "output_type": "execute_result"
    }
   ],
   "source": [
    "res_df = res_df[res_df['country']!='Puerto Rico']\n",
    "res_df.shape"
   ]
  },
  {
   "cell_type": "code",
   "execution_count": 20,
   "metadata": {
    "ExecuteTime": {
     "end_time": "2022-01-28T17:09:56.418310Z",
     "start_time": "2022-01-28T17:09:56.404176Z"
    }
   },
   "outputs": [],
   "source": [
    "\n",
    "res_df.loc[res_df['country']=='Hong Kong SAR', 'unesco_objects'] = 1\n",
    "res_df.loc[res_df['country']=='Taiwan Province of China', 'unesco_objects'] = 0\n",
    "res_df.loc[res_df['country']=='Kuwait', 'unesco_objects'] = 0\n",
    "res_df.loc[res_df['country']=='Ireland', 'unesco_objects'] = 2"
   ]
  },
  {
   "cell_type": "code",
   "execution_count": 22,
   "metadata": {
    "ExecuteTime": {
     "end_time": "2022-01-28T17:10:20.152310Z",
     "start_time": "2022-01-28T17:10:20.146360Z"
    }
   },
   "outputs": [],
   "source": [
    "res_df.to_csv('../../data/result/mega_table.csv', index=None)"
   ]
  },
  {
   "cell_type": "code",
   "execution_count": null,
   "metadata": {},
   "outputs": [],
   "source": []
  },
  {
   "cell_type": "code",
   "execution_count": null,
   "metadata": {},
   "outputs": [],
   "source": []
  },
  {
   "cell_type": "code",
   "execution_count": null,
   "metadata": {},
   "outputs": [],
   "source": []
  }
 ],
 "metadata": {
  "kernelspec": {
   "display_name": "country-comparison",
   "language": "python",
   "name": "country-comparison"
  },
  "language_info": {
   "codemirror_mode": {
    "name": "ipython",
    "version": 3
   },
   "file_extension": ".py",
   "mimetype": "text/x-python",
   "name": "python",
   "nbconvert_exporter": "python",
   "pygments_lexer": "ipython3",
   "version": "3.7.6"
  }
 },
 "nbformat": 4,
 "nbformat_minor": 4
}
