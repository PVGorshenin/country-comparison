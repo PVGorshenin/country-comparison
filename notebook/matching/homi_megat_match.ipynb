{
 "cells": [
  {
   "cell_type": "code",
   "execution_count": 1,
   "metadata": {
    "ExecuteTime": {
     "end_time": "2022-01-07T14:29:41.695782Z",
     "start_time": "2022-01-07T14:29:41.359169Z"
    }
   },
   "outputs": [],
   "source": [
    "import pandas as pd\n",
    "import Levenshtein"
   ]
  },
  {
   "cell_type": "code",
   "execution_count": 2,
   "metadata": {
    "ExecuteTime": {
     "end_time": "2022-01-07T14:29:41.708548Z",
     "start_time": "2022-01-07T14:29:41.698301Z"
    }
   },
   "outputs": [],
   "source": [
    "mega_df = pd.read_csv('../data/result/numbeo_gdp.csv')\n",
    "homi_df = pd.read_csv('../data/intermediate/homi_short.csv')"
   ]
  },
  {
   "cell_type": "code",
   "execution_count": 3,
   "metadata": {
    "ExecuteTime": {
     "end_time": "2022-01-07T14:29:41.728567Z",
     "start_time": "2022-01-07T14:29:41.710104Z"
    }
   },
   "outputs": [
    {
     "data": {
      "text/html": [
       "<div>\n",
       "<style scoped>\n",
       "    .dataframe tbody tr th:only-of-type {\n",
       "        vertical-align: middle;\n",
       "    }\n",
       "\n",
       "    .dataframe tbody tr th {\n",
       "        vertical-align: top;\n",
       "    }\n",
       "\n",
       "    .dataframe thead th {\n",
       "        text-align: right;\n",
       "    }\n",
       "</style>\n",
       "<table border=\"1\" class=\"dataframe\">\n",
       "  <thead>\n",
       "    <tr style=\"text-align: right;\">\n",
       "      <th></th>\n",
       "      <th>Country</th>\n",
       "      <th>Year</th>\n",
       "      <th>value</th>\n",
       "    </tr>\n",
       "  </thead>\n",
       "  <tbody>\n",
       "    <tr>\n",
       "      <th>0</th>\n",
       "      <td>Afghanistan</td>\n",
       "      <td>2018</td>\n",
       "      <td>6.7</td>\n",
       "    </tr>\n",
       "    <tr>\n",
       "      <th>1</th>\n",
       "      <td>Albania</td>\n",
       "      <td>2018</td>\n",
       "      <td>2.3</td>\n",
       "    </tr>\n",
       "  </tbody>\n",
       "</table>\n",
       "</div>"
      ],
      "text/plain": [
       "       Country  Year  value\n",
       "0  Afghanistan  2018    6.7\n",
       "1      Albania  2018    2.3"
      ]
     },
     "execution_count": 3,
     "metadata": {},
     "output_type": "execute_result"
    }
   ],
   "source": [
    "homi_df.head(2)"
   ]
  },
  {
   "cell_type": "code",
   "execution_count": 4,
   "metadata": {
    "ExecuteTime": {
     "end_time": "2022-01-07T14:29:41.748512Z",
     "start_time": "2022-01-07T14:29:41.731842Z"
    }
   },
   "outputs": [
    {
     "data": {
      "text/html": [
       "<div>\n",
       "<style scoped>\n",
       "    .dataframe tbody tr th:only-of-type {\n",
       "        vertical-align: middle;\n",
       "    }\n",
       "\n",
       "    .dataframe tbody tr th {\n",
       "        vertical-align: top;\n",
       "    }\n",
       "\n",
       "    .dataframe thead th {\n",
       "        text-align: right;\n",
       "    }\n",
       "</style>\n",
       "<table border=\"1\" class=\"dataframe\">\n",
       "  <thead>\n",
       "    <tr style=\"text-align: right;\">\n",
       "      <th></th>\n",
       "      <th>Quality of Life Index</th>\n",
       "      <th>Purchasing Power Index</th>\n",
       "      <th>Safety Index</th>\n",
       "      <th>Health Care Index</th>\n",
       "      <th>Cost of Living Index</th>\n",
       "      <th>Property Price to Income Ratio</th>\n",
       "      <th>Traffic Commute Time Index</th>\n",
       "      <th>Pollution Index</th>\n",
       "      <th>Climate Index</th>\n",
       "      <th>country</th>\n",
       "      <th>gdp_2021</th>\n",
       "    </tr>\n",
       "  </thead>\n",
       "  <tbody>\n",
       "    <tr>\n",
       "      <th>0</th>\n",
       "      <td>188.36</td>\n",
       "      <td>102.77</td>\n",
       "      <td>78.38</td>\n",
       "      <td>74.08</td>\n",
       "      <td>125.02</td>\n",
       "      <td>8.18</td>\n",
       "      <td>28.67</td>\n",
       "      <td>19.86</td>\n",
       "      <td>80.05</td>\n",
       "      <td>Switzerland</td>\n",
       "      <td>78111.508</td>\n",
       "    </tr>\n",
       "    <tr>\n",
       "      <th>1</th>\n",
       "      <td>186.25</td>\n",
       "      <td>86.43</td>\n",
       "      <td>73.78</td>\n",
       "      <td>79.79</td>\n",
       "      <td>88.53</td>\n",
       "      <td>7.00</td>\n",
       "      <td>28.69</td>\n",
       "      <td>21.29</td>\n",
       "      <td>81.80</td>\n",
       "      <td>Denmark</td>\n",
       "      <td>63404.856</td>\n",
       "    </tr>\n",
       "  </tbody>\n",
       "</table>\n",
       "</div>"
      ],
      "text/plain": [
       "   Quality of Life Index  Purchasing Power Index  Safety Index  \\\n",
       "0                 188.36                  102.77         78.38   \n",
       "1                 186.25                   86.43         73.78   \n",
       "\n",
       "   Health Care Index  Cost of Living Index  Property Price to Income Ratio  \\\n",
       "0              74.08                125.02                            8.18   \n",
       "1              79.79                 88.53                            7.00   \n",
       "\n",
       "   Traffic Commute Time Index  Pollution Index  Climate Index      country  \\\n",
       "0                       28.67            19.86          80.05  Switzerland   \n",
       "1                       28.69            21.29          81.80      Denmark   \n",
       "\n",
       "    gdp_2021  \n",
       "0  78111.508  \n",
       "1  63404.856  "
      ]
     },
     "execution_count": 4,
     "metadata": {},
     "output_type": "execute_result"
    }
   ],
   "source": [
    "mega_df.head(2)"
   ]
  },
  {
   "cell_type": "code",
   "execution_count": 5,
   "metadata": {
    "ExecuteTime": {
     "end_time": "2022-01-07T14:29:41.758128Z",
     "start_time": "2022-01-07T14:29:41.752977Z"
    }
   },
   "outputs": [],
   "source": [
    "mega_minus_homi = set(mega_df['country']) - set(homi_df['Country']) "
   ]
  },
  {
   "cell_type": "code",
   "execution_count": 6,
   "metadata": {
    "ExecuteTime": {
     "end_time": "2022-01-07T14:29:41.765569Z",
     "start_time": "2022-01-07T14:29:41.760082Z"
    }
   },
   "outputs": [],
   "source": [
    "%run clean_country.py"
   ]
  },
  {
   "cell_type": "code",
   "execution_count": 7,
   "metadata": {
    "ExecuteTime": {
     "end_time": "2022-01-07T14:29:41.777399Z",
     "start_time": "2022-01-07T14:29:41.767695Z"
    }
   },
   "outputs": [
    {
     "data": {
      "text/plain": [
       "{'Iran': 'Iran (Islamic Republic of)',\n",
       " 'United States': 'United Arab Emirates',\n",
       " 'Taiwan Province of China': 'Cayman Islands',\n",
       " 'Hong Kong SAR': 'Holy See',\n",
       " 'Korea': 'Jordan',\n",
       " 'Czech Republic': 'Czechia',\n",
       " 'Slovak Republic': 'Slovakia',\n",
       " 'United Kingdom': 'United Arab Emirates',\n",
       " 'Vietnam': 'Viet Nam',\n",
       " 'North Macedonia': 'South Africa'}"
      ]
     },
     "execution_count": 7,
     "metadata": {},
     "output_type": "execute_result"
    }
   ],
   "source": [
    "match_country_spelling(homi_df,\n",
    "                       mega_minus_homi,\n",
    "                       is_first_word=True,\n",
    "                      country_col='Country')"
   ]
  },
  {
   "cell_type": "code",
   "execution_count": 8,
   "metadata": {
    "ExecuteTime": {
     "end_time": "2022-01-07T14:29:41.791645Z",
     "start_time": "2022-01-07T14:29:41.780230Z"
    }
   },
   "outputs": [
    {
     "data": {
      "text/plain": [
       "{'Iran': 'Iraq',\n",
       " 'United States': 'Viet Nam',\n",
       " 'Taiwan Province of China': 'China, Taiwan Province of China',\n",
       " 'Hong Kong SAR': 'Holy See',\n",
       " 'Korea': 'Jordan',\n",
       " 'Czech Republic': 'Czechia',\n",
       " 'Slovak Republic': 'Dominican Republic',\n",
       " 'United Kingdom': 'Viet Nam',\n",
       " 'Vietnam': 'Viet Nam',\n",
       " 'North Macedonia': 'New Caledonia'}"
      ]
     },
     "execution_count": 8,
     "metadata": {},
     "output_type": "execute_result"
    }
   ],
   "source": [
    "match_country_spelling(homi_df,\n",
    "                       mega_minus_homi,\n",
    "                       is_first_word=False,\n",
    "                      country_col='Country')"
   ]
  },
  {
   "cell_type": "code",
   "execution_count": 21,
   "metadata": {
    "ExecuteTime": {
     "end_time": "2022-01-07T14:46:00.794820Z",
     "start_time": "2022-01-07T14:46:00.781488Z"
    }
   },
   "outputs": [],
   "source": [
    "homi_df.loc[homi_df['Country']=='Republic of North Macedonia', 'Country'] = 'North Macedonia'\n",
    "homi_df.loc[homi_df['Country']=='Viet Nam', 'Country'] = 'Vietnam'\n",
    "homi_df.loc[homi_df['Country']=='Iran (Islamic Republic of)', 'Country'] = 'Iran'\n",
    "homi_df.loc[homi_df['Country']=='Czechia', 'Country'] = 'Czech Republic'\n",
    "homi_df.loc[homi_df['Country']=='Republic of Korea', 'Country'] = 'Korea'\n",
    "homi_df.loc[homi_df['Country']=='United States of America', 'Country'] = 'United States'\n",
    "homi_df.loc[homi_df['Country']=='China, Hong Kong Special Administrative Region', 'Country'] = 'Hong Kong SAR'\n",
    "homi_df.loc[homi_df['Country']=='China, Taiwan Province of China', 'Country'] = 'Taiwan Province of China'\n",
    "homi_df.loc[homi_df['Country']=='Slovakia', 'Country'] = 'Slovak Republic'\n",
    "homi_df.loc[homi_df['Country']=='United Kingdom of Great Britain and Northern Ireland', 'Country'] = 'United Kingdom'"
   ]
  },
  {
   "cell_type": "code",
   "execution_count": 22,
   "metadata": {
    "ExecuteTime": {
     "end_time": "2022-01-07T14:46:02.905708Z",
     "start_time": "2022-01-07T14:46:02.891133Z"
    }
   },
   "outputs": [
    {
     "data": {
      "text/plain": [
       "set()"
      ]
     },
     "execution_count": 22,
     "metadata": {},
     "output_type": "execute_result"
    }
   ],
   "source": [
    "mega_minus_homi = set(mega_df['country']) - set(homi_df['Country']) \n",
    "mega_minus_homi"
   ]
  },
  {
   "cell_type": "code",
   "execution_count": 23,
   "metadata": {
    "ExecuteTime": {
     "end_time": "2022-01-07T14:49:26.879681Z",
     "start_time": "2022-01-07T14:49:26.855759Z"
    }
   },
   "outputs": [],
   "source": [
    "res_df = mega_df.merge(homi_df[['Country', 'value']], how='inner', left_on='country', right_on='Country')\n",
    "res_df.rename({'value': 'homicide_rate'}, axis=1, inplace=True)\n",
    "res_df.rename({'gdp_2021': 'gdp_ppp'}, axis=1, inplace=True)\n",
    "res_df.drop('Country', axis=1, inplace=True)"
   ]
  },
  {
   "cell_type": "code",
   "execution_count": 25,
   "metadata": {
    "ExecuteTime": {
     "end_time": "2022-01-07T14:49:52.069575Z",
     "start_time": "2022-01-07T14:49:52.052584Z"
    }
   },
   "outputs": [],
   "source": [
    "res_df.to_csv('../data/result/numbeo_gdp_homi.csv', index=None)"
   ]
  },
  {
   "cell_type": "code",
   "execution_count": null,
   "metadata": {},
   "outputs": [],
   "source": []
  },
  {
   "cell_type": "code",
   "execution_count": null,
   "metadata": {},
   "outputs": [],
   "source": []
  }
 ],
 "metadata": {
  "kernelspec": {
   "display_name": "country-comparison",
   "language": "python",
   "name": "country-comparison"
  },
  "language_info": {
   "codemirror_mode": {
    "name": "ipython",
    "version": 3
   },
   "file_extension": ".py",
   "mimetype": "text/x-python",
   "name": "python",
   "nbconvert_exporter": "python",
   "pygments_lexer": "ipython3",
   "version": "3.7.6"
  }
 },
 "nbformat": 4,
 "nbformat_minor": 4
}
