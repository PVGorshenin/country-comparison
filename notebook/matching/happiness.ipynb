{
 "cells": [
  {
   "cell_type": "code",
   "execution_count": 22,
   "metadata": {
    "ExecuteTime": {
     "end_time": "2022-01-27T14:21:46.496552Z",
     "start_time": "2022-01-27T14:21:46.485146Z"
    }
   },
   "outputs": [],
   "source": [
    "import pandas as pd\n",
    "\n",
    "pd.options.display.max_columns=500\n",
    "pd.options.display.max_rows=500\n",
    "pd.options.display.max_colwidth=500"
   ]
  },
  {
   "cell_type": "code",
   "execution_count": 23,
   "metadata": {
    "ExecuteTime": {
     "end_time": "2022-01-27T14:21:46.532200Z",
     "start_time": "2022-01-27T14:21:46.507176Z"
    }
   },
   "outputs": [],
   "source": [
    "mega_df = pd.read_csv('../../data/result/mega_table.csv')\n",
    "happy_df = pd.read_csv('../../data/intermediate/happiness_short.csv')"
   ]
  },
  {
   "cell_type": "code",
   "execution_count": 24,
   "metadata": {
    "ExecuteTime": {
     "end_time": "2022-01-27T14:21:46.550170Z",
     "start_time": "2022-01-27T14:21:46.536823Z"
    }
   },
   "outputs": [
    {
     "data": {
      "text/html": [
       "<div>\n",
       "<style scoped>\n",
       "    .dataframe tbody tr th:only-of-type {\n",
       "        vertical-align: middle;\n",
       "    }\n",
       "\n",
       "    .dataframe tbody tr th {\n",
       "        vertical-align: top;\n",
       "    }\n",
       "\n",
       "    .dataframe thead th {\n",
       "        text-align: right;\n",
       "    }\n",
       "</style>\n",
       "<table border=\"1\" class=\"dataframe\">\n",
       "  <thead>\n",
       "    <tr style=\"text-align: right;\">\n",
       "      <th></th>\n",
       "      <th>country</th>\n",
       "      <th>happiness</th>\n",
       "    </tr>\n",
       "  </thead>\n",
       "  <tbody>\n",
       "    <tr>\n",
       "      <th>0</th>\n",
       "      <td>Finland</td>\n",
       "      <td>7.8421</td>\n",
       "    </tr>\n",
       "    <tr>\n",
       "      <th>1</th>\n",
       "      <td>Denmark</td>\n",
       "      <td>7.6195</td>\n",
       "    </tr>\n",
       "  </tbody>\n",
       "</table>\n",
       "</div>"
      ],
      "text/plain": [
       "   country  happiness\n",
       "0  Finland     7.8421\n",
       "1  Denmark     7.6195"
      ]
     },
     "execution_count": 24,
     "metadata": {},
     "output_type": "execute_result"
    }
   ],
   "source": [
    "happy_df.head(2)"
   ]
  },
  {
   "cell_type": "code",
   "execution_count": 25,
   "metadata": {
    "ExecuteTime": {
     "end_time": "2022-01-27T14:21:46.559649Z",
     "start_time": "2022-01-27T14:21:46.552811Z"
    }
   },
   "outputs": [
    {
     "data": {
      "text/plain": [
       "{'Hong Kong SAR',\n",
       " 'Korea',\n",
       " 'Oman',\n",
       " 'Puerto Rico',\n",
       " 'Qatar',\n",
       " 'Russian Federation',\n",
       " 'Slovak Republic'}"
      ]
     },
     "execution_count": 25,
     "metadata": {},
     "output_type": "execute_result"
    }
   ],
   "source": [
    "mega_minus_happy = set(mega_df['country']) - set(happy_df['country']) \n",
    "mega_minus_happy"
   ]
  },
  {
   "cell_type": "code",
   "execution_count": 26,
   "metadata": {
    "ExecuteTime": {
     "end_time": "2022-01-27T14:21:46.566314Z",
     "start_time": "2022-01-27T14:21:46.562281Z"
    }
   },
   "outputs": [],
   "source": [
    "%run ../clean_country.py"
   ]
  },
  {
   "cell_type": "code",
   "execution_count": 27,
   "metadata": {
    "ExecuteTime": {
     "end_time": "2022-01-27T14:21:46.573729Z",
     "start_time": "2022-01-27T14:21:46.568403Z"
    }
   },
   "outputs": [
    {
     "data": {
      "text/plain": [
       "{'Korea': 'North Cyprus',\n",
       " 'Puerto Rico': 'Peru',\n",
       " 'Hong Kong SAR': 'Hong Kong S.A.R. of China',\n",
       " 'Slovak Republic': 'Slovakia',\n",
       " 'Russian Federation': 'Russia',\n",
       " 'Qatar': 'Japan',\n",
       " 'Oman': 'Iran'}"
      ]
     },
     "execution_count": 27,
     "metadata": {},
     "output_type": "execute_result"
    }
   ],
   "source": [
    "match_country_spelling(happy_df,\n",
    "                       mega_minus_happy,\n",
    "                       is_first_word=True,\n",
    "                      country_col='country')"
   ]
  },
  {
   "cell_type": "code",
   "execution_count": 28,
   "metadata": {
    "ExecuteTime": {
     "end_time": "2022-01-27T14:21:46.582219Z",
     "start_time": "2022-01-27T14:21:46.575793Z"
    }
   },
   "outputs": [
    {
     "data": {
      "text/plain": [
       "148                  Afghanistan\n",
       "92                       Albania\n",
       "108                      Algeria\n",
       "56                     Argentina\n",
       "85                       Armenia\n",
       "10                     Australia\n",
       "9                        Austria\n",
       "89                    Azerbaijan\n",
       "21                       Bahrain\n",
       "100                   Bangladesh\n",
       "74                       Belarus\n",
       "19                       Belgium\n",
       "98                         Benin\n",
       "68                       Bolivia\n",
       "63        Bosnia and Herzegovina\n",
       "145                     Botswana\n",
       "34                        Brazil\n",
       "87                      Bulgaria\n",
       "112                 Burkina Faso\n",
       "139                      Burundi\n",
       "113                     Cambodia\n",
       "90                      Cameroon\n",
       "13                        Canada\n",
       "127                         Chad\n",
       "42                         Chile\n",
       "83                         China\n",
       "51                      Colombia\n",
       "130                      Comoros\n",
       "82           Congo (Brazzaville)\n",
       "15                    Costa Rica\n",
       "59                       Croatia\n",
       "38                        Cyprus\n",
       "17                Czech Republic\n",
       "1                        Denmark\n",
       "72            Dominican Republic\n",
       "65                       Ecuador\n",
       "131                        Egypt\n",
       "48                   El Salvador\n",
       "39                       Estonia\n",
       "132                     Ethiopia\n",
       "0                        Finland\n",
       "20                        France\n",
       "111                        Gabon\n",
       "97                        Gambia\n",
       "107                      Georgia\n",
       "12                       Germany\n",
       "94                         Ghana\n",
       "67                        Greece\n",
       "29                     Guatemala\n",
       "101                       Guinea\n",
       "142                        Haiti\n",
       "58                      Honduras\n",
       "76     Hong Kong S.A.R. of China\n",
       "52                       Hungary\n",
       "3                        Iceland\n",
       "138                        India\n",
       "81                     Indonesia\n",
       "117                         Iran\n",
       "110                         Iraq\n",
       "14                       Ireland\n",
       "11                        Israel\n",
       "27                         Italy\n",
       "84                   Ivory Coast\n",
       "36                       Jamaica\n",
       "55                         Japan\n",
       "126                       Jordan\n",
       "44                    Kazakhstan\n",
       "120                        Kenya\n",
       "32                        Kosovo\n",
       "46                        Kuwait\n",
       "66                    Kyrgyzstan\n",
       "99                          Laos\n",
       "50                        Latvia\n",
       "122                      Lebanon\n",
       "144                      Lesotho\n",
       "119                      Liberia\n",
       "79                         Libya\n",
       "37                     Lithuania\n",
       "7                     Luxembourg\n",
       "134                   Madagascar\n",
       "143                       Malawi\n",
       "80                      Malaysia\n",
       "88                      Maldives\n",
       "116                         Mali\n",
       "22                         Malta\n",
       "133                   Mauritania\n",
       "49                     Mauritius\n",
       "35                        Mexico\n",
       "64                       Moldova\n",
       "69                      Mongolia\n",
       "71                    Montenegro\n",
       "105                      Morocco\n",
       "114                   Mozambique\n",
       "125                      Myanmar\n",
       "123                      Namibia\n",
       "86                         Nepal\n",
       "4                    Netherlands\n",
       "8                    New Zealand\n",
       "54                     Nicaragua\n",
       "95                         Niger\n",
       "115                      Nigeria\n",
       "73                  North Cyprus\n",
       "93               North Macedonia\n",
       "5                         Norway\n",
       "104                     Pakistan\n",
       "124      Palestinian Territories\n",
       "40                        Panama\n",
       "70                      Paraguay\n",
       "62                          Peru\n",
       "60                   Philippines\n",
       "43                        Poland\n",
       "57                      Portugal\n",
       "45                       Romania\n",
       "75                        Russia\n",
       "146                       Rwanda\n",
       "25                  Saudi Arabia\n",
       "91                       Senegal\n",
       "47                        Serbia\n",
       "137                 Sierra Leone\n",
       "31                     Singapore\n",
       "33                      Slovakia\n",
       "28                      Slovenia\n",
       "102                 South Africa\n",
       "61                   South Korea\n",
       "26                         Spain\n",
       "128                    Sri Lanka\n",
       "129                    Swaziland\n",
       "6                         Sweden\n",
       "2                    Switzerland\n",
       "23      Taiwan Province of China\n",
       "77                    Tajikistan\n",
       "141                     Tanzania\n",
       "53                      Thailand\n",
       "135                         Togo\n",
       "121                      Tunisia\n",
       "103                       Turkey\n",
       "96                  Turkmenistan\n",
       "118                       Uganda\n",
       "109                      Ukraine\n",
       "24          United Arab Emirates\n",
       "16                United Kingdom\n",
       "18                 United States\n",
       "30                       Uruguay\n",
       "41                    Uzbekistan\n",
       "106                    Venezuela\n",
       "78                       Vietnam\n",
       "140                        Yemen\n",
       "136                       Zambia\n",
       "147                     Zimbabwe\n",
       "Name: country, dtype: object"
      ]
     },
     "execution_count": 28,
     "metadata": {},
     "output_type": "execute_result"
    }
   ],
   "source": [
    "happy_df['country'].sort_values()"
   ]
  },
  {
   "cell_type": "code",
   "execution_count": 29,
   "metadata": {
    "ExecuteTime": {
     "end_time": "2022-01-27T14:21:46.595164Z",
     "start_time": "2022-01-27T14:21:46.584054Z"
    }
   },
   "outputs": [],
   "source": [
    "# happy_df.loc[happy_df['Country']=='Republic of Korea', 'Country'] = 'Korea'\n",
    "happy_df.loc[happy_df['country']=='Hong Kong S.A.R. of China', 'country'] = 'Hong Kong SAR'\n",
    "happy_df.loc[happy_df['country']=='Slovakia', 'country'] = 'Slovak Republic'\n",
    "happy_df.loc[happy_df['country']=='Russia', 'country'] = 'Russian Federation'\n",
    "happy_df.loc[happy_df['country']=='South Korea', 'country'] = 'Korea'"
   ]
  },
  {
   "cell_type": "code",
   "execution_count": 30,
   "metadata": {
    "ExecuteTime": {
     "end_time": "2022-01-27T14:21:46.602608Z",
     "start_time": "2022-01-27T14:21:46.597431Z"
    }
   },
   "outputs": [
    {
     "data": {
      "text/plain": [
       "{'Oman', 'Puerto Rico', 'Qatar'}"
      ]
     },
     "execution_count": 30,
     "metadata": {},
     "output_type": "execute_result"
    }
   ],
   "source": [
    "mega_minus_happy = set(mega_df['country']) - set(happy_df['country']) \n",
    "mega_minus_happy"
   ]
  },
  {
   "cell_type": "code",
   "execution_count": 31,
   "metadata": {
    "ExecuteTime": {
     "end_time": "2022-01-27T14:21:50.039482Z",
     "start_time": "2022-01-27T14:21:50.012826Z"
    },
    "scrolled": true
   },
   "outputs": [
    {
     "data": {
      "text/plain": [
       "(83, 15)"
      ]
     },
     "execution_count": 31,
     "metadata": {},
     "output_type": "execute_result"
    }
   ],
   "source": [
    "res_df = mega_df.merge(happy_df[['country', 'happiness']], how='left', on='country')\n",
    "res_df.shape"
   ]
  },
  {
   "cell_type": "code",
   "execution_count": 33,
   "metadata": {
    "ExecuteTime": {
     "end_time": "2022-01-27T14:22:53.686876Z",
     "start_time": "2022-01-27T14:22:53.664882Z"
    }
   },
   "outputs": [],
   "source": [
    "#taken from different years and Puerto Rico again=)\n",
    "\n",
    "res_df.loc[res_df['country']=='Oman', 'happiness'] = 6.683\n",
    "res_df.loc[res_df['country']=='Qatar', 'happiness'] = 6.74\n",
    "res_df.loc[res_df['country']=='Puerto Rico', 'happiness'] = res_df['happiness'].mean()"
   ]
  },
  {
   "cell_type": "code",
   "execution_count": 34,
   "metadata": {
    "ExecuteTime": {
     "end_time": "2022-01-27T14:22:57.378809Z",
     "start_time": "2022-01-27T14:22:57.360246Z"
    }
   },
   "outputs": [],
   "source": [
    "res_df.to_csv('../../data/result/mega_table.csv', index=None)"
   ]
  },
  {
   "cell_type": "code",
   "execution_count": null,
   "metadata": {},
   "outputs": [],
   "source": []
  },
  {
   "cell_type": "code",
   "execution_count": null,
   "metadata": {},
   "outputs": [],
   "source": []
  },
  {
   "cell_type": "code",
   "execution_count": null,
   "metadata": {},
   "outputs": [],
   "source": []
  }
 ],
 "metadata": {
  "kernelspec": {
   "display_name": "country_comparison",
   "language": "python",
   "name": "country_comparison"
  },
  "language_info": {
   "codemirror_mode": {
    "name": "ipython",
    "version": 3
   },
   "file_extension": ".py",
   "mimetype": "text/x-python",
   "name": "python",
   "nbconvert_exporter": "python",
   "pygments_lexer": "ipython3",
   "version": "3.7.4"
  }
 },
 "nbformat": 4,
 "nbformat_minor": 4
}
