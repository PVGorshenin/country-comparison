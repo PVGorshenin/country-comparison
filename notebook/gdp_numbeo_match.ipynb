{
 "cells": [
  {
   "cell_type": "code",
   "execution_count": 1,
   "metadata": {
    "ExecuteTime": {
     "end_time": "2022-01-07T12:12:12.729808Z",
     "start_time": "2022-01-07T12:12:12.104710Z"
    }
   },
   "outputs": [],
   "source": [
    "import pandas as pd\n",
    "import Levenshtein"
   ]
  },
  {
   "cell_type": "code",
   "execution_count": 2,
   "metadata": {
    "ExecuteTime": {
     "end_time": "2022-01-07T12:12:12.741931Z",
     "start_time": "2022-01-07T12:12:12.731491Z"
    }
   },
   "outputs": [],
   "source": [
    "numbeo = pd.read_csv('../data/intermediate/numbeo.csv')\n",
    "gdp_df = pd.read_csv('../data/intermediate/gdp_per_cap_ppp/gdp_per_capita_short.csv')"
   ]
  },
  {
   "cell_type": "code",
   "execution_count": 3,
   "metadata": {
    "ExecuteTime": {
     "end_time": "2022-01-07T12:12:12.760045Z",
     "start_time": "2022-01-07T12:12:12.743272Z"
    }
   },
   "outputs": [
    {
     "data": {
      "text/html": [
       "<div>\n",
       "<style scoped>\n",
       "    .dataframe tbody tr th:only-of-type {\n",
       "        vertical-align: middle;\n",
       "    }\n",
       "\n",
       "    .dataframe tbody tr th {\n",
       "        vertical-align: top;\n",
       "    }\n",
       "\n",
       "    .dataframe thead th {\n",
       "        text-align: right;\n",
       "    }\n",
       "</style>\n",
       "<table border=\"1\" class=\"dataframe\">\n",
       "  <thead>\n",
       "    <tr style=\"text-align: right;\">\n",
       "      <th></th>\n",
       "      <th>country</th>\n",
       "      <th>2021</th>\n",
       "    </tr>\n",
       "  </thead>\n",
       "  <tbody>\n",
       "    <tr>\n",
       "      <th>0</th>\n",
       "      <td>Albania</td>\n",
       "      <td>15487.000</td>\n",
       "    </tr>\n",
       "    <tr>\n",
       "      <th>1</th>\n",
       "      <td>Algeria</td>\n",
       "      <td>11828.518</td>\n",
       "    </tr>\n",
       "  </tbody>\n",
       "</table>\n",
       "</div>"
      ],
      "text/plain": [
       "   country       2021\n",
       "0  Albania  15487.000\n",
       "1  Algeria  11828.518"
      ]
     },
     "execution_count": 3,
     "metadata": {},
     "output_type": "execute_result"
    }
   ],
   "source": [
    "gdp_df.head(2)"
   ]
  },
  {
   "cell_type": "code",
   "execution_count": 34,
   "metadata": {
    "ExecuteTime": {
     "end_time": "2022-01-07T12:34:26.118919Z",
     "start_time": "2022-01-07T12:34:26.104803Z"
    }
   },
   "outputs": [],
   "source": [
    "gdp_df['country'] = gdp_df['country'].map(lambda z: z.strip())"
   ]
  },
  {
   "cell_type": "code",
   "execution_count": 4,
   "metadata": {
    "ExecuteTime": {
     "end_time": "2022-01-07T12:12:12.772623Z",
     "start_time": "2022-01-07T12:12:12.761487Z"
    }
   },
   "outputs": [
    {
     "data": {
      "text/html": [
       "<div>\n",
       "<style scoped>\n",
       "    .dataframe tbody tr th:only-of-type {\n",
       "        vertical-align: middle;\n",
       "    }\n",
       "\n",
       "    .dataframe tbody tr th {\n",
       "        vertical-align: top;\n",
       "    }\n",
       "\n",
       "    .dataframe thead th {\n",
       "        text-align: right;\n",
       "    }\n",
       "</style>\n",
       "<table border=\"1\" class=\"dataframe\">\n",
       "  <thead>\n",
       "    <tr style=\"text-align: right;\">\n",
       "      <th></th>\n",
       "      <th>Country</th>\n",
       "      <th>Quality of Life Index</th>\n",
       "      <th>Purchasing Power Index</th>\n",
       "      <th>Safety Index</th>\n",
       "      <th>Health Care Index</th>\n",
       "      <th>Cost of Living Index</th>\n",
       "      <th>Property Price to Income Ratio</th>\n",
       "      <th>Traffic Commute Time Index</th>\n",
       "      <th>Pollution Index</th>\n",
       "      <th>Climate Index</th>\n",
       "    </tr>\n",
       "  </thead>\n",
       "  <tbody>\n",
       "    <tr>\n",
       "      <th>0</th>\n",
       "      <td>Switzerland</td>\n",
       "      <td>188.36</td>\n",
       "      <td>102.77</td>\n",
       "      <td>78.38</td>\n",
       "      <td>74.08</td>\n",
       "      <td>125.02</td>\n",
       "      <td>8.18</td>\n",
       "      <td>28.67</td>\n",
       "      <td>19.86</td>\n",
       "      <td>80.05</td>\n",
       "    </tr>\n",
       "    <tr>\n",
       "      <th>1</th>\n",
       "      <td>Denmark</td>\n",
       "      <td>186.25</td>\n",
       "      <td>86.43</td>\n",
       "      <td>73.78</td>\n",
       "      <td>79.79</td>\n",
       "      <td>88.53</td>\n",
       "      <td>7.00</td>\n",
       "      <td>28.69</td>\n",
       "      <td>21.29</td>\n",
       "      <td>81.80</td>\n",
       "    </tr>\n",
       "  </tbody>\n",
       "</table>\n",
       "</div>"
      ],
      "text/plain": [
       "       Country  Quality of Life Index  Purchasing Power Index  Safety Index  \\\n",
       "0  Switzerland                 188.36                  102.77         78.38   \n",
       "1      Denmark                 186.25                   86.43         73.78   \n",
       "\n",
       "   Health Care Index  Cost of Living Index  Property Price to Income Ratio  \\\n",
       "0              74.08                125.02                            8.18   \n",
       "1              79.79                 88.53                            7.00   \n",
       "\n",
       "   Traffic Commute Time Index  Pollution Index  Climate Index  \n",
       "0                       28.67            19.86          80.05  \n",
       "1                       28.69            21.29          81.80  "
      ]
     },
     "execution_count": 4,
     "metadata": {},
     "output_type": "execute_result"
    }
   ],
   "source": [
    "numbeo.head(2)"
   ]
  },
  {
   "cell_type": "code",
   "execution_count": 35,
   "metadata": {
    "ExecuteTime": {
     "end_time": "2022-01-07T12:34:31.053714Z",
     "start_time": "2022-01-07T12:34:31.042796Z"
    }
   },
   "outputs": [],
   "source": [
    "numbeo_minus_gdp = set(numbeo['Country']) - set(gdp_df['country']) "
   ]
  },
  {
   "cell_type": "code",
   "execution_count": 36,
   "metadata": {
    "ExecuteTime": {
     "end_time": "2022-01-07T12:34:31.278781Z",
     "start_time": "2022-01-07T12:34:31.272506Z"
    }
   },
   "outputs": [],
   "source": [
    "def find_closest_to_numbeo(gdp, numbeo_minus_gdp, is_first_word):\n",
    "    closest_dict = {}\n",
    "    \n",
    "    for country_n in numbeo_minus_gdp:\n",
    "        min_levi = 100\n",
    "        \n",
    "        for country_g in set(gdp['country']):\n",
    "            first_word_g = country_g.split(' ')[0]\n",
    "            if is_first_word:\n",
    "                curr_levi = Levenshtein.distance(country_n, first_word_g)\n",
    "            else:\n",
    "                curr_levi = Levenshtein.distance(country_n, country_g)\n",
    "\n",
    "            if curr_levi < min_levi:\n",
    "                min_levi = curr_levi\n",
    "                closest_dict[country_n] = country_g\n",
    "   \n",
    "    return closest_dict            \n",
    "    "
   ]
  },
  {
   "cell_type": "code",
   "execution_count": 37,
   "metadata": {
    "ExecuteTime": {
     "end_time": "2022-01-07T12:34:31.554973Z",
     "start_time": "2022-01-07T12:34:31.546560Z"
    }
   },
   "outputs": [
    {
     "data": {
      "text/plain": [
       "{'Slovakia': 'Slovenia',\n",
       " 'Taiwan': 'Taiwan Province of China',\n",
       " 'Bosnia And Herzegovina': 'Bolivia',\n",
       " 'Russia': 'Russian Federation',\n",
       " 'Hong Kong': 'Congo',\n",
       " 'South Korea': 'Korea'}"
      ]
     },
     "execution_count": 37,
     "metadata": {},
     "output_type": "execute_result"
    }
   ],
   "source": [
    "find_closest_to_numbeo(gdp_df,\n",
    "                     numbeo_minus_gdp,\n",
    "                    is_first_word=True)"
   ]
  },
  {
   "cell_type": "code",
   "execution_count": 38,
   "metadata": {
    "ExecuteTime": {
     "end_time": "2022-01-07T12:34:33.108725Z",
     "start_time": "2022-01-07T12:34:33.090332Z"
    }
   },
   "outputs": [
    {
     "data": {
      "text/plain": [
       "{'Slovakia': 'Slovenia',\n",
       " 'Taiwan': 'Thailand',\n",
       " 'Bosnia And Herzegovina': 'Bosnia and Herzegovina',\n",
       " 'Russia': 'Tunisia',\n",
       " 'Hong Kong': 'Hong Kong SAR',\n",
       " 'South Korea': 'South Africa'}"
      ]
     },
     "execution_count": 38,
     "metadata": {},
     "output_type": "execute_result"
    }
   ],
   "source": [
    "find_closest_to_numbeo(gdp_df,\n",
    "                     numbeo_minus_gdp,\n",
    "                    is_first_word=False)"
   ]
  },
  {
   "cell_type": "code",
   "execution_count": 46,
   "metadata": {
    "ExecuteTime": {
     "end_time": "2022-01-07T12:38:39.416190Z",
     "start_time": "2022-01-07T12:38:39.404892Z"
    }
   },
   "outputs": [],
   "source": [
    "numbeo.loc[numbeo['Country']=='Russia', 'Country'] = 'Russian Federation'\n",
    "numbeo.loc[numbeo['Country']=='Taiwan', 'Country'] = 'Taiwan Province of China'\n",
    "numbeo.loc[numbeo['Country']=='Bosnia And Herzegovina', 'Country'] = 'Bosnia and Herzegovina'\n",
    "numbeo.loc[numbeo['Country']=='Hong Kong', 'Country'] = 'Hong Kong SAR'\n",
    "numbeo.loc[numbeo['Country']=='South Korea', 'Country'] = 'Korea'\n",
    "numbeo.loc[numbeo['Country']=='Slovakia', 'Country'] = 'Slovak Republic'"
   ]
  },
  {
   "cell_type": "code",
   "execution_count": 50,
   "metadata": {
    "ExecuteTime": {
     "end_time": "2022-01-07T12:39:52.114635Z",
     "start_time": "2022-01-07T12:39:52.100757Z"
    }
   },
   "outputs": [
    {
     "data": {
      "text/plain": [
       "set()"
      ]
     },
     "execution_count": 50,
     "metadata": {},
     "output_type": "execute_result"
    }
   ],
   "source": [
    "numbeo_minus_gdp = set(numbeo['Country']) - set(gdp_df['country']) \n",
    "numbeo_minus_gdp"
   ]
  },
  {
   "cell_type": "code",
   "execution_count": 53,
   "metadata": {
    "ExecuteTime": {
     "end_time": "2022-01-07T12:42:51.983193Z",
     "start_time": "2022-01-07T12:42:51.973197Z"
    }
   },
   "outputs": [],
   "source": [
    "res_df = numbeo.merge(gdp_df, how='inner', left_on='Country', right_on='country')\n",
    "res_df.rename({'2021': 'gdp_2021'}, axis=1, inplace=True)\n",
    "res_df.drop('Country', axis=1, inplace=True)"
   ]
  },
  {
   "cell_type": "code",
   "execution_count": 55,
   "metadata": {
    "ExecuteTime": {
     "end_time": "2022-01-07T12:44:00.991405Z",
     "start_time": "2022-01-07T12:44:00.972827Z"
    }
   },
   "outputs": [],
   "source": [
    "res_df.to_csv('../data/result/numbeo_gdp.csv', index=None)"
   ]
  },
  {
   "cell_type": "code",
   "execution_count": null,
   "metadata": {},
   "outputs": [],
   "source": []
  },
  {
   "cell_type": "code",
   "execution_count": null,
   "metadata": {},
   "outputs": [],
   "source": []
  }
 ],
 "metadata": {
  "kernelspec": {
   "display_name": "country-comparison",
   "language": "python",
   "name": "country-comparison"
  },
  "language_info": {
   "codemirror_mode": {
    "name": "ipython",
    "version": 3
   },
   "file_extension": ".py",
   "mimetype": "text/x-python",
   "name": "python",
   "nbconvert_exporter": "python",
   "pygments_lexer": "ipython3",
   "version": "3.7.6"
  }
 },
 "nbformat": 4,
 "nbformat_minor": 4
}
