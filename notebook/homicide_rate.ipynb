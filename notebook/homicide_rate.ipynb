{
 "cells": [
  {
   "cell_type": "code",
   "execution_count": 1,
   "metadata": {
    "ExecuteTime": {
     "end_time": "2022-01-07T14:05:10.309847Z",
     "start_time": "2022-01-07T14:05:09.454892Z"
    }
   },
   "outputs": [],
   "source": [
    "import pandas as pd\n",
    "from sklearn.preprocessing import MinMaxScaler\n",
    "\n",
    "pd.options.display.max_columns=500\n",
    "pd.options.display.max_rows=500\n",
    "pd.options.display.max_colwidth=500"
   ]
  },
  {
   "cell_type": "code",
   "execution_count": 2,
   "metadata": {
    "ExecuteTime": {
     "end_time": "2022-01-07T14:05:10.429297Z",
     "start_time": "2022-01-07T14:05:10.311568Z"
    }
   },
   "outputs": [
    {
     "name": "stdout",
     "output_type": "stream",
     "text": [
      "total 3568\r\n",
      "-rw-rw-r-- 1 saiko 3650482 Dec 30 14:57 download_Full_Data_data.csv\r\n"
     ]
    }
   ],
   "source": [
    "ll ../data/input/homicide_rate/"
   ]
  },
  {
   "cell_type": "code",
   "execution_count": 3,
   "metadata": {
    "ExecuteTime": {
     "end_time": "2022-01-07T14:05:10.515015Z",
     "start_time": "2022-01-07T14:05:10.436188Z"
    }
   },
   "outputs": [],
   "source": [
    "homi_df = pd.read_csv('..//data/input/homicide_rate/download_Full_Data_data.csv')\n",
    "gdp_df = pd.read_csv('../data/intermediate/gdp_per_cap_ppp/gdp_per_capita_short.csv')"
   ]
  },
  {
   "cell_type": "code",
   "execution_count": 4,
   "metadata": {
    "ExecuteTime": {
     "end_time": "2022-01-07T14:05:10.532088Z",
     "start_time": "2022-01-07T14:05:10.517120Z"
    }
   },
   "outputs": [
    {
     "data": {
      "text/plain": [
       "Index(['download', 'Country', 'Icon', 'Indicator', 'Region', 'Source',\n",
       "       'Subregion', 'Year', 'Homicide filtered by Indicator',\n",
       "       'Number of Records', 'value'],\n",
       "      dtype='object')"
      ]
     },
     "execution_count": 4,
     "metadata": {},
     "output_type": "execute_result"
    }
   ],
   "source": [
    "homi_df.columns"
   ]
  },
  {
   "cell_type": "code",
   "execution_count": 5,
   "metadata": {
    "ExecuteTime": {
     "end_time": "2022-01-07T14:05:10.552911Z",
     "start_time": "2022-01-07T14:05:10.535185Z"
    }
   },
   "outputs": [
    {
     "data": {
      "text/html": [
       "<div>\n",
       "<style scoped>\n",
       "    .dataframe tbody tr th:only-of-type {\n",
       "        vertical-align: middle;\n",
       "    }\n",
       "\n",
       "    .dataframe tbody tr th {\n",
       "        vertical-align: top;\n",
       "    }\n",
       "\n",
       "    .dataframe thead th {\n",
       "        text-align: right;\n",
       "    }\n",
       "</style>\n",
       "<table border=\"1\" class=\"dataframe\">\n",
       "  <thead>\n",
       "    <tr style=\"text-align: right;\">\n",
       "      <th></th>\n",
       "      <th>download</th>\n",
       "      <th>Country</th>\n",
       "      <th>Icon</th>\n",
       "      <th>Indicator</th>\n",
       "      <th>Region</th>\n",
       "      <th>Source</th>\n",
       "      <th>Subregion</th>\n",
       "      <th>Year</th>\n",
       "      <th>Homicide filtered by Indicator</th>\n",
       "      <th>Number of Records</th>\n",
       "      <th>value</th>\n",
       "    </tr>\n",
       "  </thead>\n",
       "  <tbody>\n",
       "    <tr>\n",
       "      <th>0</th>\n",
       "      <td>NaN</td>\n",
       "      <td>Afghanistan</td>\n",
       "      <td>NaN</td>\n",
       "      <td>Female homicide count</td>\n",
       "      <td>Asia</td>\n",
       "      <td>NSO</td>\n",
       "      <td>Southern Asia</td>\n",
       "      <td>2015</td>\n",
       "      <td>NaN</td>\n",
       "      <td>1</td>\n",
       "      <td>93.0</td>\n",
       "    </tr>\n",
       "    <tr>\n",
       "      <th>1</th>\n",
       "      <td>NaN</td>\n",
       "      <td>Afghanistan</td>\n",
       "      <td>NaN</td>\n",
       "      <td>Female homicide count</td>\n",
       "      <td>Asia</td>\n",
       "      <td>NSO</td>\n",
       "      <td>Southern Asia</td>\n",
       "      <td>2016</td>\n",
       "      <td>NaN</td>\n",
       "      <td>1</td>\n",
       "      <td>101.0</td>\n",
       "    </tr>\n",
       "  </tbody>\n",
       "</table>\n",
       "</div>"
      ],
      "text/plain": [
       "   download      Country  Icon              Indicator Region Source  \\\n",
       "0       NaN  Afghanistan   NaN  Female homicide count   Asia    NSO   \n",
       "1       NaN  Afghanistan   NaN  Female homicide count   Asia    NSO   \n",
       "\n",
       "       Subregion  Year  Homicide filtered by Indicator  Number of Records  \\\n",
       "0  Southern Asia  2015                             NaN                  1   \n",
       "1  Southern Asia  2016                             NaN                  1   \n",
       "\n",
       "   value  \n",
       "0   93.0  \n",
       "1  101.0  "
      ]
     },
     "execution_count": 5,
     "metadata": {},
     "output_type": "execute_result"
    }
   ],
   "source": [
    "homi_df.head(2)"
   ]
  },
  {
   "cell_type": "code",
   "execution_count": 8,
   "metadata": {
    "ExecuteTime": {
     "end_time": "2022-01-07T14:11:07.020732Z",
     "start_time": "2022-01-07T14:11:07.009112Z"
    },
    "scrolled": true
   },
   "outputs": [
    {
     "data": {
      "text/plain": [
       "2018"
      ]
     },
     "execution_count": 8,
     "metadata": {},
     "output_type": "execute_result"
    }
   ],
   "source": [
    "homi_df['Year'].max()"
   ]
  },
  {
   "cell_type": "code",
   "execution_count": 9,
   "metadata": {
    "ExecuteTime": {
     "end_time": "2022-01-07T14:12:17.714324Z",
     "start_time": "2022-01-07T14:12:17.694093Z"
    }
   },
   "outputs": [],
   "source": [
    "is_summarize_rate = homi_df['Indicator'] == 'Homicide rate'\n",
    "homi_df = homi_df[is_summarize_rate]"
   ]
  },
  {
   "cell_type": "code",
   "execution_count": 14,
   "metadata": {
    "ExecuteTime": {
     "end_time": "2022-01-07T14:14:58.023107Z",
     "start_time": "2022-01-07T14:14:58.005795Z"
    }
   },
   "outputs": [],
   "source": [
    "is_max_year = homi_df['Year'] == homi_df.groupby('Country')['Year'].transform(max)\n",
    "homi_df = homi_df[is_max_year]"
   ]
  },
  {
   "cell_type": "code",
   "execution_count": 16,
   "metadata": {
    "ExecuteTime": {
     "end_time": "2022-01-07T14:16:07.654640Z",
     "start_time": "2022-01-07T14:16:07.635016Z"
    }
   },
   "outputs": [],
   "source": [
    "homi_df[['Country', 'Year', 'value']].to_csv('../data/intermediate/homi_short.csv', index=None)"
   ]
  },
  {
   "cell_type": "code",
   "execution_count": null,
   "metadata": {},
   "outputs": [],
   "source": []
  },
  {
   "cell_type": "code",
   "execution_count": null,
   "metadata": {},
   "outputs": [],
   "source": []
  },
  {
   "cell_type": "code",
   "execution_count": null,
   "metadata": {},
   "outputs": [],
   "source": []
  }
 ],
 "metadata": {
  "kernelspec": {
   "display_name": "country-comparison",
   "language": "python",
   "name": "country-comparison"
  },
  "language_info": {
   "codemirror_mode": {
    "name": "ipython",
    "version": 3
   },
   "file_extension": ".py",
   "mimetype": "text/x-python",
   "name": "python",
   "nbconvert_exporter": "python",
   "pygments_lexer": "ipython3",
   "version": "3.7.6"
  }
 },
 "nbformat": 4,
 "nbformat_minor": 4
}
