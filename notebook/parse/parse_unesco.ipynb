{
 "cells": [
  {
   "cell_type": "code",
   "execution_count": 2,
   "metadata": {
    "ExecuteTime": {
     "end_time": "2022-02-09T13:22:09.182984Z",
     "start_time": "2022-02-09T13:22:08.788166Z"
    }
   },
   "outputs": [],
   "source": [
    "from bs4 import BeautifulSoup\n",
    "from tqdm import tqdm\n",
    "import pandas as pd\n",
    "import requests"
   ]
  },
  {
   "cell_type": "code",
   "execution_count": 3,
   "metadata": {
    "ExecuteTime": {
     "end_time": "2022-02-09T13:22:09.987321Z",
     "start_time": "2022-02-09T13:22:09.622744Z"
    }
   },
   "outputs": [],
   "source": [
    "r = requests.get('https://en.wikipedia.org/wiki/World_Heritage_Sites_by_country')\n",
    "\n",
    "soup = BeautifulSoup(r.text, 'html.parser')"
   ]
  },
  {
   "cell_type": "code",
   "execution_count": 4,
   "metadata": {
    "ExecuteTime": {
     "end_time": "2022-02-09T13:22:10.907743Z",
     "start_time": "2022-02-09T13:22:10.898365Z"
    }
   },
   "outputs": [],
   "source": [
    "table = soup.find(\"table\",{\"class\":\"wikitable sortable\"})\n",
    "\n",
    "countries = table.find('tbody').find_all('tr')"
   ]
  },
  {
   "cell_type": "code",
   "execution_count": 48,
   "metadata": {
    "ExecuteTime": {
     "end_time": "2022-01-28T14:03:07.712028Z",
     "start_time": "2022-01-28T14:03:07.701546Z"
    }
   },
   "outputs": [],
   "source": [
    "def get_country(country):\n",
    "    return country.find_all('td')[0].find('a')['title']"
   ]
  },
  {
   "cell_type": "code",
   "execution_count": 56,
   "metadata": {
    "ExecuteTime": {
     "end_time": "2022-01-28T14:06:08.105316Z",
     "start_time": "2022-01-28T14:06:08.091908Z"
    }
   },
   "outputs": [],
   "source": [
    "def get_total_objects(country):\n",
    "    return int(country.find_all('td')[4].text.strip())"
   ]
  },
  {
   "cell_type": "code",
   "execution_count": 59,
   "metadata": {
    "ExecuteTime": {
     "end_time": "2022-01-28T14:06:25.268856Z",
     "start_time": "2022-01-28T14:06:25.263357Z"
    }
   },
   "outputs": [
    {
     "data": {
      "text/plain": [
       "'Andorra'"
      ]
     },
     "execution_count": 59,
     "metadata": {},
     "output_type": "execute_result"
    }
   ],
   "source": [
    "get_total_objects(countries[4])\n",
    "get_country(countries[4])"
   ]
  },
  {
   "cell_type": "code",
   "execution_count": 67,
   "metadata": {
    "ExecuteTime": {
     "end_time": "2022-01-28T14:11:59.133911Z",
     "start_time": "2022-01-28T14:11:59.114813Z"
    }
   },
   "outputs": [
    {
     "name": "stderr",
     "output_type": "stream",
     "text": [
      "100%|██████████████████████████████████████| 168/168 [00:00<00:00, 17336.53it/s]\n"
     ]
    }
   ],
   "source": [
    "country_dct = {'country': [],\n",
    "              'unesco_objects': []}\n",
    "for country in tqdm(countries[1:-2]):\n",
    "    country_dct['country'].append(get_country(country))\n",
    "    country_dct['unesco_objects'].append(get_total_objects(country))"
   ]
  },
  {
   "cell_type": "code",
   "execution_count": 70,
   "metadata": {
    "ExecuteTime": {
     "end_time": "2022-01-28T14:14:21.334926Z",
     "start_time": "2022-01-28T14:14:21.330374Z"
    }
   },
   "outputs": [],
   "source": [
    "unesco_df = pd.DataFrame(country_dct)"
   ]
  },
  {
   "cell_type": "code",
   "execution_count": 71,
   "metadata": {
    "ExecuteTime": {
     "end_time": "2022-01-28T14:14:26.461355Z",
     "start_time": "2022-01-28T14:14:26.444594Z"
    }
   },
   "outputs": [],
   "source": [
    "unesco_df.to_csv('../../data/intermediate/unesco.csv', index=None)"
   ]
  },
  {
   "cell_type": "code",
   "execution_count": null,
   "metadata": {},
   "outputs": [],
   "source": []
  },
  {
   "cell_type": "code",
   "execution_count": null,
   "metadata": {},
   "outputs": [],
   "source": []
  },
  {
   "cell_type": "code",
   "execution_count": null,
   "metadata": {},
   "outputs": [],
   "source": []
  }
 ],
 "metadata": {
  "kernelspec": {
   "display_name": "Python 3",
   "language": "python",
   "name": "python3"
  },
  "language_info": {
   "codemirror_mode": {
    "name": "ipython",
    "version": 3
   },
   "file_extension": ".py",
   "mimetype": "text/x-python",
   "name": "python",
   "nbconvert_exporter": "python",
   "pygments_lexer": "ipython3",
   "version": "3.7.4"
  }
 },
 "nbformat": 4,
 "nbformat_minor": 4
}
