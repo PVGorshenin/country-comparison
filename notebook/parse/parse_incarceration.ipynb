{
 "cells": [
  {
   "cell_type": "code",
   "execution_count": 61,
   "metadata": {
    "ExecuteTime": {
     "end_time": "2022-02-09T13:40:35.021003Z",
     "start_time": "2022-02-09T13:40:35.015615Z"
    }
   },
   "outputs": [],
   "source": [
    "from bs4 import BeautifulSoup\n",
    "from tqdm import tqdm\n",
    "import numpy as np\n",
    "import pandas as pd\n",
    "import requests"
   ]
  },
  {
   "cell_type": "code",
   "execution_count": 2,
   "metadata": {
    "ExecuteTime": {
     "end_time": "2022-02-09T13:17:10.299145Z",
     "start_time": "2022-02-09T13:17:09.827892Z"
    }
   },
   "outputs": [],
   "source": [
    "r = requests.get('https://en.wikipedia.org/wiki/List_of_countries_by_incarceration_rate')\n",
    "\n",
    "soup = BeautifulSoup(r.text, 'html.parser')"
   ]
  },
  {
   "cell_type": "code",
   "execution_count": 29,
   "metadata": {
    "ExecuteTime": {
     "end_time": "2022-02-09T13:29:38.456389Z",
     "start_time": "2022-02-09T13:29:38.439731Z"
    }
   },
   "outputs": [],
   "source": [
    "table = soup.find(\"table\",{\"class\":\"wikitable sortable static-row-numbers plainrowheaders srn-white-background\"})\n",
    "\n",
    "countries = table.find('tbody').find_all('tr')"
   ]
  },
  {
   "cell_type": "code",
   "execution_count": 115,
   "metadata": {
    "ExecuteTime": {
     "end_time": "2022-02-09T14:09:15.598481Z",
     "start_time": "2022-02-09T14:09:15.583209Z"
    }
   },
   "outputs": [],
   "source": [
    "def get_country(country):\n",
    "    return country.find_all('td')[0].find('a').text.replace('*', '').strip()"
   ]
  },
  {
   "cell_type": "code",
   "execution_count": 116,
   "metadata": {
    "ExecuteTime": {
     "end_time": "2022-02-09T14:09:15.921330Z",
     "start_time": "2022-02-09T14:09:15.913271Z"
    }
   },
   "outputs": [],
   "source": [
    "def get_total_rate(country):\n",
    "    rate = country.find_all('td')[4].text\n",
    "    if rate == 'N/A': return np.NaN\n",
    "    return float(rate)"
   ]
  },
  {
   "cell_type": "code",
   "execution_count": 117,
   "metadata": {
    "ExecuteTime": {
     "end_time": "2022-02-09T14:09:16.162173Z",
     "start_time": "2022-02-09T14:09:16.149139Z"
    }
   },
   "outputs": [
    {
     "data": {
      "text/plain": [
       "97.4"
      ]
     },
     "execution_count": 117,
     "metadata": {},
     "output_type": "execute_result"
    }
   ],
   "source": [
    "get_total_rate(countries[2])"
   ]
  },
  {
   "cell_type": "code",
   "execution_count": 118,
   "metadata": {
    "ExecuteTime": {
     "end_time": "2022-02-09T14:09:16.417441Z",
     "start_time": "2022-02-09T14:09:16.338388Z"
    }
   },
   "outputs": [
    {
     "name": "stderr",
     "output_type": "stream",
     "text": [
      "100%|██████████| 226/226 [00:00<00:00, 3619.45it/s]\n"
     ]
    }
   ],
   "source": [
    "country_dct = {'country': [],\n",
    "              'incarceration_rate': []}\n",
    "for country in tqdm(countries[2:]):\n",
    "    country_dct['country'].append(get_country(country))\n",
    "    country_dct['incarceration_rate'].append(get_total_rate(country))"
   ]
  },
  {
   "cell_type": "code",
   "execution_count": 119,
   "metadata": {
    "ExecuteTime": {
     "end_time": "2022-02-09T14:09:16.526236Z",
     "start_time": "2022-02-09T14:09:16.522105Z"
    }
   },
   "outputs": [],
   "source": [
    "prison_df = pd.DataFrame(country_dct)"
   ]
  },
  {
   "cell_type": "code",
   "execution_count": 120,
   "metadata": {
    "ExecuteTime": {
     "end_time": "2022-02-09T14:09:16.756169Z",
     "start_time": "2022-02-09T14:09:16.735758Z"
    }
   },
   "outputs": [
    {
     "data": {
      "text/plain": [
       "5"
      ]
     },
     "execution_count": 120,
     "metadata": {},
     "output_type": "execute_result"
    }
   ],
   "source": [
    "prison_df['incarceration_rate'].isnull().sum()"
   ]
  },
  {
   "cell_type": "code",
   "execution_count": 121,
   "metadata": {
    "ExecuteTime": {
     "end_time": "2022-02-09T14:09:17.316031Z",
     "start_time": "2022-02-09T14:09:17.297606Z"
    }
   },
   "outputs": [],
   "source": [
    "prison_df.to_csv('../../data/intermediate/prison.csv', index=None)"
   ]
  },
  {
   "cell_type": "code",
   "execution_count": null,
   "metadata": {},
   "outputs": [],
   "source": []
  },
  {
   "cell_type": "code",
   "execution_count": null,
   "metadata": {},
   "outputs": [],
   "source": []
  },
  {
   "cell_type": "code",
   "execution_count": null,
   "metadata": {},
   "outputs": [],
   "source": []
  }
 ],
 "metadata": {
  "kernelspec": {
   "display_name": "Python 3",
   "language": "python",
   "name": "python3"
  },
  "language_info": {
   "codemirror_mode": {
    "name": "ipython",
    "version": 3
   },
   "file_extension": ".py",
   "mimetype": "text/x-python",
   "name": "python",
   "nbconvert_exporter": "python",
   "pygments_lexer": "ipython3",
   "version": "3.7.4"
  }
 },
 "nbformat": 4,
 "nbformat_minor": 4
}
