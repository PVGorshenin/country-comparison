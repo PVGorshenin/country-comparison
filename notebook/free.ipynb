{
 "cells": [
  {
   "cell_type": "code",
   "execution_count": 3,
   "metadata": {
    "ExecuteTime": {
     "end_time": "2022-02-04T10:34:50.550777Z",
     "start_time": "2022-02-04T10:34:50.013267Z"
    }
   },
   "outputs": [],
   "source": [
    "import pandas as pd\n",
    "%run ../country_comparison/compare.py\n",
    "\n",
    "pd.options.display.max_columns=500\n",
    "pd.options.display.max_rows=500\n",
    "pd.options.display.max_colwidth=500"
   ]
  },
  {
   "cell_type": "code",
   "execution_count": 4,
   "metadata": {
    "ExecuteTime": {
     "end_time": "2022-02-04T10:34:50.557395Z",
     "start_time": "2022-02-04T10:34:50.551928Z"
    }
   },
   "outputs": [],
   "source": [
    "df = pd.read_csv('../data/result/final_standings.csv')"
   ]
  },
  {
   "cell_type": "code",
   "execution_count": 19,
   "metadata": {
    "ExecuteTime": {
     "end_time": "2022-02-04T10:54:29.956368Z",
     "start_time": "2022-02-04T10:54:29.951266Z"
    },
    "scrolled": true
   },
   "outputs": [],
   "source": [
    "inp_country = df.loc[df['country']=='Russian Federation', 'gdp_ppp':].values\n",
    "\n",
    "other_countries = df.loc[df['country']!='Russian Federation', 'gdp_ppp':].values\n",
    "other_countries_n = df.loc[df['country']!='Russian Federation', 'country'].values"
   ]
  },
  {
   "cell_type": "code",
   "execution_count": 25,
   "metadata": {
    "ExecuteTime": {
     "end_time": "2022-02-04T11:00:53.684203Z",
     "start_time": "2022-02-04T11:00:53.674773Z"
    }
   },
   "outputs": [],
   "source": [
    "from sklearn.metrics.pairwise import euclidean_distances, cosine_distances"
   ]
  },
  {
   "cell_type": "code",
   "execution_count": 26,
   "metadata": {
    "ExecuteTime": {
     "end_time": "2022-02-04T11:00:56.724347Z",
     "start_time": "2022-02-04T11:00:56.676505Z"
    }
   },
   "outputs": [
    {
     "name": "stdout",
     "output_type": "stream",
     "text": [
      "[[0.04465153]] Ukraine\n",
      "[[0.09744839]] Belarus\n"
     ]
    }
   ],
   "source": [
    "min_dist = 100500\n",
    "for country_name, country_vect in zip(other_countries_n, other_countries):\n",
    "    curr_dist = cosine_distances(inp_country.reshape(1, -1), country_vect.reshape(1, -1))\n",
    "    if (country_name == 'Ukraine') | (country_name == 'Belarus'):\n",
    "        print(curr_dist, country_name)\n",
    "    if curr_dist < min_dist:\n",
    "        country_buddie = country_name\n",
    "        min_dist = curr_dist"
   ]
  },
  {
   "cell_type": "code",
   "execution_count": 27,
   "metadata": {
    "ExecuteTime": {
     "end_time": "2022-02-04T11:01:05.614177Z",
     "start_time": "2022-02-04T11:01:05.594341Z"
    }
   },
   "outputs": [
    {
     "data": {
      "text/plain": [
       "'Ukraine'"
      ]
     },
     "execution_count": 27,
     "metadata": {},
     "output_type": "execute_result"
    }
   ],
   "source": [
    "country_buddie"
   ]
  },
  {
   "cell_type": "code",
   "execution_count": null,
   "metadata": {},
   "outputs": [],
   "source": []
  },
  {
   "cell_type": "code",
   "execution_count": null,
   "metadata": {},
   "outputs": [],
   "source": []
  },
  {
   "cell_type": "code",
   "execution_count": null,
   "metadata": {},
   "outputs": [],
   "source": []
  },
  {
   "cell_type": "code",
   "execution_count": null,
   "metadata": {},
   "outputs": [],
   "source": []
  }
 ],
 "metadata": {
  "kernelspec": {
   "display_name": "country_comparison",
   "language": "python",
   "name": "country_comparison"
  },
  "language_info": {
   "codemirror_mode": {
    "name": "ipython",
    "version": 3
   },
   "file_extension": ".py",
   "mimetype": "text/x-python",
   "name": "python",
   "nbconvert_exporter": "python",
   "pygments_lexer": "ipython3",
   "version": "3.7.4"
  }
 },
 "nbformat": 4,
 "nbformat_minor": 4
}
