{
 "cells": [
  {
   "cell_type": "code",
   "execution_count": 21,
   "metadata": {
    "ExecuteTime": {
     "end_time": "2022-01-21T08:02:07.765150Z",
     "start_time": "2022-01-21T08:02:07.749121Z"
    }
   },
   "outputs": [],
   "source": [
    "import pandas as pd\n",
    "from sklearn.preprocessing import MinMaxScaler\n",
    "\n",
    "pd.options.display.max_columns=500\n",
    "pd.options.display.max_rows=500\n",
    "pd.options.display.max_colwidth=500"
   ]
  },
  {
   "cell_type": "code",
   "execution_count": 22,
   "metadata": {
    "ExecuteTime": {
     "end_time": "2022-01-21T08:02:07.792007Z",
     "start_time": "2022-01-21T08:02:07.771412Z"
    }
   },
   "outputs": [],
   "source": [
    "sui_df = pd.read_csv('../../data/input/suicide_rate.csv')"
   ]
  },
  {
   "cell_type": "code",
   "execution_count": 23,
   "metadata": {
    "ExecuteTime": {
     "end_time": "2022-01-21T08:02:07.798386Z",
     "start_time": "2022-01-21T08:02:07.793714Z"
    }
   },
   "outputs": [
    {
     "data": {
      "text/plain": [
       "Index(['Unnamed: 0', 'Unnamed: 1',\n",
       "       'Age-standardized suicide rates (per 100 000 population)',\n",
       "       'Age-standardized suicide rates (per 100 000 population).1',\n",
       "       'Age-standardized suicide rates (per 100 000 population).2',\n",
       "       'Age-standardized suicide rates (per 100 000 population).3',\n",
       "       'Age-standardized suicide rates (per 100 000 population).4',\n",
       "       'Age-standardized suicide rates (per 100 000 population).5',\n",
       "       'Age-standardized suicide rates (per 100 000 population).6',\n",
       "       'Age-standardized suicide rates (per 100 000 population).7',\n",
       "       'Age-standardized suicide rates (per 100 000 population).8',\n",
       "       'Age-standardized suicide rates (per 100 000 population).9',\n",
       "       'Age-standardized suicide rates (per 100 000 population).10',\n",
       "       'Age-standardized suicide rates (per 100 000 population).11',\n",
       "       'Age-standardized suicide rates (per 100 000 population).12',\n",
       "       'Age-standardized suicide rates (per 100 000 population).13',\n",
       "       'Age-standardized suicide rates (per 100 000 population).14',\n",
       "       'Age-standardized suicide rates (per 100 000 population).15',\n",
       "       'Age-standardized suicide rates (per 100 000 population).16',\n",
       "       'Age-standardized suicide rates (per 100 000 population).17',\n",
       "       'Age-standardized suicide rates (per 100 000 population).18',\n",
       "       'Age-standardized suicide rates (per 100 000 population).19'],\n",
       "      dtype='object')"
      ]
     },
     "execution_count": 23,
     "metadata": {},
     "output_type": "execute_result"
    }
   ],
   "source": [
    "sui_df.columns"
   ]
  },
  {
   "cell_type": "code",
   "execution_count": 24,
   "metadata": {
    "ExecuteTime": {
     "end_time": "2022-01-21T08:02:07.815531Z",
     "start_time": "2022-01-21T08:02:07.800493Z"
    }
   },
   "outputs": [
    {
     "data": {
      "text/html": [
       "<div>\n",
       "<style scoped>\n",
       "    .dataframe tbody tr th:only-of-type {\n",
       "        vertical-align: middle;\n",
       "    }\n",
       "\n",
       "    .dataframe tbody tr th {\n",
       "        vertical-align: top;\n",
       "    }\n",
       "\n",
       "    .dataframe thead th {\n",
       "        text-align: right;\n",
       "    }\n",
       "</style>\n",
       "<table border=\"1\" class=\"dataframe\">\n",
       "  <thead>\n",
       "    <tr style=\"text-align: right;\">\n",
       "      <th></th>\n",
       "      <th>Unnamed: 0</th>\n",
       "      <th>Unnamed: 1</th>\n",
       "      <th>Age-standardized suicide rates (per 100 000 population)</th>\n",
       "      <th>Age-standardized suicide rates (per 100 000 population).1</th>\n",
       "      <th>Age-standardized suicide rates (per 100 000 population).2</th>\n",
       "      <th>Age-standardized suicide rates (per 100 000 population).3</th>\n",
       "      <th>Age-standardized suicide rates (per 100 000 population).4</th>\n",
       "      <th>Age-standardized suicide rates (per 100 000 population).5</th>\n",
       "      <th>Age-standardized suicide rates (per 100 000 population).6</th>\n",
       "      <th>Age-standardized suicide rates (per 100 000 population).7</th>\n",
       "      <th>Age-standardized suicide rates (per 100 000 population).8</th>\n",
       "      <th>Age-standardized suicide rates (per 100 000 population).9</th>\n",
       "      <th>Age-standardized suicide rates (per 100 000 population).10</th>\n",
       "      <th>Age-standardized suicide rates (per 100 000 population).11</th>\n",
       "      <th>Age-standardized suicide rates (per 100 000 population).12</th>\n",
       "      <th>Age-standardized suicide rates (per 100 000 population).13</th>\n",
       "      <th>Age-standardized suicide rates (per 100 000 population).14</th>\n",
       "      <th>Age-standardized suicide rates (per 100 000 population).15</th>\n",
       "      <th>Age-standardized suicide rates (per 100 000 population).16</th>\n",
       "      <th>Age-standardized suicide rates (per 100 000 population).17</th>\n",
       "      <th>Age-standardized suicide rates (per 100 000 population).18</th>\n",
       "      <th>Age-standardized suicide rates (per 100 000 population).19</th>\n",
       "    </tr>\n",
       "  </thead>\n",
       "  <tbody>\n",
       "    <tr>\n",
       "      <th>0</th>\n",
       "      <td>Country</td>\n",
       "      <td>Sex</td>\n",
       "      <td>2019</td>\n",
       "      <td>2018</td>\n",
       "      <td>2017</td>\n",
       "      <td>2016</td>\n",
       "      <td>2015</td>\n",
       "      <td>2014</td>\n",
       "      <td>2013</td>\n",
       "      <td>2012</td>\n",
       "      <td>2011</td>\n",
       "      <td>2010</td>\n",
       "      <td>2009</td>\n",
       "      <td>2008</td>\n",
       "      <td>2007</td>\n",
       "      <td>2006</td>\n",
       "      <td>2005</td>\n",
       "      <td>2004</td>\n",
       "      <td>2003</td>\n",
       "      <td>2002</td>\n",
       "      <td>2001</td>\n",
       "      <td>2000</td>\n",
       "    </tr>\n",
       "    <tr>\n",
       "      <th>1</th>\n",
       "      <td>Afghanistan</td>\n",
       "      <td>Both sexes</td>\n",
       "      <td>6.0 [3.4-9.9]</td>\n",
       "      <td>5.9 [3.4-9.8]</td>\n",
       "      <td>6.0 [3.4-9.9]</td>\n",
       "      <td>6.0 [3.5-9.9]</td>\n",
       "      <td>6.0 [3.5-9.9]</td>\n",
       "      <td>6.0 [3.5-9.9]</td>\n",
       "      <td>6.2 [3.6-10.2]</td>\n",
       "      <td>6.2 [3.6-10.2]</td>\n",
       "      <td>6.4 [3.8-10.5]</td>\n",
       "      <td>6.7 [3.9-10.9]</td>\n",
       "      <td>6.8 [4.0-11.1]</td>\n",
       "      <td>7.2 [4.2-11.7]</td>\n",
       "      <td>7.4 [4.3-12.1]</td>\n",
       "      <td>7.6 [4.4-12.3]</td>\n",
       "      <td>7.6 [4.4-12.3]</td>\n",
       "      <td>7.8 [4.5-12.6]</td>\n",
       "      <td>7.7 [4.5-12.5]</td>\n",
       "      <td>7.9 [4.5-12.8]</td>\n",
       "      <td>7.9 [4.5-12.8]</td>\n",
       "      <td>7.7 [4.4-12.5]</td>\n",
       "    </tr>\n",
       "  </tbody>\n",
       "</table>\n",
       "</div>"
      ],
      "text/plain": [
       "    Unnamed: 0  Unnamed: 1  \\\n",
       "0      Country         Sex   \n",
       "1  Afghanistan  Both sexes   \n",
       "\n",
       "  Age-standardized suicide rates (per 100 000 population)  \\\n",
       "0                                                    2019   \n",
       "1                                           6.0 [3.4-9.9]   \n",
       "\n",
       "  Age-standardized suicide rates (per 100 000 population).1  \\\n",
       "0                                                      2018   \n",
       "1                                             5.9 [3.4-9.8]   \n",
       "\n",
       "  Age-standardized suicide rates (per 100 000 population).2  \\\n",
       "0                                                      2017   \n",
       "1                                             6.0 [3.4-9.9]   \n",
       "\n",
       "  Age-standardized suicide rates (per 100 000 population).3  \\\n",
       "0                                                      2016   \n",
       "1                                             6.0 [3.5-9.9]   \n",
       "\n",
       "  Age-standardized suicide rates (per 100 000 population).4  \\\n",
       "0                                                      2015   \n",
       "1                                             6.0 [3.5-9.9]   \n",
       "\n",
       "  Age-standardized suicide rates (per 100 000 population).5  \\\n",
       "0                                                      2014   \n",
       "1                                             6.0 [3.5-9.9]   \n",
       "\n",
       "  Age-standardized suicide rates (per 100 000 population).6  \\\n",
       "0                                                      2013   \n",
       "1                                            6.2 [3.6-10.2]   \n",
       "\n",
       "  Age-standardized suicide rates (per 100 000 population).7  \\\n",
       "0                                                      2012   \n",
       "1                                            6.2 [3.6-10.2]   \n",
       "\n",
       "  Age-standardized suicide rates (per 100 000 population).8  \\\n",
       "0                                                      2011   \n",
       "1                                            6.4 [3.8-10.5]   \n",
       "\n",
       "  Age-standardized suicide rates (per 100 000 population).9  \\\n",
       "0                                                      2010   \n",
       "1                                            6.7 [3.9-10.9]   \n",
       "\n",
       "  Age-standardized suicide rates (per 100 000 population).10  \\\n",
       "0                                                       2009   \n",
       "1                                             6.8 [4.0-11.1]   \n",
       "\n",
       "  Age-standardized suicide rates (per 100 000 population).11  \\\n",
       "0                                                       2008   \n",
       "1                                             7.2 [4.2-11.7]   \n",
       "\n",
       "  Age-standardized suicide rates (per 100 000 population).12  \\\n",
       "0                                                       2007   \n",
       "1                                             7.4 [4.3-12.1]   \n",
       "\n",
       "  Age-standardized suicide rates (per 100 000 population).13  \\\n",
       "0                                                       2006   \n",
       "1                                             7.6 [4.4-12.3]   \n",
       "\n",
       "  Age-standardized suicide rates (per 100 000 population).14  \\\n",
       "0                                                       2005   \n",
       "1                                             7.6 [4.4-12.3]   \n",
       "\n",
       "  Age-standardized suicide rates (per 100 000 population).15  \\\n",
       "0                                                       2004   \n",
       "1                                             7.8 [4.5-12.6]   \n",
       "\n",
       "  Age-standardized suicide rates (per 100 000 population).16  \\\n",
       "0                                                       2003   \n",
       "1                                             7.7 [4.5-12.5]   \n",
       "\n",
       "  Age-standardized suicide rates (per 100 000 population).17  \\\n",
       "0                                                       2002   \n",
       "1                                             7.9 [4.5-12.8]   \n",
       "\n",
       "  Age-standardized suicide rates (per 100 000 population).18  \\\n",
       "0                                                       2001   \n",
       "1                                             7.9 [4.5-12.8]   \n",
       "\n",
       "  Age-standardized suicide rates (per 100 000 population).19  \n",
       "0                                                       2000  \n",
       "1                                             7.7 [4.4-12.5]  "
      ]
     },
     "execution_count": 24,
     "metadata": {},
     "output_type": "execute_result"
    }
   ],
   "source": [
    "sui_df.head(2)"
   ]
  },
  {
   "cell_type": "code",
   "execution_count": 25,
   "metadata": {
    "ExecuteTime": {
     "end_time": "2022-01-21T08:02:07.825279Z",
     "start_time": "2022-01-21T08:02:07.818378Z"
    }
   },
   "outputs": [],
   "source": [
    "sui_df.columns = sui_df.iloc[0]\n",
    "sui_df = sui_df.iloc[1:]"
   ]
  },
  {
   "cell_type": "code",
   "execution_count": 26,
   "metadata": {
    "ExecuteTime": {
     "end_time": "2022-01-21T08:02:07.849009Z",
     "start_time": "2022-01-21T08:02:07.827535Z"
    }
   },
   "outputs": [
    {
     "data": {
      "text/html": [
       "<div>\n",
       "<style scoped>\n",
       "    .dataframe tbody tr th:only-of-type {\n",
       "        vertical-align: middle;\n",
       "    }\n",
       "\n",
       "    .dataframe tbody tr th {\n",
       "        vertical-align: top;\n",
       "    }\n",
       "\n",
       "    .dataframe thead th {\n",
       "        text-align: right;\n",
       "    }\n",
       "</style>\n",
       "<table border=\"1\" class=\"dataframe\">\n",
       "  <thead>\n",
       "    <tr style=\"text-align: right;\">\n",
       "      <th></th>\n",
       "      <th>Country</th>\n",
       "      <th>Sex</th>\n",
       "      <th>2019</th>\n",
       "      <th>2018</th>\n",
       "      <th>2017</th>\n",
       "      <th>2016</th>\n",
       "      <th>2015</th>\n",
       "      <th>2014</th>\n",
       "      <th>2013</th>\n",
       "      <th>2012</th>\n",
       "      <th>2011</th>\n",
       "      <th>2010</th>\n",
       "      <th>2009</th>\n",
       "      <th>2008</th>\n",
       "      <th>2007</th>\n",
       "      <th>2006</th>\n",
       "      <th>2005</th>\n",
       "      <th>2004</th>\n",
       "      <th>2003</th>\n",
       "      <th>2002</th>\n",
       "      <th>2001</th>\n",
       "      <th>2000</th>\n",
       "    </tr>\n",
       "  </thead>\n",
       "  <tbody>\n",
       "    <tr>\n",
       "      <th>1</th>\n",
       "      <td>Afghanistan</td>\n",
       "      <td>Both sexes</td>\n",
       "      <td>6.0 [3.4-9.9]</td>\n",
       "      <td>5.9 [3.4-9.8]</td>\n",
       "      <td>6.0 [3.4-9.9]</td>\n",
       "      <td>6.0 [3.5-9.9]</td>\n",
       "      <td>6.0 [3.5-9.9]</td>\n",
       "      <td>6.0 [3.5-9.9]</td>\n",
       "      <td>6.2 [3.6-10.2]</td>\n",
       "      <td>6.2 [3.6-10.2]</td>\n",
       "      <td>6.4 [3.8-10.5]</td>\n",
       "      <td>6.7 [3.9-10.9]</td>\n",
       "      <td>6.8 [4.0-11.1]</td>\n",
       "      <td>7.2 [4.2-11.7]</td>\n",
       "      <td>7.4 [4.3-12.1]</td>\n",
       "      <td>7.6 [4.4-12.3]</td>\n",
       "      <td>7.6 [4.4-12.3]</td>\n",
       "      <td>7.8 [4.5-12.6]</td>\n",
       "      <td>7.7 [4.5-12.5]</td>\n",
       "      <td>7.9 [4.5-12.8]</td>\n",
       "      <td>7.9 [4.5-12.8]</td>\n",
       "      <td>7.7 [4.4-12.5]</td>\n",
       "    </tr>\n",
       "    <tr>\n",
       "      <th>2</th>\n",
       "      <td>Afghanistan</td>\n",
       "      <td>Male</td>\n",
       "      <td>6.2 [3.5-10.5]</td>\n",
       "      <td>6.2 [3.5-10.4]</td>\n",
       "      <td>6.3 [3.7-10.7]</td>\n",
       "      <td>6.2 [3.6-10.3]</td>\n",
       "      <td>6.1 [3.6-10.2]</td>\n",
       "      <td>6.1 [3.6-10.2]</td>\n",
       "      <td>6.3 [3.7-10.5]</td>\n",
       "      <td>6.4 [3.7-10.5]</td>\n",
       "      <td>6.6 [3.8-10.9]</td>\n",
       "      <td>6.9 [4.0-11.3]</td>\n",
       "      <td>7.0 [4.1-11.6]</td>\n",
       "      <td>7.4 [4.3-12.2]</td>\n",
       "      <td>7.7 [4.5-12.6]</td>\n",
       "      <td>7.8 [4.5-12.7]</td>\n",
       "      <td>7.8 [4.5-12.7]</td>\n",
       "      <td>7.9 [4.5-12.9]</td>\n",
       "      <td>7.8 [4.5-12.8]</td>\n",
       "      <td>8.0 [4.6-13.1]</td>\n",
       "      <td>7.9 [4.5-12.9]</td>\n",
       "      <td>7.6 [4.4-12.5]</td>\n",
       "    </tr>\n",
       "  </tbody>\n",
       "</table>\n",
       "</div>"
      ],
      "text/plain": [
       "0      Country         Sex            2019            2018            2017  \\\n",
       "1  Afghanistan  Both sexes   6.0 [3.4-9.9]   5.9 [3.4-9.8]   6.0 [3.4-9.9]   \n",
       "2  Afghanistan        Male  6.2 [3.5-10.5]  6.2 [3.5-10.4]  6.3 [3.7-10.7]   \n",
       "\n",
       "0            2016            2015            2014            2013  \\\n",
       "1   6.0 [3.5-9.9]   6.0 [3.5-9.9]   6.0 [3.5-9.9]  6.2 [3.6-10.2]   \n",
       "2  6.2 [3.6-10.3]  6.1 [3.6-10.2]  6.1 [3.6-10.2]  6.3 [3.7-10.5]   \n",
       "\n",
       "0            2012            2011            2010            2009  \\\n",
       "1  6.2 [3.6-10.2]  6.4 [3.8-10.5]  6.7 [3.9-10.9]  6.8 [4.0-11.1]   \n",
       "2  6.4 [3.7-10.5]  6.6 [3.8-10.9]  6.9 [4.0-11.3]  7.0 [4.1-11.6]   \n",
       "\n",
       "0            2008            2007            2006            2005  \\\n",
       "1  7.2 [4.2-11.7]  7.4 [4.3-12.1]  7.6 [4.4-12.3]  7.6 [4.4-12.3]   \n",
       "2  7.4 [4.3-12.2]  7.7 [4.5-12.6]  7.8 [4.5-12.7]  7.8 [4.5-12.7]   \n",
       "\n",
       "0            2004            2003            2002            2001  \\\n",
       "1  7.8 [4.5-12.6]  7.7 [4.5-12.5]  7.9 [4.5-12.8]  7.9 [4.5-12.8]   \n",
       "2  7.9 [4.5-12.9]  7.8 [4.5-12.8]  8.0 [4.6-13.1]  7.9 [4.5-12.9]   \n",
       "\n",
       "0            2000  \n",
       "1  7.7 [4.4-12.5]  \n",
       "2  7.6 [4.4-12.5]  "
      ]
     },
     "execution_count": 26,
     "metadata": {},
     "output_type": "execute_result"
    }
   ],
   "source": [
    "sui_df.head(2)"
   ]
  },
  {
   "cell_type": "code",
   "execution_count": 27,
   "metadata": {
    "ExecuteTime": {
     "end_time": "2022-01-21T08:02:07.854527Z",
     "start_time": "2022-01-21T08:02:07.850436Z"
    }
   },
   "outputs": [
    {
     "data": {
      "text/plain": [
       "array(['Both sexes', 'Male', 'Female'], dtype=object)"
      ]
     },
     "execution_count": 27,
     "metadata": {},
     "output_type": "execute_result"
    }
   ],
   "source": [
    "sui_df['Sex'].unique()"
   ]
  },
  {
   "cell_type": "code",
   "execution_count": 28,
   "metadata": {
    "ExecuteTime": {
     "end_time": "2022-01-21T08:02:07.858818Z",
     "start_time": "2022-01-21T08:02:07.855854Z"
    }
   },
   "outputs": [],
   "source": [
    "sui_df = sui_df[sui_df['Sex']=='Both sexes']"
   ]
  },
  {
   "cell_type": "code",
   "execution_count": 29,
   "metadata": {
    "ExecuteTime": {
     "end_time": "2022-01-21T08:02:07.877963Z",
     "start_time": "2022-01-21T08:02:07.860728Z"
    }
   },
   "outputs": [],
   "source": [
    "def exclude_interval(complex_val):\n",
    "    return complex_val.split(' ')[0]\n",
    "\n",
    "for year_col in range(2000, 2020):\n",
    "    sui_df[str(year_col)] = sui_df[str(year_col)].map(lambda z: exclude_interval(z)).astype(float)"
   ]
  },
  {
   "cell_type": "code",
   "execution_count": 34,
   "metadata": {
    "ExecuteTime": {
     "end_time": "2022-01-21T10:13:23.288325Z",
     "start_time": "2022-01-21T10:13:23.256888Z"
    }
   },
   "outputs": [
    {
     "data": {
      "text/html": [
       "<div>\n",
       "<style scoped>\n",
       "    .dataframe tbody tr th:only-of-type {\n",
       "        vertical-align: middle;\n",
       "    }\n",
       "\n",
       "    .dataframe tbody tr th {\n",
       "        vertical-align: top;\n",
       "    }\n",
       "\n",
       "    .dataframe thead th {\n",
       "        text-align: right;\n",
       "    }\n",
       "</style>\n",
       "<table border=\"1\" class=\"dataframe\">\n",
       "  <thead>\n",
       "    <tr style=\"text-align: right;\">\n",
       "      <th></th>\n",
       "      <th>Country</th>\n",
       "      <th>drop</th>\n",
       "    </tr>\n",
       "  </thead>\n",
       "  <tbody>\n",
       "    <tr>\n",
       "      <th>406</th>\n",
       "      <td>Russian Federation</td>\n",
       "      <td>-27.3</td>\n",
       "    </tr>\n",
       "    <tr>\n",
       "      <th>64</th>\n",
       "      <td>Botswana</td>\n",
       "      <td>-26.1</td>\n",
       "    </tr>\n",
       "    <tr>\n",
       "      <th>289</th>\n",
       "      <td>Lithuania</td>\n",
       "      <td>-25.6</td>\n",
       "    </tr>\n",
       "    <tr>\n",
       "      <th>256</th>\n",
       "      <td>Kazakhstan</td>\n",
       "      <td>-21.3</td>\n",
       "    </tr>\n",
       "    <tr>\n",
       "      <th>43</th>\n",
       "      <td>Belarus</td>\n",
       "      <td>-20.8</td>\n",
       "    </tr>\n",
       "  </tbody>\n",
       "</table>\n",
       "</div>"
      ],
      "text/plain": [
       "0               Country  drop\n",
       "406  Russian Federation -27.3\n",
       "64             Botswana -26.1\n",
       "289           Lithuania -25.6\n",
       "256          Kazakhstan -21.3\n",
       "43              Belarus -20.8"
      ]
     },
     "execution_count": 34,
     "metadata": {},
     "output_type": "execute_result"
    }
   ],
   "source": [
    "sui_df['drop'] = sui_df['2019'] - sui_df['2000']\n",
    "\n",
    "sui_df[['Country', 'drop']].sort_values(by='drop').head()"
   ]
  },
  {
   "cell_type": "code",
   "execution_count": 35,
   "metadata": {
    "ExecuteTime": {
     "end_time": "2022-01-21T10:14:22.459353Z",
     "start_time": "2022-01-21T10:14:22.448887Z"
    }
   },
   "outputs": [],
   "source": [
    "sui_df.rename({'Country': 'country'}, axis=1, inplace=True)"
   ]
  },
  {
   "cell_type": "code",
   "execution_count": 39,
   "metadata": {
    "ExecuteTime": {
     "end_time": "2022-01-21T10:17:43.404653Z",
     "start_time": "2022-01-21T10:17:43.391118Z"
    }
   },
   "outputs": [
    {
     "data": {
      "text/html": [
       "<div>\n",
       "<style scoped>\n",
       "    .dataframe tbody tr th:only-of-type {\n",
       "        vertical-align: middle;\n",
       "    }\n",
       "\n",
       "    .dataframe tbody tr th {\n",
       "        vertical-align: top;\n",
       "    }\n",
       "\n",
       "    .dataframe thead th {\n",
       "        text-align: right;\n",
       "    }\n",
       "</style>\n",
       "<table border=\"1\" class=\"dataframe\">\n",
       "  <thead>\n",
       "    <tr style=\"text-align: right;\">\n",
       "      <th></th>\n",
       "      <th>country</th>\n",
       "      <th>2019</th>\n",
       "    </tr>\n",
       "  </thead>\n",
       "  <tbody>\n",
       "    <tr>\n",
       "      <th>280</th>\n",
       "      <td>Lesotho</td>\n",
       "      <td>87.5</td>\n",
       "    </tr>\n",
       "    <tr>\n",
       "      <th>211</th>\n",
       "      <td>Guyana</td>\n",
       "      <td>40.9</td>\n",
       "    </tr>\n",
       "    <tr>\n",
       "      <th>166</th>\n",
       "      <td>Eswatini</td>\n",
       "      <td>40.5</td>\n",
       "    </tr>\n",
       "    <tr>\n",
       "      <th>262</th>\n",
       "      <td>Kiribati</td>\n",
       "      <td>30.6</td>\n",
       "    </tr>\n",
       "    <tr>\n",
       "      <th>322</th>\n",
       "      <td>Micronesia (Federated States of)</td>\n",
       "      <td>29.0</td>\n",
       "    </tr>\n",
       "  </tbody>\n",
       "</table>\n",
       "</div>"
      ],
      "text/plain": [
       "0                             country  2019\n",
       "280                           Lesotho  87.5\n",
       "211                            Guyana  40.9\n",
       "166                          Eswatini  40.5\n",
       "262                          Kiribati  30.6\n",
       "322  Micronesia (Federated States of)  29.0"
      ]
     },
     "execution_count": 39,
     "metadata": {},
     "output_type": "execute_result"
    }
   ],
   "source": [
    "sui_df[['country', '2019']].sort_values(by='2019', ascending=False).head()"
   ]
  },
  {
   "cell_type": "code",
   "execution_count": 40,
   "metadata": {
    "ExecuteTime": {
     "end_time": "2022-01-21T10:18:06.007734Z",
     "start_time": "2022-01-21T10:18:05.888774Z"
    }
   },
   "outputs": [
    {
     "name": "stdout",
     "output_type": "stream",
     "text": [
      "total 20\r\n",
      "drwxrwxr-x 2 saiko 4096 янв 14 16:44 \u001b[0m\u001b[01;34mgdp_per_cap_ppp\u001b[0m/\r\n",
      "-rw-rw-r-- 1 saiko 4468 янв 14 16:44 homi_short.csv\r\n",
      "-rw-rw-r-- 1 saiko 5460 янв 14 16:44 numbeo.csv\r\n"
     ]
    }
   ],
   "source": [
    "ll ../../data/intermediate"
   ]
  },
  {
   "cell_type": "code",
   "execution_count": 41,
   "metadata": {
    "ExecuteTime": {
     "end_time": "2022-01-21T10:18:57.523773Z",
     "start_time": "2022-01-21T10:18:57.497094Z"
    }
   },
   "outputs": [],
   "source": [
    "sui_df[['country', 'drop', '2019']].to_csv('../../data/intermediate/sui_short', index=None)"
   ]
  },
  {
   "cell_type": "code",
   "execution_count": null,
   "metadata": {},
   "outputs": [],
   "source": []
  },
  {
   "cell_type": "code",
   "execution_count": null,
   "metadata": {},
   "outputs": [],
   "source": []
  },
  {
   "cell_type": "code",
   "execution_count": null,
   "metadata": {},
   "outputs": [],
   "source": []
  }
 ],
 "metadata": {
  "kernelspec": {
   "display_name": "country-comparison",
   "language": "python",
   "name": "country-comparison"
  },
  "language_info": {
   "codemirror_mode": {
    "name": "ipython",
    "version": 3
   },
   "file_extension": ".py",
   "mimetype": "text/x-python",
   "name": "python",
   "nbconvert_exporter": "python",
   "pygments_lexer": "ipython3",
   "version": "3.7.4"
  }
 },
 "nbformat": 4,
 "nbformat_minor": 4
}
