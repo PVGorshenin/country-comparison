{
 "cells": [
  {
   "cell_type": "code",
   "execution_count": 1,
   "metadata": {
    "ExecuteTime": {
     "end_time": "2022-01-27T13:36:48.213581Z",
     "start_time": "2022-01-27T13:36:47.987120Z"
    }
   },
   "outputs": [],
   "source": [
    "import pandas as pd\n",
    "\n",
    "pd.options.display.max_columns=500\n",
    "pd.options.display.max_rows=500\n",
    "pd.options.display.max_colwidth=500"
   ]
  },
  {
   "cell_type": "code",
   "execution_count": 14,
   "metadata": {
    "ExecuteTime": {
     "end_time": "2022-01-27T14:21:32.971381Z",
     "start_time": "2022-01-27T14:21:32.958978Z"
    }
   },
   "outputs": [],
   "source": [
    "happy_df = pd.read_excel('../../data/input/happines.xls')"
   ]
  },
  {
   "cell_type": "code",
   "execution_count": 15,
   "metadata": {
    "ExecuteTime": {
     "end_time": "2022-01-27T14:21:33.176186Z",
     "start_time": "2022-01-27T14:21:33.166621Z"
    }
   },
   "outputs": [],
   "source": [
    "happy_df.rename({'Ladder score': 'happiness', 'Country name': 'country'}, inplace=True, axis=1)"
   ]
  },
  {
   "cell_type": "code",
   "execution_count": 16,
   "metadata": {
    "ExecuteTime": {
     "end_time": "2022-01-27T14:21:33.418952Z",
     "start_time": "2022-01-27T14:21:33.391455Z"
    }
   },
   "outputs": [
    {
     "data": {
      "text/html": [
       "<div>\n",
       "<style scoped>\n",
       "    .dataframe tbody tr th:only-of-type {\n",
       "        vertical-align: middle;\n",
       "    }\n",
       "\n",
       "    .dataframe tbody tr th {\n",
       "        vertical-align: top;\n",
       "    }\n",
       "\n",
       "    .dataframe thead th {\n",
       "        text-align: right;\n",
       "    }\n",
       "</style>\n",
       "<table border=\"1\" class=\"dataframe\">\n",
       "  <thead>\n",
       "    <tr style=\"text-align: right;\">\n",
       "      <th></th>\n",
       "      <th>country</th>\n",
       "      <th>Regional indicator</th>\n",
       "      <th>happiness</th>\n",
       "      <th>Standard error of ladder score</th>\n",
       "      <th>upperwhisker</th>\n",
       "      <th>lowerwhisker</th>\n",
       "      <th>Logged GDP per capita</th>\n",
       "      <th>Social support</th>\n",
       "      <th>Healthy life expectancy</th>\n",
       "      <th>Freedom to make life choices</th>\n",
       "      <th>Generosity</th>\n",
       "      <th>Perceptions of corruption</th>\n",
       "      <th>Ladder score in Dystopia</th>\n",
       "      <th>Explained by: Log GDP per capita</th>\n",
       "      <th>Explained by: Social support</th>\n",
       "      <th>Explained by: Healthy life expectancy</th>\n",
       "      <th>Explained by: Freedom to make life choices</th>\n",
       "      <th>Explained by: Generosity</th>\n",
       "      <th>Explained by: Perceptions of corruption</th>\n",
       "      <th>Dystopia + residual</th>\n",
       "    </tr>\n",
       "  </thead>\n",
       "  <tbody>\n",
       "    <tr>\n",
       "      <th>0</th>\n",
       "      <td>Finland</td>\n",
       "      <td>Western Europe</td>\n",
       "      <td>7.8421</td>\n",
       "      <td>0.031646</td>\n",
       "      <td>7.904126</td>\n",
       "      <td>7.780075</td>\n",
       "      <td>10.775202</td>\n",
       "      <td>0.953603</td>\n",
       "      <td>72.000000</td>\n",
       "      <td>0.949268</td>\n",
       "      <td>-0.097760</td>\n",
       "      <td>0.185846</td>\n",
       "      <td>2.430343</td>\n",
       "      <td>1.446356</td>\n",
       "      <td>1.106192</td>\n",
       "      <td>0.740824</td>\n",
       "      <td>0.690577</td>\n",
       "      <td>0.124200</td>\n",
       "      <td>0.480524</td>\n",
       "      <td>3.253415</td>\n",
       "    </tr>\n",
       "    <tr>\n",
       "      <th>1</th>\n",
       "      <td>Denmark</td>\n",
       "      <td>Western Europe</td>\n",
       "      <td>7.6195</td>\n",
       "      <td>0.034657</td>\n",
       "      <td>7.687428</td>\n",
       "      <td>7.551572</td>\n",
       "      <td>10.933176</td>\n",
       "      <td>0.954410</td>\n",
       "      <td>72.699753</td>\n",
       "      <td>0.945639</td>\n",
       "      <td>0.030109</td>\n",
       "      <td>0.178838</td>\n",
       "      <td>2.430343</td>\n",
       "      <td>1.501548</td>\n",
       "      <td>1.108008</td>\n",
       "      <td>0.762862</td>\n",
       "      <td>0.686160</td>\n",
       "      <td>0.207615</td>\n",
       "      <td>0.484993</td>\n",
       "      <td>2.868296</td>\n",
       "    </tr>\n",
       "  </tbody>\n",
       "</table>\n",
       "</div>"
      ],
      "text/plain": [
       "   country Regional indicator  happiness  Standard error of ladder score  \\\n",
       "0  Finland     Western Europe     7.8421                        0.031646   \n",
       "1  Denmark     Western Europe     7.6195                        0.034657   \n",
       "\n",
       "   upperwhisker  lowerwhisker  Logged GDP per capita  Social support  \\\n",
       "0      7.904126      7.780075              10.775202        0.953603   \n",
       "1      7.687428      7.551572              10.933176        0.954410   \n",
       "\n",
       "   Healthy life expectancy  Freedom to make life choices  Generosity  \\\n",
       "0                72.000000                      0.949268   -0.097760   \n",
       "1                72.699753                      0.945639    0.030109   \n",
       "\n",
       "   Perceptions of corruption  Ladder score in Dystopia  \\\n",
       "0                   0.185846                  2.430343   \n",
       "1                   0.178838                  2.430343   \n",
       "\n",
       "   Explained by: Log GDP per capita  Explained by: Social support  \\\n",
       "0                          1.446356                      1.106192   \n",
       "1                          1.501548                      1.108008   \n",
       "\n",
       "   Explained by: Healthy life expectancy  \\\n",
       "0                               0.740824   \n",
       "1                               0.762862   \n",
       "\n",
       "   Explained by: Freedom to make life choices  Explained by: Generosity  \\\n",
       "0                                    0.690577                  0.124200   \n",
       "1                                    0.686160                  0.207615   \n",
       "\n",
       "   Explained by: Perceptions of corruption  Dystopia + residual  \n",
       "0                                 0.480524             3.253415  \n",
       "1                                 0.484993             2.868296  "
      ]
     },
     "execution_count": 16,
     "metadata": {},
     "output_type": "execute_result"
    }
   ],
   "source": [
    "happy_df.head(2)"
   ]
  },
  {
   "cell_type": "code",
   "execution_count": 18,
   "metadata": {
    "ExecuteTime": {
     "end_time": "2022-01-27T14:21:38.660557Z",
     "start_time": "2022-01-27T14:21:38.638456Z"
    }
   },
   "outputs": [],
   "source": [
    "happy_df[['country', 'happiness']].to_csv('../../data/intermediate/happiness_short.csv', index=None)"
   ]
  },
  {
   "cell_type": "code",
   "execution_count": null,
   "metadata": {},
   "outputs": [],
   "source": []
  },
  {
   "cell_type": "code",
   "execution_count": null,
   "metadata": {},
   "outputs": [],
   "source": []
  }
 ],
 "metadata": {
  "kernelspec": {
   "display_name": "country_comparison",
   "language": "python",
   "name": "country_comparison"
  },
  "language_info": {
   "codemirror_mode": {
    "name": "ipython",
    "version": 3
   },
   "file_extension": ".py",
   "mimetype": "text/x-python",
   "name": "python",
   "nbconvert_exporter": "python",
   "pygments_lexer": "ipython3",
   "version": "3.7.4"
  }
 },
 "nbformat": 4,
 "nbformat_minor": 4
}
