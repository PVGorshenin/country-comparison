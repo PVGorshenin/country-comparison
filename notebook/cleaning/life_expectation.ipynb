{
 "cells": [
  {
   "cell_type": "code",
   "execution_count": 1,
   "metadata": {
    "ExecuteTime": {
     "end_time": "2022-01-24T13:22:32.209645Z",
     "start_time": "2022-01-24T13:22:31.975383Z"
    }
   },
   "outputs": [],
   "source": [
    "import pandas as pd\n",
    "\n",
    "pd.options.display.max_columns=500\n",
    "pd.options.display.max_rows=500\n",
    "pd.options.display.max_colwidth=500"
   ]
  },
  {
   "cell_type": "code",
   "execution_count": 15,
   "metadata": {
    "ExecuteTime": {
     "end_time": "2022-01-24T13:54:50.685313Z",
     "start_time": "2022-01-24T13:54:50.661176Z"
    }
   },
   "outputs": [],
   "source": [
    "exp_df = pd.read_csv('../../data/input/life_expectancy.csv')"
   ]
  },
  {
   "cell_type": "code",
   "execution_count": 16,
   "metadata": {
    "ExecuteTime": {
     "end_time": "2022-01-24T13:54:51.113664Z",
     "start_time": "2022-01-24T13:54:51.061006Z"
    }
   },
   "outputs": [
    {
     "data": {
      "text/html": [
       "<div>\n",
       "<style scoped>\n",
       "    .dataframe tbody tr th:only-of-type {\n",
       "        vertical-align: middle;\n",
       "    }\n",
       "\n",
       "    .dataframe tbody tr th {\n",
       "        vertical-align: top;\n",
       "    }\n",
       "\n",
       "    .dataframe thead th {\n",
       "        text-align: right;\n",
       "    }\n",
       "</style>\n",
       "<table border=\"1\" class=\"dataframe\">\n",
       "  <thead>\n",
       "    <tr style=\"text-align: right;\">\n",
       "      <th></th>\n",
       "      <th>Unnamed: 0</th>\n",
       "      <th>Unnamed: 1</th>\n",
       "      <th>Life expectancy at birth (years)</th>\n",
       "      <th>Life expectancy at birth (years).1</th>\n",
       "      <th>Life expectancy at birth (years).2</th>\n",
       "      <th>Life expectancy at age 60 (years)</th>\n",
       "      <th>Life expectancy at age 60 (years).1</th>\n",
       "      <th>Life expectancy at age 60 (years).2</th>\n",
       "      <th>Healthy life expectancy (HALE) at birth (years)</th>\n",
       "      <th>Healthy life expectancy (HALE) at birth (years).1</th>\n",
       "      <th>Healthy life expectancy (HALE) at birth (years).2</th>\n",
       "      <th>Healthy life expectancy (HALE) at age 60 (years)</th>\n",
       "      <th>Healthy life expectancy (HALE) at age 60 (years).1</th>\n",
       "      <th>Healthy life expectancy (HALE) at age 60 (years).2</th>\n",
       "    </tr>\n",
       "  </thead>\n",
       "  <tbody>\n",
       "    <tr>\n",
       "      <th>0</th>\n",
       "      <td>Country</td>\n",
       "      <td>Year</td>\n",
       "      <td>Both sexes</td>\n",
       "      <td>Male</td>\n",
       "      <td>Female</td>\n",
       "      <td>Both sexes</td>\n",
       "      <td>Male</td>\n",
       "      <td>Female</td>\n",
       "      <td>Both sexes</td>\n",
       "      <td>Male</td>\n",
       "      <td>Female</td>\n",
       "      <td>Both sexes</td>\n",
       "      <td>Male</td>\n",
       "      <td>Female</td>\n",
       "    </tr>\n",
       "    <tr>\n",
       "      <th>1</th>\n",
       "      <td>Afghanistan</td>\n",
       "      <td>2019</td>\n",
       "      <td>63.2</td>\n",
       "      <td>63.3</td>\n",
       "      <td>63.2</td>\n",
       "      <td>15.2</td>\n",
       "      <td>15.4</td>\n",
       "      <td>15.1</td>\n",
       "      <td>53.9</td>\n",
       "      <td>54.7</td>\n",
       "      <td>53.2</td>\n",
       "      <td>10.8</td>\n",
       "      <td>11.2</td>\n",
       "      <td>10.6</td>\n",
       "    </tr>\n",
       "  </tbody>\n",
       "</table>\n",
       "</div>"
      ],
      "text/plain": [
       "    Unnamed: 0 Unnamed: 1 Life expectancy at birth (years)  \\\n",
       "0      Country       Year                       Both sexes   \n",
       "1  Afghanistan       2019                             63.2   \n",
       "\n",
       "  Life expectancy at birth (years).1 Life expectancy at birth (years).2  \\\n",
       "0                               Male                             Female   \n",
       "1                               63.3                               63.2   \n",
       "\n",
       "  Life expectancy at age 60 (years) Life expectancy at age 60 (years).1  \\\n",
       "0                        Both sexes                                Male   \n",
       "1                              15.2                                15.4   \n",
       "\n",
       "  Life expectancy at age 60 (years).2  \\\n",
       "0                              Female   \n",
       "1                                15.1   \n",
       "\n",
       "  Healthy life expectancy (HALE) at birth (years)  \\\n",
       "0                                      Both sexes   \n",
       "1                                            53.9   \n",
       "\n",
       "  Healthy life expectancy (HALE) at birth (years).1  \\\n",
       "0                                              Male   \n",
       "1                                              54.7   \n",
       "\n",
       "  Healthy life expectancy (HALE) at birth (years).2  \\\n",
       "0                                            Female   \n",
       "1                                              53.2   \n",
       "\n",
       "  Healthy life expectancy (HALE) at age 60 (years)  \\\n",
       "0                                       Both sexes   \n",
       "1                                             10.8   \n",
       "\n",
       "  Healthy life expectancy (HALE) at age 60 (years).1  \\\n",
       "0                                               Male   \n",
       "1                                               11.2   \n",
       "\n",
       "  Healthy life expectancy (HALE) at age 60 (years).2  \n",
       "0                                             Female  \n",
       "1                                               10.6  "
      ]
     },
     "execution_count": 16,
     "metadata": {},
     "output_type": "execute_result"
    }
   ],
   "source": [
    "exp_df.head(2)"
   ]
  },
  {
   "cell_type": "code",
   "execution_count": 17,
   "metadata": {
    "ExecuteTime": {
     "end_time": "2022-01-24T13:54:56.083333Z",
     "start_time": "2022-01-24T13:54:56.080479Z"
    }
   },
   "outputs": [],
   "source": [
    "exp_df = exp_df.iloc[:, :3]"
   ]
  },
  {
   "cell_type": "code",
   "execution_count": 18,
   "metadata": {
    "ExecuteTime": {
     "end_time": "2022-01-24T13:54:56.495340Z",
     "start_time": "2022-01-24T13:54:56.476824Z"
    }
   },
   "outputs": [
    {
     "data": {
      "text/html": [
       "<div>\n",
       "<style scoped>\n",
       "    .dataframe tbody tr th:only-of-type {\n",
       "        vertical-align: middle;\n",
       "    }\n",
       "\n",
       "    .dataframe tbody tr th {\n",
       "        vertical-align: top;\n",
       "    }\n",
       "\n",
       "    .dataframe thead th {\n",
       "        text-align: right;\n",
       "    }\n",
       "</style>\n",
       "<table border=\"1\" class=\"dataframe\">\n",
       "  <thead>\n",
       "    <tr style=\"text-align: right;\">\n",
       "      <th></th>\n",
       "      <th>Unnamed: 0</th>\n",
       "      <th>Unnamed: 1</th>\n",
       "      <th>Life expectancy at birth (years)</th>\n",
       "    </tr>\n",
       "  </thead>\n",
       "  <tbody>\n",
       "    <tr>\n",
       "      <th>0</th>\n",
       "      <td>Country</td>\n",
       "      <td>Year</td>\n",
       "      <td>Both sexes</td>\n",
       "    </tr>\n",
       "    <tr>\n",
       "      <th>1</th>\n",
       "      <td>Afghanistan</td>\n",
       "      <td>2019</td>\n",
       "      <td>63.2</td>\n",
       "    </tr>\n",
       "  </tbody>\n",
       "</table>\n",
       "</div>"
      ],
      "text/plain": [
       "    Unnamed: 0 Unnamed: 1 Life expectancy at birth (years)\n",
       "0      Country       Year                       Both sexes\n",
       "1  Afghanistan       2019                             63.2"
      ]
     },
     "execution_count": 18,
     "metadata": {},
     "output_type": "execute_result"
    }
   ],
   "source": [
    "exp_df.head(2)"
   ]
  },
  {
   "cell_type": "code",
   "execution_count": 19,
   "metadata": {
    "ExecuteTime": {
     "end_time": "2022-01-24T13:55:02.409034Z",
     "start_time": "2022-01-24T13:55:02.406587Z"
    }
   },
   "outputs": [],
   "source": [
    "exp_df.columns = exp_df.iloc[0]\n",
    "exp_df = exp_df.iloc[1:]"
   ]
  },
  {
   "cell_type": "code",
   "execution_count": 20,
   "metadata": {
    "ExecuteTime": {
     "end_time": "2022-01-24T13:55:02.681477Z",
     "start_time": "2022-01-24T13:55:02.662450Z"
    }
   },
   "outputs": [
    {
     "data": {
      "text/html": [
       "<div>\n",
       "<style scoped>\n",
       "    .dataframe tbody tr th:only-of-type {\n",
       "        vertical-align: middle;\n",
       "    }\n",
       "\n",
       "    .dataframe tbody tr th {\n",
       "        vertical-align: top;\n",
       "    }\n",
       "\n",
       "    .dataframe thead th {\n",
       "        text-align: right;\n",
       "    }\n",
       "</style>\n",
       "<table border=\"1\" class=\"dataframe\">\n",
       "  <thead>\n",
       "    <tr style=\"text-align: right;\">\n",
       "      <th></th>\n",
       "      <th>Country</th>\n",
       "      <th>Year</th>\n",
       "      <th>Both sexes</th>\n",
       "    </tr>\n",
       "  </thead>\n",
       "  <tbody>\n",
       "    <tr>\n",
       "      <th>1</th>\n",
       "      <td>Afghanistan</td>\n",
       "      <td>2019</td>\n",
       "      <td>63.2</td>\n",
       "    </tr>\n",
       "    <tr>\n",
       "      <th>2</th>\n",
       "      <td>Afghanistan</td>\n",
       "      <td>2015</td>\n",
       "      <td>61.7</td>\n",
       "    </tr>\n",
       "  </tbody>\n",
       "</table>\n",
       "</div>"
      ],
      "text/plain": [
       "0      Country  Year Both sexes\n",
       "1  Afghanistan  2019       63.2\n",
       "2  Afghanistan  2015       61.7"
      ]
     },
     "execution_count": 20,
     "metadata": {},
     "output_type": "execute_result"
    }
   ],
   "source": [
    "exp_df.head(2)"
   ]
  },
  {
   "cell_type": "code",
   "execution_count": 21,
   "metadata": {
    "ExecuteTime": {
     "end_time": "2022-01-24T13:55:07.598374Z",
     "start_time": "2022-01-24T13:55:07.594798Z"
    }
   },
   "outputs": [],
   "source": [
    "exp_df['Year'] = exp_df['Year'].astype(int)\n",
    "\n",
    "exp_df = exp_df[exp_df['Year']==2019]\n",
    "\n",
    "exp_df.columns = [col.lower() for col in exp_df.columns]\n",
    "\n",
    "exp_df.rename({'both sexes': 'life_expectancy'}, axis=1, inplace=True)"
   ]
  },
  {
   "cell_type": "code",
   "execution_count": 26,
   "metadata": {
    "ExecuteTime": {
     "end_time": "2022-01-24T13:58:14.346372Z",
     "start_time": "2022-01-24T13:58:14.317811Z"
    }
   },
   "outputs": [
    {
     "data": {
      "text/html": [
       "<div>\n",
       "<style scoped>\n",
       "    .dataframe tbody tr th:only-of-type {\n",
       "        vertical-align: middle;\n",
       "    }\n",
       "\n",
       "    .dataframe tbody tr th {\n",
       "        vertical-align: top;\n",
       "    }\n",
       "\n",
       "    .dataframe thead th {\n",
       "        text-align: right;\n",
       "    }\n",
       "</style>\n",
       "<table border=\"1\" class=\"dataframe\">\n",
       "  <thead>\n",
       "    <tr style=\"text-align: right;\">\n",
       "      <th></th>\n",
       "      <th>country</th>\n",
       "      <th>year</th>\n",
       "      <th>life_expectancy</th>\n",
       "    </tr>\n",
       "  </thead>\n",
       "  <tbody>\n",
       "    <tr>\n",
       "      <th>1</th>\n",
       "      <td>Afghanistan</td>\n",
       "      <td>2019</td>\n",
       "      <td>63.2</td>\n",
       "    </tr>\n",
       "    <tr>\n",
       "      <th>5</th>\n",
       "      <td>Albania</td>\n",
       "      <td>2019</td>\n",
       "      <td>78.0</td>\n",
       "    </tr>\n",
       "  </tbody>\n",
       "</table>\n",
       "</div>"
      ],
      "text/plain": [
       "       country  year life_expectancy\n",
       "1  Afghanistan  2019            63.2\n",
       "5      Albania  2019            78.0"
      ]
     },
     "execution_count": 26,
     "metadata": {},
     "output_type": "execute_result"
    }
   ],
   "source": [
    "exp_df.head(2)"
   ]
  },
  {
   "cell_type": "code",
   "execution_count": 27,
   "metadata": {
    "ExecuteTime": {
     "end_time": "2022-01-24T13:58:56.828401Z",
     "start_time": "2022-01-24T13:58:56.805417Z"
    }
   },
   "outputs": [],
   "source": [
    "exp_df.to_csv('../../data/intermediate/life_expectancy.csv', index=None)"
   ]
  },
  {
   "cell_type": "code",
   "execution_count": null,
   "metadata": {},
   "outputs": [],
   "source": []
  },
  {
   "cell_type": "code",
   "execution_count": null,
   "metadata": {},
   "outputs": [],
   "source": []
  }
 ],
 "metadata": {
  "kernelspec": {
   "display_name": "country-comparison",
   "language": "python",
   "name": "country-comparison"
  },
  "language_info": {
   "codemirror_mode": {
    "name": "ipython",
    "version": 3
   },
   "file_extension": ".py",
   "mimetype": "text/x-python",
   "name": "python",
   "nbconvert_exporter": "python",
   "pygments_lexer": "ipython3",
   "version": "3.7.4"
  }
 },
 "nbformat": 4,
 "nbformat_minor": 4
}
