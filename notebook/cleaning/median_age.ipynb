{
 "cells": [
  {
   "cell_type": "code",
   "execution_count": 1,
   "metadata": {
    "ExecuteTime": {
     "end_time": "2022-01-31T14:51:36.193879Z",
     "start_time": "2022-01-31T14:51:35.433918Z"
    }
   },
   "outputs": [],
   "source": [
    "import pandas as pd\n",
    "from sklearn.preprocessing import MinMaxScaler\n",
    "\n",
    "pd.options.display.max_columns=500\n",
    "pd.options.display.max_rows=500\n",
    "pd.options.display.max_colwidth=500"
   ]
  },
  {
   "cell_type": "code",
   "execution_count": 14,
   "metadata": {
    "ExecuteTime": {
     "end_time": "2022-01-31T15:55:16.338415Z",
     "start_time": "2022-01-31T15:55:15.463340Z"
    }
   },
   "outputs": [],
   "source": [
    "age_df = pd.read_excel('../../data/input/median_age.xlsx')"
   ]
  },
  {
   "cell_type": "code",
   "execution_count": 15,
   "metadata": {
    "ExecuteTime": {
     "end_time": "2022-01-31T15:55:16.344033Z",
     "start_time": "2022-01-31T15:55:16.339619Z"
    }
   },
   "outputs": [
    {
     "data": {
      "text/plain": [
       "Index(['Index', 'Variant', 'Region, subregion, country or area *', 'Notes',\n",
       "       'Country code', 'Type', 'Parent code', '1950', '1955', '1960', '1965',\n",
       "       '1970', '1975', '1980', '1985', '1990', '1995', '2000', '2005', '2010',\n",
       "       '2015', '2020'],\n",
       "      dtype='object')"
      ]
     },
     "execution_count": 15,
     "metadata": {},
     "output_type": "execute_result"
    }
   ],
   "source": [
    "age_df.columns"
   ]
  },
  {
   "cell_type": "code",
   "execution_count": 16,
   "metadata": {
    "ExecuteTime": {
     "end_time": "2022-01-31T15:55:16.733916Z",
     "start_time": "2022-01-31T15:55:16.714249Z"
    }
   },
   "outputs": [
    {
     "data": {
      "text/html": [
       "<div>\n",
       "<style scoped>\n",
       "    .dataframe tbody tr th:only-of-type {\n",
       "        vertical-align: middle;\n",
       "    }\n",
       "\n",
       "    .dataframe tbody tr th {\n",
       "        vertical-align: top;\n",
       "    }\n",
       "\n",
       "    .dataframe thead th {\n",
       "        text-align: right;\n",
       "    }\n",
       "</style>\n",
       "<table border=\"1\" class=\"dataframe\">\n",
       "  <thead>\n",
       "    <tr style=\"text-align: right;\">\n",
       "      <th></th>\n",
       "      <th>Index</th>\n",
       "      <th>Variant</th>\n",
       "      <th>Region, subregion, country or area *</th>\n",
       "      <th>Notes</th>\n",
       "      <th>Country code</th>\n",
       "      <th>Type</th>\n",
       "      <th>Parent code</th>\n",
       "      <th>1950</th>\n",
       "      <th>1955</th>\n",
       "      <th>1960</th>\n",
       "      <th>1965</th>\n",
       "      <th>1970</th>\n",
       "      <th>1975</th>\n",
       "      <th>1980</th>\n",
       "      <th>1985</th>\n",
       "      <th>1990</th>\n",
       "      <th>1995</th>\n",
       "      <th>2000</th>\n",
       "      <th>2005</th>\n",
       "      <th>2010</th>\n",
       "      <th>2015</th>\n",
       "      <th>2020</th>\n",
       "    </tr>\n",
       "  </thead>\n",
       "  <tbody>\n",
       "    <tr>\n",
       "      <th>0</th>\n",
       "      <td>1</td>\n",
       "      <td>Estimates</td>\n",
       "      <td>WORLD</td>\n",
       "      <td>NaN</td>\n",
       "      <td>900</td>\n",
       "      <td>World</td>\n",
       "      <td>0</td>\n",
       "      <td>23.56936</td>\n",
       "      <td>23.106048</td>\n",
       "      <td>22.647776</td>\n",
       "      <td>21.963829</td>\n",
       "      <td>21.511498</td>\n",
       "      <td>21.869128</td>\n",
       "      <td>22.585277</td>\n",
       "      <td>23.307065</td>\n",
       "      <td>24.045973</td>\n",
       "      <td>25.139513</td>\n",
       "      <td>26.335661</td>\n",
       "      <td>27.417172</td>\n",
       "      <td>28.476663</td>\n",
       "      <td>29.591846</td>\n",
       "      <td>30.903958</td>\n",
       "    </tr>\n",
       "    <tr>\n",
       "      <th>1</th>\n",
       "      <td>2</td>\n",
       "      <td>Estimates</td>\n",
       "      <td>UN development groups</td>\n",
       "      <td>a</td>\n",
       "      <td>1803</td>\n",
       "      <td>Label/Separator</td>\n",
       "      <td>900</td>\n",
       "      <td>...</td>\n",
       "      <td>...</td>\n",
       "      <td>...</td>\n",
       "      <td>...</td>\n",
       "      <td>...</td>\n",
       "      <td>...</td>\n",
       "      <td>...</td>\n",
       "      <td>...</td>\n",
       "      <td>...</td>\n",
       "      <td>...</td>\n",
       "      <td>...</td>\n",
       "      <td>...</td>\n",
       "      <td>...</td>\n",
       "      <td>...</td>\n",
       "      <td>...</td>\n",
       "    </tr>\n",
       "    <tr>\n",
       "      <th>2</th>\n",
       "      <td>3</td>\n",
       "      <td>Estimates</td>\n",
       "      <td>More developed regions</td>\n",
       "      <td>b</td>\n",
       "      <td>901</td>\n",
       "      <td>Development Group</td>\n",
       "      <td>1803</td>\n",
       "      <td>28.489103</td>\n",
       "      <td>28.97032</td>\n",
       "      <td>29.526788</td>\n",
       "      <td>29.872883</td>\n",
       "      <td>30.571881</td>\n",
       "      <td>30.921712</td>\n",
       "      <td>31.894503</td>\n",
       "      <td>33.064865</td>\n",
       "      <td>34.361243</td>\n",
       "      <td>35.7717</td>\n",
       "      <td>37.285229</td>\n",
       "      <td>38.675822</td>\n",
       "      <td>39.854854</td>\n",
       "      <td>40.971891</td>\n",
       "      <td>41.993498</td>\n",
       "    </tr>\n",
       "    <tr>\n",
       "      <th>3</th>\n",
       "      <td>4</td>\n",
       "      <td>Estimates</td>\n",
       "      <td>Less developed regions</td>\n",
       "      <td>c</td>\n",
       "      <td>902</td>\n",
       "      <td>Development Group</td>\n",
       "      <td>1803</td>\n",
       "      <td>21.423731</td>\n",
       "      <td>20.650562</td>\n",
       "      <td>19.987384</td>\n",
       "      <td>19.153119</td>\n",
       "      <td>18.841958</td>\n",
       "      <td>19.280559</td>\n",
       "      <td>19.948303</td>\n",
       "      <td>20.849691</td>\n",
       "      <td>21.760327</td>\n",
       "      <td>22.93022</td>\n",
       "      <td>24.106313</td>\n",
       "      <td>25.162743</td>\n",
       "      <td>26.408653</td>\n",
       "      <td>27.726705</td>\n",
       "      <td>29.041936</td>\n",
       "    </tr>\n",
       "    <tr>\n",
       "      <th>4</th>\n",
       "      <td>5</td>\n",
       "      <td>Estimates</td>\n",
       "      <td>Least developed countries</td>\n",
       "      <td>d</td>\n",
       "      <td>941</td>\n",
       "      <td>Development Group</td>\n",
       "      <td>902</td>\n",
       "      <td>19.296039</td>\n",
       "      <td>19.077962</td>\n",
       "      <td>18.746827</td>\n",
       "      <td>18.290355</td>\n",
       "      <td>17.894366</td>\n",
       "      <td>17.687461</td>\n",
       "      <td>17.526491</td>\n",
       "      <td>17.449792</td>\n",
       "      <td>17.561416</td>\n",
       "      <td>17.880757</td>\n",
       "      <td>18.184558</td>\n",
       "      <td>18.590063</td>\n",
       "      <td>18.976184</td>\n",
       "      <td>19.52421</td>\n",
       "      <td>20.291064</td>\n",
       "    </tr>\n",
       "  </tbody>\n",
       "</table>\n",
       "</div>"
      ],
      "text/plain": [
       "   Index    Variant Region, subregion, country or area * Notes  Country code  \\\n",
       "0      1  Estimates                                WORLD   NaN           900   \n",
       "1      2  Estimates                UN development groups     a          1803   \n",
       "2      3  Estimates               More developed regions     b           901   \n",
       "3      4  Estimates               Less developed regions     c           902   \n",
       "4      5  Estimates            Least developed countries     d           941   \n",
       "\n",
       "                Type  Parent code       1950       1955       1960       1965  \\\n",
       "0              World            0   23.56936  23.106048  22.647776  21.963829   \n",
       "1    Label/Separator          900        ...        ...        ...        ...   \n",
       "2  Development Group         1803  28.489103   28.97032  29.526788  29.872883   \n",
       "3  Development Group         1803  21.423731  20.650562  19.987384  19.153119   \n",
       "4  Development Group          902  19.296039  19.077962  18.746827  18.290355   \n",
       "\n",
       "        1970       1975       1980       1985       1990       1995  \\\n",
       "0  21.511498  21.869128  22.585277  23.307065  24.045973  25.139513   \n",
       "1        ...        ...        ...        ...        ...        ...   \n",
       "2  30.571881  30.921712  31.894503  33.064865  34.361243    35.7717   \n",
       "3  18.841958  19.280559  19.948303  20.849691  21.760327   22.93022   \n",
       "4  17.894366  17.687461  17.526491  17.449792  17.561416  17.880757   \n",
       "\n",
       "        2000       2005       2010       2015       2020  \n",
       "0  26.335661  27.417172  28.476663  29.591846  30.903958  \n",
       "1        ...        ...        ...        ...        ...  \n",
       "2  37.285229  38.675822  39.854854  40.971891  41.993498  \n",
       "3  24.106313  25.162743  26.408653  27.726705  29.041936  \n",
       "4  18.184558  18.590063  18.976184   19.52421  20.291064  "
      ]
     },
     "execution_count": 16,
     "metadata": {},
     "output_type": "execute_result"
    }
   ],
   "source": [
    "age_df.head()"
   ]
  },
  {
   "cell_type": "code",
   "execution_count": 19,
   "metadata": {
    "ExecuteTime": {
     "end_time": "2022-01-31T16:09:41.203704Z",
     "start_time": "2022-01-31T16:09:41.175498Z"
    },
    "scrolled": true
   },
   "outputs": [
    {
     "data": {
      "text/plain": [
       "Country/Area         201\n",
       "Subregion             20\n",
       "SDG region             8\n",
       "Income Group           6\n",
       "Region                 6\n",
       "Development Group      5\n",
       "Label/Separator        4\n",
       "Special other          2\n",
       "SDG subregion          2\n",
       "World                  1\n",
       "Name: Type, dtype: int64"
      ]
     },
     "execution_count": 19,
     "metadata": {},
     "output_type": "execute_result"
    }
   ],
   "source": [
    "age_df['Type'].value_counts()"
   ]
  },
  {
   "cell_type": "code",
   "execution_count": 23,
   "metadata": {
    "ExecuteTime": {
     "end_time": "2022-01-31T16:11:33.737502Z",
     "start_time": "2022-01-31T16:11:33.714857Z"
    }
   },
   "outputs": [],
   "source": [
    "age_df = age_df[age_df['Type']=='Country/Area']\n",
    "age_df.rename({'Region, subregion, country or area *': 'country'}, axis=1, inplace=True)"
   ]
  },
  {
   "cell_type": "code",
   "execution_count": 24,
   "metadata": {
    "ExecuteTime": {
     "end_time": "2022-01-31T16:11:34.469584Z",
     "start_time": "2022-01-31T16:11:34.407505Z"
    }
   },
   "outputs": [
    {
     "data": {
      "text/html": [
       "<div>\n",
       "<style scoped>\n",
       "    .dataframe tbody tr th:only-of-type {\n",
       "        vertical-align: middle;\n",
       "    }\n",
       "\n",
       "    .dataframe tbody tr th {\n",
       "        vertical-align: top;\n",
       "    }\n",
       "\n",
       "    .dataframe thead th {\n",
       "        text-align: right;\n",
       "    }\n",
       "</style>\n",
       "<table border=\"1\" class=\"dataframe\">\n",
       "  <thead>\n",
       "    <tr style=\"text-align: right;\">\n",
       "      <th></th>\n",
       "      <th>Index</th>\n",
       "      <th>Variant</th>\n",
       "      <th>country</th>\n",
       "      <th>Notes</th>\n",
       "      <th>Country code</th>\n",
       "      <th>Type</th>\n",
       "      <th>Parent code</th>\n",
       "      <th>1950</th>\n",
       "      <th>1955</th>\n",
       "      <th>1960</th>\n",
       "      <th>1965</th>\n",
       "      <th>1970</th>\n",
       "      <th>1975</th>\n",
       "      <th>1980</th>\n",
       "      <th>1985</th>\n",
       "      <th>1990</th>\n",
       "      <th>1995</th>\n",
       "      <th>2000</th>\n",
       "      <th>2005</th>\n",
       "      <th>2010</th>\n",
       "      <th>2015</th>\n",
       "      <th>2020</th>\n",
       "    </tr>\n",
       "  </thead>\n",
       "  <tbody>\n",
       "    <tr>\n",
       "      <th>26</th>\n",
       "      <td>27</td>\n",
       "      <td>Estimates</td>\n",
       "      <td>Burundi</td>\n",
       "      <td>NaN</td>\n",
       "      <td>108</td>\n",
       "      <td>Country/Area</td>\n",
       "      <td>910</td>\n",
       "      <td>19.499</td>\n",
       "      <td>18.874</td>\n",
       "      <td>18.26</td>\n",
       "      <td>17.558</td>\n",
       "      <td>17.087</td>\n",
       "      <td>17.047</td>\n",
       "      <td>17.437</td>\n",
       "      <td>16.909</td>\n",
       "      <td>16.109</td>\n",
       "      <td>14.888</td>\n",
       "      <td>14.976</td>\n",
       "      <td>16.176</td>\n",
       "      <td>17.034</td>\n",
       "      <td>17.148</td>\n",
       "      <td>17.32</td>\n",
       "    </tr>\n",
       "    <tr>\n",
       "      <th>27</th>\n",
       "      <td>28</td>\n",
       "      <td>Estimates</td>\n",
       "      <td>Comoros</td>\n",
       "      <td>NaN</td>\n",
       "      <td>174</td>\n",
       "      <td>Country/Area</td>\n",
       "      <td>910</td>\n",
       "      <td>21.166</td>\n",
       "      <td>20.565</td>\n",
       "      <td>19.638</td>\n",
       "      <td>18.532</td>\n",
       "      <td>17.703</td>\n",
       "      <td>17.537</td>\n",
       "      <td>17.452</td>\n",
       "      <td>17.181</td>\n",
       "      <td>16.976</td>\n",
       "      <td>17.148</td>\n",
       "      <td>17.695</td>\n",
       "      <td>18.42</td>\n",
       "      <td>19.122</td>\n",
       "      <td>19.707</td>\n",
       "      <td>20.37</td>\n",
       "    </tr>\n",
       "  </tbody>\n",
       "</table>\n",
       "</div>"
      ],
      "text/plain": [
       "    Index    Variant  country Notes  Country code          Type  Parent code  \\\n",
       "26     27  Estimates  Burundi   NaN           108  Country/Area          910   \n",
       "27     28  Estimates  Comoros   NaN           174  Country/Area          910   \n",
       "\n",
       "      1950    1955    1960    1965    1970    1975    1980    1985    1990  \\\n",
       "26  19.499  18.874   18.26  17.558  17.087  17.047  17.437  16.909  16.109   \n",
       "27  21.166  20.565  19.638  18.532  17.703  17.537  17.452  17.181  16.976   \n",
       "\n",
       "      1995    2000    2005    2010    2015   2020  \n",
       "26  14.888  14.976  16.176  17.034  17.148  17.32  \n",
       "27  17.148  17.695   18.42  19.122  19.707  20.37  "
      ]
     },
     "execution_count": 24,
     "metadata": {},
     "output_type": "execute_result"
    }
   ],
   "source": [
    "age_df.head(2)"
   ]
  },
  {
   "cell_type": "code",
   "execution_count": null,
   "metadata": {},
   "outputs": [],
   "source": []
  },
  {
   "cell_type": "code",
   "execution_count": 27,
   "metadata": {
    "ExecuteTime": {
     "end_time": "2022-01-31T16:49:17.192297Z",
     "start_time": "2022-01-31T16:49:17.174319Z"
    }
   },
   "outputs": [],
   "source": [
    "age_df['distance_to_30_years'] = age_df['2020'].map(lambda z: abs(float(z)-30))"
   ]
  },
  {
   "cell_type": "code",
   "execution_count": 29,
   "metadata": {
    "ExecuteTime": {
     "end_time": "2022-01-31T16:49:53.333753Z",
     "start_time": "2022-01-31T16:49:53.327418Z"
    }
   },
   "outputs": [],
   "source": [
    "age_df[['country', 'distance_to_30_years']].to_csv('../../data/intermediate/median_age_short.csv', index=None)"
   ]
  },
  {
   "cell_type": "code",
   "execution_count": null,
   "metadata": {},
   "outputs": [],
   "source": []
  },
  {
   "cell_type": "code",
   "execution_count": null,
   "metadata": {},
   "outputs": [],
   "source": []
  }
 ],
 "metadata": {
  "kernelspec": {
   "display_name": "country_comparison",
   "language": "python",
   "name": "country_comparison"
  },
  "language_info": {
   "codemirror_mode": {
    "name": "ipython",
    "version": 3
   },
   "file_extension": ".py",
   "mimetype": "text/x-python",
   "name": "python",
   "nbconvert_exporter": "python",
   "pygments_lexer": "ipython3",
   "version": "3.7.4"
  }
 },
 "nbformat": 4,
 "nbformat_minor": 4
}
