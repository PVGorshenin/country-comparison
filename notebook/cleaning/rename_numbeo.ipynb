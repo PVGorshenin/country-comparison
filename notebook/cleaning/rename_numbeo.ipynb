{
 "cells": [
  {
   "cell_type": "code",
   "execution_count": 2,
   "metadata": {
    "ExecuteTime": {
     "end_time": "2022-01-24T12:22:24.372256Z",
     "start_time": "2022-01-24T12:22:24.144033Z"
    }
   },
   "outputs": [],
   "source": [
    "import pandas as pd\n",
    "\n",
    "pd.options.display.max_columns=500\n",
    "pd.options.display.max_rows=500\n",
    "pd.options.display.max_colwidth=500"
   ]
  },
  {
   "cell_type": "code",
   "execution_count": 51,
   "metadata": {
    "ExecuteTime": {
     "end_time": "2022-01-24T13:08:47.293547Z",
     "start_time": "2022-01-24T13:08:47.267946Z"
    }
   },
   "outputs": [],
   "source": [
    "df = pd.read_csv('../data/result/mega_table.csv')"
   ]
  },
  {
   "cell_type": "code",
   "execution_count": 52,
   "metadata": {
    "ExecuteTime": {
     "end_time": "2022-01-24T13:08:47.555593Z",
     "start_time": "2022-01-24T13:08:47.500400Z"
    }
   },
   "outputs": [
    {
     "data": {
      "text/html": [
       "<div>\n",
       "<style scoped>\n",
       "    .dataframe tbody tr th:only-of-type {\n",
       "        vertical-align: middle;\n",
       "    }\n",
       "\n",
       "    .dataframe tbody tr th {\n",
       "        vertical-align: top;\n",
       "    }\n",
       "\n",
       "    .dataframe thead th {\n",
       "        text-align: right;\n",
       "    }\n",
       "</style>\n",
       "<table border=\"1\" class=\"dataframe\">\n",
       "  <thead>\n",
       "    <tr style=\"text-align: right;\">\n",
       "      <th></th>\n",
       "      <th>Quality of Life Index</th>\n",
       "      <th>Purchasing Power Index</th>\n",
       "      <th>Safety Index</th>\n",
       "      <th>Health Care Index</th>\n",
       "      <th>Cost of Living Index</th>\n",
       "      <th>Property Price to Income Ratio</th>\n",
       "      <th>Traffic Commute Time Index</th>\n",
       "      <th>Pollution Index</th>\n",
       "      <th>Climate Index</th>\n",
       "      <th>country</th>\n",
       "      <th>gdp_ppp</th>\n",
       "      <th>homicide_rate</th>\n",
       "      <th>suicide_rate</th>\n",
       "    </tr>\n",
       "  </thead>\n",
       "  <tbody>\n",
       "    <tr>\n",
       "      <th>0</th>\n",
       "      <td>188.36</td>\n",
       "      <td>102.77</td>\n",
       "      <td>78.38</td>\n",
       "      <td>74.08</td>\n",
       "      <td>125.02</td>\n",
       "      <td>8.18</td>\n",
       "      <td>28.67</td>\n",
       "      <td>19.86</td>\n",
       "      <td>80.05</td>\n",
       "      <td>Switzerland</td>\n",
       "      <td>78111.508</td>\n",
       "      <td>0.6</td>\n",
       "      <td>9.8</td>\n",
       "    </tr>\n",
       "    <tr>\n",
       "      <th>1</th>\n",
       "      <td>186.25</td>\n",
       "      <td>86.43</td>\n",
       "      <td>73.78</td>\n",
       "      <td>79.79</td>\n",
       "      <td>88.53</td>\n",
       "      <td>7.00</td>\n",
       "      <td>28.69</td>\n",
       "      <td>21.29</td>\n",
       "      <td>81.80</td>\n",
       "      <td>Denmark</td>\n",
       "      <td>63404.856</td>\n",
       "      <td>1.0</td>\n",
       "      <td>7.6</td>\n",
       "    </tr>\n",
       "  </tbody>\n",
       "</table>\n",
       "</div>"
      ],
      "text/plain": [
       "   Quality of Life Index  Purchasing Power Index  Safety Index  \\\n",
       "0                 188.36                  102.77         78.38   \n",
       "1                 186.25                   86.43         73.78   \n",
       "\n",
       "   Health Care Index  Cost of Living Index  Property Price to Income Ratio  \\\n",
       "0              74.08                125.02                            8.18   \n",
       "1              79.79                 88.53                            7.00   \n",
       "\n",
       "   Traffic Commute Time Index  Pollution Index  Climate Index      country  \\\n",
       "0                       28.67            19.86          80.05  Switzerland   \n",
       "1                       28.69            21.29          81.80      Denmark   \n",
       "\n",
       "     gdp_ppp  homicide_rate  suicide_rate  \n",
       "0  78111.508            0.6           9.8  \n",
       "1  63404.856            1.0           7.6  "
      ]
     },
     "execution_count": 52,
     "metadata": {},
     "output_type": "execute_result"
    }
   ],
   "source": [
    "df.head(2)"
   ]
  },
  {
   "cell_type": "code",
   "execution_count": 53,
   "metadata": {
    "ExecuteTime": {
     "end_time": "2022-01-24T13:08:47.711147Z",
     "start_time": "2022-01-24T13:08:47.702344Z"
    }
   },
   "outputs": [],
   "source": [
    "numbeo_src_cols = [col for col in df.columns if ' ' in col]\n",
    "numbeo_cols = [col.lower().replace(' ', '_') for col in numbeo_src_cols]\n",
    "numbeo_cols = [col.replace('index', 'numbeo') for col in numbeo_cols]\n",
    "numbeo_cols = [col.replace('ratio', 'numbeo') for col in numbeo_cols]"
   ]
  },
  {
   "cell_type": "code",
   "execution_count": 54,
   "metadata": {
    "ExecuteTime": {
     "end_time": "2022-01-24T13:08:48.095712Z",
     "start_time": "2022-01-24T13:08:48.089412Z"
    }
   },
   "outputs": [],
   "source": [
    "rename_dct = {}\n",
    "for feature in zip(numbeo_src_cols, numbeo_cols):\n",
    "    rename_dct[feature[0]] = feature[1]"
   ]
  },
  {
   "cell_type": "code",
   "execution_count": 55,
   "metadata": {
    "ExecuteTime": {
     "end_time": "2022-01-24T13:08:48.400318Z",
     "start_time": "2022-01-24T13:08:48.392872Z"
    }
   },
   "outputs": [],
   "source": [
    "df.rename(rename_dct, axis=1, inplace=True)"
   ]
  },
  {
   "cell_type": "code",
   "execution_count": 56,
   "metadata": {
    "ExecuteTime": {
     "end_time": "2022-01-24T13:08:48.868124Z",
     "start_time": "2022-01-24T13:08:48.814419Z"
    }
   },
   "outputs": [
    {
     "data": {
      "text/html": [
       "<div>\n",
       "<style scoped>\n",
       "    .dataframe tbody tr th:only-of-type {\n",
       "        vertical-align: middle;\n",
       "    }\n",
       "\n",
       "    .dataframe tbody tr th {\n",
       "        vertical-align: top;\n",
       "    }\n",
       "\n",
       "    .dataframe thead th {\n",
       "        text-align: right;\n",
       "    }\n",
       "</style>\n",
       "<table border=\"1\" class=\"dataframe\">\n",
       "  <thead>\n",
       "    <tr style=\"text-align: right;\">\n",
       "      <th></th>\n",
       "      <th>quality_of_life_numbeo</th>\n",
       "      <th>purchasing_power_numbeo</th>\n",
       "      <th>safety_numbeo</th>\n",
       "      <th>health_care_numbeo</th>\n",
       "      <th>cost_of_living_numbeo</th>\n",
       "      <th>property_price_to_income_numbeo</th>\n",
       "      <th>traffic_commute_time_numbeo</th>\n",
       "      <th>pollution_numbeo</th>\n",
       "      <th>climate_numbeo</th>\n",
       "      <th>country</th>\n",
       "      <th>gdp_ppp</th>\n",
       "      <th>homicide_rate</th>\n",
       "      <th>suicide_rate</th>\n",
       "    </tr>\n",
       "  </thead>\n",
       "  <tbody>\n",
       "    <tr>\n",
       "      <th>0</th>\n",
       "      <td>188.36</td>\n",
       "      <td>102.77</td>\n",
       "      <td>78.38</td>\n",
       "      <td>74.08</td>\n",
       "      <td>125.02</td>\n",
       "      <td>8.18</td>\n",
       "      <td>28.67</td>\n",
       "      <td>19.86</td>\n",
       "      <td>80.05</td>\n",
       "      <td>Switzerland</td>\n",
       "      <td>78111.508</td>\n",
       "      <td>0.6</td>\n",
       "      <td>9.8</td>\n",
       "    </tr>\n",
       "    <tr>\n",
       "      <th>1</th>\n",
       "      <td>186.25</td>\n",
       "      <td>86.43</td>\n",
       "      <td>73.78</td>\n",
       "      <td>79.79</td>\n",
       "      <td>88.53</td>\n",
       "      <td>7.00</td>\n",
       "      <td>28.69</td>\n",
       "      <td>21.29</td>\n",
       "      <td>81.80</td>\n",
       "      <td>Denmark</td>\n",
       "      <td>63404.856</td>\n",
       "      <td>1.0</td>\n",
       "      <td>7.6</td>\n",
       "    </tr>\n",
       "  </tbody>\n",
       "</table>\n",
       "</div>"
      ],
      "text/plain": [
       "   quality_of_life_numbeo  purchasing_power_numbeo  safety_numbeo  \\\n",
       "0                  188.36                   102.77          78.38   \n",
       "1                  186.25                    86.43          73.78   \n",
       "\n",
       "   health_care_numbeo  cost_of_living_numbeo  property_price_to_income_numbeo  \\\n",
       "0               74.08                 125.02                             8.18   \n",
       "1               79.79                  88.53                             7.00   \n",
       "\n",
       "   traffic_commute_time_numbeo  pollution_numbeo  climate_numbeo      country  \\\n",
       "0                        28.67             19.86           80.05  Switzerland   \n",
       "1                        28.69             21.29           81.80      Denmark   \n",
       "\n",
       "     gdp_ppp  homicide_rate  suicide_rate  \n",
       "0  78111.508            0.6           9.8  \n",
       "1  63404.856            1.0           7.6  "
      ]
     },
     "execution_count": 56,
     "metadata": {},
     "output_type": "execute_result"
    }
   ],
   "source": [
    "df.head(2)"
   ]
  },
  {
   "cell_type": "code",
   "execution_count": 57,
   "metadata": {
    "ExecuteTime": {
     "end_time": "2022-01-24T13:08:49.849026Z",
     "start_time": "2022-01-24T13:08:49.842429Z"
    }
   },
   "outputs": [],
   "source": [
    "df.to_csv('../data/result/mega_table.csv', index=None)"
   ]
  },
  {
   "cell_type": "code",
   "execution_count": 58,
   "metadata": {
    "ExecuteTime": {
     "end_time": "2022-01-24T13:08:50.890162Z",
     "start_time": "2022-01-24T13:08:50.886414Z"
    }
   },
   "outputs": [
    {
     "data": {
      "text/plain": [
       "{'Quality of Life Index': 'quality_of_life_numbeo',\n",
       " 'Purchasing Power Index': 'purchasing_power_numbeo',\n",
       " 'Safety Index': 'safety_numbeo',\n",
       " 'Health Care Index': 'health_care_numbeo',\n",
       " 'Cost of Living Index': 'cost_of_living_numbeo',\n",
       " 'Property Price to Income Ratio': 'property_price_to_income_numbeo',\n",
       " 'Traffic Commute Time Index': 'traffic_commute_time_numbeo',\n",
       " 'Pollution Index': 'pollution_numbeo',\n",
       " 'Climate Index': 'climate_numbeo'}"
      ]
     },
     "execution_count": 58,
     "metadata": {},
     "output_type": "execute_result"
    }
   ],
   "source": [
    "rename_dct"
   ]
  },
  {
   "cell_type": "code",
   "execution_count": null,
   "metadata": {},
   "outputs": [],
   "source": []
  },
  {
   "cell_type": "code",
   "execution_count": null,
   "metadata": {},
   "outputs": [],
   "source": []
  }
 ],
 "metadata": {
  "kernelspec": {
   "display_name": "country-comparison",
   "language": "python",
   "name": "country-comparison"
  },
  "language_info": {
   "codemirror_mode": {
    "name": "ipython",
    "version": 3
   },
   "file_extension": ".py",
   "mimetype": "text/x-python",
   "name": "python",
   "nbconvert_exporter": "python",
   "pygments_lexer": "ipython3",
   "version": "3.7.4"
  }
 },
 "nbformat": 4,
 "nbformat_minor": 4
}
