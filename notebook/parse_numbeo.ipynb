{
 "cells": [
  {
   "cell_type": "code",
   "execution_count": 68,
   "metadata": {
    "ExecuteTime": {
     "end_time": "2022-01-04T11:09:52.933242Z",
     "start_time": "2022-01-04T11:09:52.586142Z"
    }
   },
   "outputs": [],
   "source": [
    "from bs4 import BeautifulSoup\n",
    "import pandas as pd\n",
    "import requests"
   ]
  },
  {
   "cell_type": "code",
   "execution_count": 4,
   "metadata": {
    "ExecuteTime": {
     "end_time": "2022-01-03T17:43:50.460151Z",
     "start_time": "2022-01-03T17:43:49.364201Z"
    }
   },
   "outputs": [],
   "source": [
    "r = requests.get('https://www.numbeo.com/quality-of-life/rankings_by_country.jsp')\n",
    "\n",
    "soup = BeautifulSoup(r.text, 'html.parser')\n",
    "numbeo_cols = soup.find_all('tr')[1]"
   ]
  },
  {
   "cell_type": "code",
   "execution_count": 36,
   "metadata": {
    "ExecuteTime": {
     "end_time": "2022-01-04T10:47:43.413858Z",
     "start_time": "2022-01-04T10:47:43.405977Z"
    }
   },
   "outputs": [],
   "source": [
    "numbeo_dict = {}\n",
    "for col in numbeo_cols.find_all('th'):\n",
    "    numbeo_dict[col.text] = []"
   ]
  },
  {
   "cell_type": "code",
   "execution_count": 60,
   "metadata": {
    "ExecuteTime": {
     "end_time": "2022-01-04T11:06:39.550325Z",
     "start_time": "2022-01-04T11:06:39.523706Z"
    }
   },
   "outputs": [],
   "source": [
    "for country in soup.find_all('tr')[2:]:\n",
    "    for i, feature in enumerate(country.find_all('td')):\n",
    "        numbeo_dict[list(numbeo_dict.keys())[i]].append(feature.text)"
   ]
  },
  {
   "cell_type": "code",
   "execution_count": 66,
   "metadata": {
    "ExecuteTime": {
     "end_time": "2022-01-04T11:07:32.445340Z",
     "start_time": "2022-01-04T11:07:32.428854Z"
    }
   },
   "outputs": [
    {
     "data": {
      "text/plain": [
       "'Nigeria'"
      ]
     },
     "execution_count": 66,
     "metadata": {},
     "output_type": "execute_result"
    }
   ],
   "source": [
    "country.find_all('td')[1].text"
   ]
  },
  {
   "cell_type": "code",
   "execution_count": 71,
   "metadata": {
    "ExecuteTime": {
     "end_time": "2022-01-04T11:21:10.415715Z",
     "start_time": "2022-01-04T11:21:10.400674Z"
    }
   },
   "outputs": [],
   "source": [
    "numbeo_df = pd.DataFrame(numbeo_dict)\n",
    "numbeo_df.drop('Rank', axis=1, inplace=True)"
   ]
  },
  {
   "cell_type": "code",
   "execution_count": 73,
   "metadata": {
    "ExecuteTime": {
     "end_time": "2022-01-04T11:21:46.878846Z",
     "start_time": "2022-01-04T11:21:46.863712Z"
    }
   },
   "outputs": [],
   "source": [
    "numbeo_df.to_csv('../data/intermediate/numbeo.csv', index=None)"
   ]
  },
  {
   "cell_type": "code",
   "execution_count": null,
   "metadata": {},
   "outputs": [],
   "source": []
  },
  {
   "cell_type": "code",
   "execution_count": null,
   "metadata": {},
   "outputs": [],
   "source": []
  },
  {
   "cell_type": "code",
   "execution_count": null,
   "metadata": {},
   "outputs": [],
   "source": []
  }
 ],
 "metadata": {
  "kernelspec": {
   "display_name": "country-comparison",
   "language": "python",
   "name": "country-comparison"
  },
  "language_info": {
   "codemirror_mode": {
    "name": "ipython",
    "version": 3
   },
   "file_extension": ".py",
   "mimetype": "text/x-python",
   "name": "python",
   "nbconvert_exporter": "python",
   "pygments_lexer": "ipython3",
   "version": "3.7.6"
  }
 },
 "nbformat": 4,
 "nbformat_minor": 4
}
